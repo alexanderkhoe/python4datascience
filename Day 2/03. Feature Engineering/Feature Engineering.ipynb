{
 "cells": [
  {
   "cell_type": "markdown",
   "metadata": {},
   "source": [
    "### Feature Engineering for Machine Learning in Python"
   ]
  },
  {
   "cell_type": "markdown",
   "metadata": {},
   "source": [
    "Course Description\n",
    "\n",
    "Every day you read about the amazing breakthroughs in how the newest applications of machine learning are changing the world. Often this reporting glosses over the fact that a huge amount of data munging and feature engineering must be done before any of these fancy models can be used. In this course, you will learn how to do just that. You will work with Stack Overflow Developers survey, and historic US presidential inauguration addresses, to understand how best to preprocess and engineer features from categorical, continuous, and unstructured data. This course will give you hands-on experience on how to prepare any data for your own machine learning models."
   ]
  },
  {
   "cell_type": "markdown",
   "metadata": {},
   "source": [
    "### MODULE 1\n",
    "\n",
    "### Creating Features"
   ]
  },
  {
   "cell_type": "markdown",
   "metadata": {},
   "source": [
    "In this chapter, you will explore what feature engineering is and how to get started with applying it to real-world data. You will load, explore and visualize a survey response dataset, and in doing so you will learn about its underlying data types and why they have an influence on how you should engineer your features. Using the pandas package you will create new features from both categorical and continuous columns."
   ]
  },
  {
   "cell_type": "code",
   "execution_count": 1,
   "metadata": {
    "scrolled": true
   },
   "outputs": [
    {
     "data": {
      "text/html": [
       "<div>\n",
       "<style scoped>\n",
       "    .dataframe tbody tr th:only-of-type {\n",
       "        vertical-align: middle;\n",
       "    }\n",
       "\n",
       "    .dataframe tbody tr th {\n",
       "        vertical-align: top;\n",
       "    }\n",
       "\n",
       "    .dataframe thead th {\n",
       "        text-align: right;\n",
       "    }\n",
       "</style>\n",
       "<table border=\"1\" class=\"dataframe\">\n",
       "  <thead>\n",
       "    <tr style=\"text-align: right;\">\n",
       "      <th></th>\n",
       "      <th>SurveyDate</th>\n",
       "      <th>FormalEducation</th>\n",
       "      <th>ConvertedSalary</th>\n",
       "      <th>Hobby</th>\n",
       "      <th>Country</th>\n",
       "      <th>StackOverflowJobsRecommend</th>\n",
       "      <th>VersionControl</th>\n",
       "      <th>Age</th>\n",
       "      <th>Years Experience</th>\n",
       "      <th>Gender</th>\n",
       "      <th>RawSalary</th>\n",
       "    </tr>\n",
       "  </thead>\n",
       "  <tbody>\n",
       "    <tr>\n",
       "      <th>0</th>\n",
       "      <td>2/28/2018 20:20</td>\n",
       "      <td>Bachelor's degree (BA. BS. B.Eng.. etc.)</td>\n",
       "      <td>NaN</td>\n",
       "      <td>Yes</td>\n",
       "      <td>South Africa</td>\n",
       "      <td>NaN</td>\n",
       "      <td>Git</td>\n",
       "      <td>21</td>\n",
       "      <td>13</td>\n",
       "      <td>Male</td>\n",
       "      <td>NaN</td>\n",
       "    </tr>\n",
       "    <tr>\n",
       "      <th>1</th>\n",
       "      <td>6/28/2018 13:26</td>\n",
       "      <td>Bachelor's degree (BA. BS. B.Eng.. etc.)</td>\n",
       "      <td>70841.0</td>\n",
       "      <td>Yes</td>\n",
       "      <td>Sweeden</td>\n",
       "      <td>7.0</td>\n",
       "      <td>Git;Subversion</td>\n",
       "      <td>38</td>\n",
       "      <td>9</td>\n",
       "      <td>Male</td>\n",
       "      <td>70,841.00</td>\n",
       "    </tr>\n",
       "    <tr>\n",
       "      <th>2</th>\n",
       "      <td>6/6/2018 3:37</td>\n",
       "      <td>Bachelor's degree (BA. BS. B.Eng.. etc.)</td>\n",
       "      <td>NaN</td>\n",
       "      <td>No</td>\n",
       "      <td>Sweeden</td>\n",
       "      <td>8.0</td>\n",
       "      <td>Git</td>\n",
       "      <td>45</td>\n",
       "      <td>11</td>\n",
       "      <td>NaN</td>\n",
       "      <td>NaN</td>\n",
       "    </tr>\n",
       "    <tr>\n",
       "      <th>3</th>\n",
       "      <td>5/9/2018 1:06</td>\n",
       "      <td>Some college/university study without earning ...</td>\n",
       "      <td>21426.0</td>\n",
       "      <td>Yes</td>\n",
       "      <td>Sweeden</td>\n",
       "      <td>NaN</td>\n",
       "      <td>Zip file back-ups</td>\n",
       "      <td>46</td>\n",
       "      <td>12</td>\n",
       "      <td>Male</td>\n",
       "      <td>21,426.00</td>\n",
       "    </tr>\n",
       "    <tr>\n",
       "      <th>4</th>\n",
       "      <td>4/12/2018 22:41</td>\n",
       "      <td>Bachelor's degree (BA. BS. B.Eng.. etc.)</td>\n",
       "      <td>41671.0</td>\n",
       "      <td>Yes</td>\n",
       "      <td>UK</td>\n",
       "      <td>8.0</td>\n",
       "      <td>Git</td>\n",
       "      <td>39</td>\n",
       "      <td>7</td>\n",
       "      <td>Male</td>\n",
       "      <td>£41,671.00</td>\n",
       "    </tr>\n",
       "  </tbody>\n",
       "</table>\n",
       "</div>"
      ],
      "text/plain": [
       "        SurveyDate                                    FormalEducation  \\\n",
       "0  2/28/2018 20:20           Bachelor's degree (BA. BS. B.Eng.. etc.)   \n",
       "1  6/28/2018 13:26           Bachelor's degree (BA. BS. B.Eng.. etc.)   \n",
       "2    6/6/2018 3:37           Bachelor's degree (BA. BS. B.Eng.. etc.)   \n",
       "3    5/9/2018 1:06  Some college/university study without earning ...   \n",
       "4  4/12/2018 22:41           Bachelor's degree (BA. BS. B.Eng.. etc.)   \n",
       "\n",
       "   ConvertedSalary Hobby       Country  StackOverflowJobsRecommend  \\\n",
       "0              NaN   Yes  South Africa                         NaN   \n",
       "1          70841.0   Yes       Sweeden                         7.0   \n",
       "2              NaN    No       Sweeden                         8.0   \n",
       "3          21426.0   Yes       Sweeden                         NaN   \n",
       "4          41671.0   Yes            UK                         8.0   \n",
       "\n",
       "      VersionControl  Age  Years Experience Gender   RawSalary  \n",
       "0                Git   21                13   Male         NaN  \n",
       "1     Git;Subversion   38                 9   Male   70,841.00  \n",
       "2                Git   45                11    NaN         NaN  \n",
       "3  Zip file back-ups   46                12   Male   21,426.00  \n",
       "4                Git   39                 7   Male  £41,671.00  "
      ]
     },
     "execution_count": 1,
     "metadata": {},
     "output_type": "execute_result"
    }
   ],
   "source": [
    "## Getting to know your data\n",
    "\n",
    "# Import pandas\n",
    "import pandas as pd\n",
    "so_survey_csv = \"Combined_DS_v10.csv\"\n",
    "\n",
    "# Import so_survey_csv into so_survey_df\n",
    "so_survey_df = pd.read_csv(so_survey_csv)\n",
    "\n",
    "# Print the first five rows of the DataFrame\n",
    "so_survey_df.head()\n"
   ]
  },
  {
   "cell_type": "code",
   "execution_count": 4,
   "metadata": {},
   "outputs": [
    {
     "name": "stdout",
     "output_type": "stream",
     "text": [
      "SurveyDate                     object\n",
      "FormalEducation                object\n",
      "ConvertedSalary               float64\n",
      "Hobby                          object\n",
      "Country                        object\n",
      "StackOverflowJobsRecommend    float64\n",
      "VersionControl                 object\n",
      "Age                             int64\n",
      "Years Experience                int64\n",
      "Gender                         object\n",
      "RawSalary                      object\n",
      "dtype: object\n"
     ]
    }
   ],
   "source": [
    "# Print the data type of each column\n",
    "print(so_survey_df.dtypes)"
   ]
  },
  {
   "cell_type": "code",
   "execution_count": 2,
   "metadata": {},
   "outputs": [
    {
     "name": "stdout",
     "output_type": "stream",
     "text": [
      "<class 'pandas.core.frame.DataFrame'>\n",
      "RangeIndex: 999 entries, 0 to 998\n",
      "Data columns (total 11 columns):\n",
      " #   Column                      Non-Null Count  Dtype  \n",
      "---  ------                      --------------  -----  \n",
      " 0   SurveyDate                  999 non-null    object \n",
      " 1   FormalEducation             999 non-null    object \n",
      " 2   ConvertedSalary             665 non-null    float64\n",
      " 3   Hobby                       999 non-null    object \n",
      " 4   Country                     999 non-null    object \n",
      " 5   StackOverflowJobsRecommend  487 non-null    float64\n",
      " 6   VersionControl              999 non-null    object \n",
      " 7   Age                         999 non-null    int64  \n",
      " 8   Years Experience            999 non-null    int64  \n",
      " 9   Gender                      693 non-null    object \n",
      " 10  RawSalary                   665 non-null    object \n",
      "dtypes: float64(2), int64(2), object(7)\n",
      "memory usage: 86.0+ KB\n"
     ]
    }
   ],
   "source": [
    "so_survey_df.info()"
   ]
  },
  {
   "cell_type": "code",
   "execution_count": 3,
   "metadata": {},
   "outputs": [
    {
     "name": "stdout",
     "output_type": "stream",
     "text": [
      "Index(['ConvertedSalary', 'StackOverflowJobsRecommend', 'Age',\n",
      "       'Years Experience'],\n",
      "      dtype='object')\n"
     ]
    }
   ],
   "source": [
    "### Selecting specific data types\n",
    "\n",
    "# Create subset of only the numeric columns\n",
    "so_numeric_df = so_survey_df.select_dtypes(include=['int64', 'float'])\n",
    "\n",
    "# Print the column names contained in so_survey_df_num\n",
    "print(so_numeric_df.columns)"
   ]
  },
  {
   "cell_type": "code",
   "execution_count": 4,
   "metadata": {},
   "outputs": [
    {
     "name": "stdout",
     "output_type": "stream",
     "text": [
      "<class 'pandas.core.frame.DataFrame'>\n",
      "RangeIndex: 999 entries, 0 to 998\n",
      "Data columns (total 4 columns):\n",
      " #   Column                      Non-Null Count  Dtype  \n",
      "---  ------                      --------------  -----  \n",
      " 0   ConvertedSalary             665 non-null    float64\n",
      " 1   StackOverflowJobsRecommend  487 non-null    float64\n",
      " 2   Age                         999 non-null    int64  \n",
      " 3   Years Experience            999 non-null    int64  \n",
      "dtypes: float64(2), int64(2)\n",
      "memory usage: 31.3 KB\n"
     ]
    }
   ],
   "source": [
    "so_numeric_df.info()"
   ]
  },
  {
   "cell_type": "code",
   "execution_count": null,
   "metadata": {},
   "outputs": [],
   "source": []
  },
  {
   "cell_type": "code",
   "execution_count": 69,
   "metadata": {},
   "outputs": [
    {
     "name": "stdout",
     "output_type": "stream",
     "text": [
      "Index(['SurveyDate', 'FormalEducation', 'ConvertedSalary', 'Hobby',\n",
      "       'StackOverflowJobsRecommend', 'VersionControl', 'Age',\n",
      "       'Years Experience', 'Gender', 'RawSalary', 'DM_India', 'DM_Ireland',\n",
      "       'DM_Russia', 'DM_South Africa', 'DM_Spain', 'DM_Sweeden', 'DM_UK',\n",
      "       'DM_USA', 'DM_Ukraine'],\n",
      "      dtype='object')\n"
     ]
    }
   ],
   "source": [
    "### One-hot encoding and dummy variables\n",
    "\n",
    "# Create dummy variables for the Country column\n",
    "dummy = pd.get_dummies(so_survey_df, columns=['Country'], drop_first=True, prefix='DM')\n",
    "\n",
    "# Print the columns names\n",
    "print(dummy.columns)"
   ]
  },
  {
   "cell_type": "code",
   "execution_count": null,
   "metadata": {},
   "outputs": [],
   "source": []
  },
  {
   "cell_type": "code",
   "execution_count": 6,
   "metadata": {},
   "outputs": [
    {
     "name": "stdout",
     "output_type": "stream",
     "text": [
      "Other           301\n",
      "South Africa    166\n",
      "USA             164\n",
      "Spain           134\n",
      "Sweeden         119\n",
      "France          115\n",
      "Name: Country, dtype: int64\n"
     ]
    },
    {
     "name": "stderr",
     "output_type": "stream",
     "text": [
      "D:\\ProgramData\\Anaconda3\\envs\\recsys\\lib\\site-packages\\ipykernel_launcher.py:13: SettingWithCopyWarning: \n",
      "A value is trying to be set on a copy of a slice from a DataFrame\n",
      "\n",
      "See the caveats in the documentation: https://pandas.pydata.org/pandas-docs/stable/user_guide/indexing.html#returning-a-view-versus-a-copy\n",
      "  del sys.path[0]\n"
     ]
    }
   ],
   "source": [
    "### Dealing with uncommon categories\n",
    "\n",
    "# Create a series out of the Country column\n",
    "countries = so_survey_df['Country']\n",
    "\n",
    "# Get the counts of each category\n",
    "country_counts = countries.value_counts()\n",
    "\n",
    "# Create a mask for only categories that occur less than 10 times\n",
    "mask = countries.isin(country_counts[country_counts < 100].index)\n",
    "\n",
    "# Label all other categories as Other\n",
    "countries[mask] = 'Other'\n",
    "\n",
    "# Print the updated category counts\n",
    "print(pd.value_counts(countries))"
   ]
  },
  {
   "cell_type": "code",
   "execution_count": null,
   "metadata": {},
   "outputs": [],
   "source": []
  },
  {
   "cell_type": "code",
   "execution_count": 5,
   "metadata": {},
   "outputs": [
    {
     "name": "stdout",
     "output_type": "stream",
     "text": [
      "   Paid_Job  ConvertedSalary\n",
      "0         0              NaN\n",
      "1         1          70841.0\n",
      "2         0              NaN\n",
      "3         1          21426.0\n",
      "4         1          41671.0\n"
     ]
    }
   ],
   "source": [
    "### Binarizing columns\n",
    "\n",
    "# Create the Paid_Job column filled with zeros\n",
    "so_survey_df['Paid_Job'] = 0\n",
    "\n",
    "# Replace all the Paid_Job values where ConvertedSalary is > 0\n",
    "so_survey_df.loc[so_survey_df.ConvertedSalary > 0, 'Paid_Job'] = 1\n",
    "\n",
    "# Print the first five rows of the columns\n",
    "print(so_survey_df[['Paid_Job', 'ConvertedSalary']].head())"
   ]
  },
  {
   "cell_type": "code",
   "execution_count": null,
   "metadata": {},
   "outputs": [],
   "source": []
  },
  {
   "cell_type": "code",
   "execution_count": 7,
   "metadata": {},
   "outputs": [
    {
     "name": "stdout",
     "output_type": "stream",
     "text": [
      "  boundary_binned  ConvertedSalary\n",
      "0             NaN              NaN\n",
      "1          Medium          70841.0\n",
      "2             NaN              NaN\n",
      "3             Low          21426.0\n",
      "4             Low          41671.0\n"
     ]
    }
   ],
   "source": [
    "### Binning values\n",
    "\n",
    "# Import numpy\n",
    "import numpy as np\n",
    "\n",
    "# Specify the boundaries of the bins\n",
    "bins = [-np.inf, 10000, 50000, 100000, 150000, np.inf]\n",
    "\n",
    "# Bin labels\n",
    "labels = ['Very low', 'Low', 'Medium', 'High', 'Very high']\n",
    "\n",
    "# Bin the continuous variable ConvertedSalary using these boundaries\n",
    "so_survey_df['boundary_binned'] = pd.cut(so_survey_df['ConvertedSalary'], \n",
    "                                         bins, labels=labels)\n",
    "\n",
    "# Print the first 5 rows of the boundary_binned column\n",
    "print(so_survey_df[['boundary_binned', 'ConvertedSalary']].head())"
   ]
  },
  {
   "cell_type": "code",
   "execution_count": null,
   "metadata": {},
   "outputs": [],
   "source": []
  },
  {
   "cell_type": "markdown",
   "metadata": {},
   "source": [
    "### MODULE 2 \n",
    "\n",
    "#### Dealing with Messy Data"
   ]
  },
  {
   "cell_type": "code",
   "execution_count": null,
   "metadata": {},
   "outputs": [],
   "source": []
  },
  {
   "cell_type": "markdown",
   "metadata": {},
   "source": [
    "This chapter introduces you to the reality of messy and incomplete data. You will learn how to find where your data has missing values and explore multiple approaches on how to deal with them. You will also use string manipulation techniques to deal with unwanted characters in your dataset."
   ]
  },
  {
   "cell_type": "code",
   "execution_count": null,
   "metadata": {},
   "outputs": [],
   "source": []
  },
  {
   "cell_type": "code",
   "execution_count": 73,
   "metadata": {},
   "outputs": [
    {
     "name": "stdout",
     "output_type": "stream",
     "text": [
      "<class 'pandas.core.frame.DataFrame'>\n",
      "RangeIndex: 999 entries, 0 to 998\n",
      "Data columns (total 2 columns):\n",
      "Age       999 non-null int64\n",
      "Gender    693 non-null object\n",
      "dtypes: int64(1), object(1)\n",
      "memory usage: 15.7+ KB\n",
      "None\n"
     ]
    }
   ],
   "source": [
    "## How sparse is my data?\n",
    "\n",
    "# Subset the DataFrame\n",
    "sub_df = so_survey_df[['Age', 'Gender']]\n",
    "\n",
    "# Print the number of non-missing values\n",
    "print(sub_df.info())"
   ]
  },
  {
   "cell_type": "code",
   "execution_count": null,
   "metadata": {},
   "outputs": [],
   "source": []
  },
  {
   "cell_type": "code",
   "execution_count": 74,
   "metadata": {},
   "outputs": [
    {
     "name": "stdout",
     "output_type": "stream",
     "text": [
      "   Age  Gender\n",
      "0   21    Male\n",
      "1   38    Male\n",
      "2   45     NaN\n",
      "3   46    Male\n",
      "4   39    Male\n",
      "5   39    Male\n",
      "6   34    Male\n",
      "7   24  Female\n",
      "8   23    Male\n",
      "9   36     NaN\n",
      "     Age  Gender\n",
      "0  False   False\n",
      "1  False   False\n",
      "2  False    True\n",
      "3  False   False\n",
      "4  False   False\n",
      "5  False   False\n",
      "6  False   False\n",
      "7  False   False\n",
      "8  False   False\n",
      "9  False    True\n",
      "    Age  Gender\n",
      "0  True    True\n",
      "1  True    True\n",
      "2  True   False\n",
      "3  True    True\n",
      "4  True    True\n",
      "5  True    True\n",
      "6  True    True\n",
      "7  True    True\n",
      "8  True    True\n",
      "9  True   False\n"
     ]
    }
   ],
   "source": [
    "## Finding the missing values\n",
    "\n",
    "# Print the top 10 entries of the DataFrame\n",
    "print(sub_df.head(10))\n",
    "\n",
    "# Print the locations of the missing values\n",
    "print(sub_df.head(10).isnull())\n",
    "\n",
    "# Print the locations of the non-missing values\n",
    "print(sub_df.head(10).notnull())"
   ]
  },
  {
   "cell_type": "code",
   "execution_count": null,
   "metadata": {},
   "outputs": [],
   "source": []
  },
  {
   "cell_type": "code",
   "execution_count": 75,
   "metadata": {},
   "outputs": [
    {
     "name": "stdout",
     "output_type": "stream",
     "text": [
      "(999, 13)\n",
      "(264, 13)\n",
      "(999, 8)\n",
      "(693, 13)\n"
     ]
    }
   ],
   "source": [
    "### Listwise deletion\n",
    "\n",
    "##1\n",
    "# Print the number of rows and columns\n",
    "print(so_survey_df.shape)\n",
    "\n",
    "##2\n",
    "# Create a new DataFrame dropping all incomplete rows\n",
    "no_missing_values_rows = so_survey_df.dropna(how='any')\n",
    "\n",
    "# Print the shape of the new DataFrame\n",
    "print(no_missing_values_rows.shape)\n",
    "\n",
    "##3\n",
    "# Create a new DataFrame dropping all columns with incomplete rows\n",
    "no_missing_values_cols = so_survey_df.dropna(how='any', axis=1)\n",
    "\n",
    "# Print the shape of the new DataFrame\n",
    "print(no_missing_values_cols.shape)\n",
    "\n",
    "##4\n",
    "# Drop all rows where Gender is missing\n",
    "no_gender = so_survey_df.dropna(how='all', subset=['Gender'])\n",
    "\n",
    "# Print the shape of the new DataFrame\n",
    "print(no_gender.shape)"
   ]
  },
  {
   "cell_type": "code",
   "execution_count": null,
   "metadata": {},
   "outputs": [],
   "source": []
  },
  {
   "cell_type": "code",
   "execution_count": 76,
   "metadata": {},
   "outputs": [
    {
     "name": "stdout",
     "output_type": "stream",
     "text": [
      "Male                                                                         632\n",
      "Not Given                                                                    306\n",
      "Female                                                                        53\n",
      "Transgender                                                                    2\n",
      "Female;Male                                                                    2\n",
      "Male;Non-binary. genderqueer. or gender non-conforming                         1\n",
      "Non-binary. genderqueer. or gender non-conforming                              1\n",
      "Female;Transgender                                                             1\n",
      "Female;Male;Transgender;Non-binary. genderqueer. or gender non-conforming      1\n",
      "Name: Gender, dtype: int64\n"
     ]
    }
   ],
   "source": [
    "## Replacing missing values with constants\n",
    "\n",
    "# Replace missing values\n",
    "so_survey_df['Gender'].fillna('Not Given', inplace=True)\n",
    "\n",
    "# Print the count of each value\n",
    "print(so_survey_df['Gender'].value_counts())"
   ]
  },
  {
   "cell_type": "code",
   "execution_count": null,
   "metadata": {},
   "outputs": [],
   "source": []
  },
  {
   "cell_type": "code",
   "execution_count": 77,
   "metadata": {},
   "outputs": [
    {
     "name": "stdout",
     "output_type": "stream",
     "text": [
      "0    7.0\n",
      "1    7.0\n",
      "2    8.0\n",
      "3    7.0\n",
      "4    8.0\n",
      "Name: StackOverflowJobsRecommend, dtype: float64\n"
     ]
    }
   ],
   "source": [
    "## Filling continuous missing values\n",
    "\n",
    "# Fill missing values with the mean\n",
    "so_survey_df['StackOverflowJobsRecommend'].fillna(so_survey_df['StackOverflowJobsRecommend'].mean(), inplace=True)\n",
    "\n",
    "# Round the StackOverflowJobsRecommend values\n",
    "so_survey_df['StackOverflowJobsRecommend'] = round(so_survey_df['StackOverflowJobsRecommend'])\n",
    "\n",
    "# Print the top 5 rows\n",
    "print(so_survey_df['StackOverflowJobsRecommend'].head())"
   ]
  },
  {
   "cell_type": "code",
   "execution_count": null,
   "metadata": {},
   "outputs": [],
   "source": []
  },
  {
   "cell_type": "code",
   "execution_count": 78,
   "metadata": {},
   "outputs": [],
   "source": [
    "## Dealing with stray characters (I)\n",
    "\n",
    "# Remove the commas in the column\n",
    "so_survey_df['RawSalary'] = so_survey_df['RawSalary'].str.replace(',', '')\n",
    "\n",
    "# Remove the dollar signs in the column\n",
    "so_survey_df['RawSalary'] = so_survey_df['RawSalary'].str.replace('$', '')"
   ]
  },
  {
   "cell_type": "code",
   "execution_count": null,
   "metadata": {},
   "outputs": [],
   "source": []
  },
  {
   "cell_type": "code",
   "execution_count": 79,
   "metadata": {},
   "outputs": [
    {
     "name": "stdout",
     "output_type": "stream",
     "text": [
      "0            NaN\n",
      "2            NaN\n",
      "4      £41671.00\n",
      "6            NaN\n",
      "8            NaN\n",
      "         ...    \n",
      "989          NaN\n",
      "990          NaN\n",
      "992          NaN\n",
      "994          NaN\n",
      "997          NaN\n",
      "Name: RawSalary, Length: 401, dtype: object\n",
      "0            NaN\n",
      "1        70841.0\n",
      "2            NaN\n",
      "3        21426.0\n",
      "4        41671.0\n",
      "         ...    \n",
      "994          NaN\n",
      "995      58746.0\n",
      "996      55000.0\n",
      "997          NaN\n",
      "998    1000000.0\n",
      "Name: RawSalary, Length: 999, dtype: float64\n"
     ]
    }
   ],
   "source": [
    "## Dealing with stray characters (II)\n",
    "\n",
    "# Attempt to convert the column to numeric values\n",
    "numeric_vals = pd.to_numeric(so_survey_df['RawSalary'], errors='coerce')\n",
    "\n",
    "# Find the indexes of missing values\n",
    "idx = numeric_vals.isna()\n",
    "\n",
    "# Print the relevant rows\n",
    "print(so_survey_df['RawSalary'][idx])\n",
    "\n",
    "# Replace the offending characters\n",
    "so_survey_df['RawSalary'] = so_survey_df['RawSalary'].str.replace('£','')\n",
    "\n",
    "# Convert the column to float\n",
    "so_survey_df['RawSalary'] = so_survey_df['RawSalary'].astype(float)\n",
    "\n",
    "# Print the column\n",
    "print(so_survey_df['RawSalary'])"
   ]
  },
  {
   "cell_type": "code",
   "execution_count": 80,
   "metadata": {},
   "outputs": [],
   "source": [
    "so_survey_df['RawSalary'] = so_survey_df['RawSalary'].astype(str)"
   ]
  },
  {
   "cell_type": "code",
   "execution_count": 81,
   "metadata": {},
   "outputs": [
    {
     "name": "stdout",
     "output_type": "stream",
     "text": [
      "0            NaN\n",
      "1        70841.0\n",
      "2            NaN\n",
      "3        21426.0\n",
      "4        41671.0\n",
      "         ...    \n",
      "994          NaN\n",
      "995      58746.0\n",
      "996      55000.0\n",
      "997          NaN\n",
      "998    1000000.0\n",
      "Name: RawSalary, Length: 999, dtype: float64\n"
     ]
    }
   ],
   "source": [
    "# Replace the offending characters\n",
    "so_survey_df['RawSalary'] = so_survey_df['RawSalary'].str.replace(\"£\",'')\n",
    "\n",
    "# Convert the column to float\n",
    "so_survey_df['RawSalary'] = so_survey_df['RawSalary'].astype(float)\n",
    "\n",
    "# Print the column\n",
    "print(so_survey_df['RawSalary'])"
   ]
  },
  {
   "cell_type": "code",
   "execution_count": 82,
   "metadata": {},
   "outputs": [],
   "source": [
    "so_survey_df['RawSalary'] = so_survey_df['RawSalary'].astype(str)"
   ]
  },
  {
   "cell_type": "code",
   "execution_count": 83,
   "metadata": {},
   "outputs": [
    {
     "name": "stdout",
     "output_type": "stream",
     "text": [
      "0            NaN\n",
      "1        70841.0\n",
      "2            NaN\n",
      "3        21426.0\n",
      "4        41671.0\n",
      "         ...    \n",
      "994          NaN\n",
      "995      58746.0\n",
      "996      55000.0\n",
      "997          NaN\n",
      "998    1000000.0\n",
      "Name: RawSalary, Length: 999, dtype: float64\n"
     ]
    }
   ],
   "source": [
    "## Method chaining\n",
    "\n",
    "# Use method chaining\n",
    "so_survey_df['RawSalary'] = so_survey_df['RawSalary']\\\n",
    "                              .str.replace(\",\",'')\\\n",
    "                              .str.replace(\"$\",'')\\\n",
    "                              .str.replace(\"£\",'')\\\n",
    "                              .astype(float)\n",
    " \n",
    "# Print the RawSalary column\n",
    "print(so_survey_df['RawSalary'])"
   ]
  },
  {
   "cell_type": "code",
   "execution_count": null,
   "metadata": {},
   "outputs": [],
   "source": []
  },
  {
   "cell_type": "markdown",
   "metadata": {},
   "source": [
    "### MODULE 3\n",
    "\n",
    "## Conforming to Statistical Assumptions"
   ]
  },
  {
   "cell_type": "code",
   "execution_count": null,
   "metadata": {},
   "outputs": [],
   "source": []
  },
  {
   "cell_type": "markdown",
   "metadata": {},
   "source": [
    "In this chapter, you will focus on analyzing the underlying distribution of your data and whether it will impact your machine learning pipeline. You will learn how to deal with skewed data and situations where outliers may be negatively impacting your analysis."
   ]
  },
  {
   "cell_type": "code",
   "execution_count": null,
   "metadata": {},
   "outputs": [],
   "source": []
  },
  {
   "cell_type": "code",
   "execution_count": 84,
   "metadata": {},
   "outputs": [
    {
     "data": {
      "image/png": "[encoded data removed]",
      "text/plain": [
       "<Figure size 432x288 with 4 Axes>"
      ]
     },
     "metadata": {
      "needs_background": "light"
     },
     "output_type": "display_data"
    },
    {
     "data": {
      "image/png": "[encoded data removed]",
      "text/plain": [
       "<Figure size 432x288 with 1 Axes>"
      ]
     },
     "metadata": {
      "needs_background": "light"
     },
     "output_type": "display_data"
    },
    {
     "data": {
      "image/png": "[encoded data removed]",
      "text/plain": [
       "<Figure size 432x288 with 1 Axes>"
      ]
     },
     "metadata": {
      "needs_background": "light"
     },
     "output_type": "display_data"
    }
   ],
   "source": [
    "## What does your data look like? (I)\n",
    "import matplotlib.pyplot as plt\n",
    "\n",
    "# Create a histogram\n",
    "so_numeric_df.hist()\n",
    "plt.show()\n",
    "\n",
    "# Create a boxplot of two columns\n",
    "so_numeric_df[['Age', 'Years Experience']].boxplot()\n",
    "plt.show()\n",
    "\n",
    "# Create a boxplot of ConvertedSalary\n",
    "so_numeric_df[['ConvertedSalary']].boxplot()\n",
    "plt.show()"
   ]
  },
  {
   "cell_type": "code",
   "execution_count": null,
   "metadata": {},
   "outputs": [],
   "source": []
  },
  {
   "cell_type": "code",
   "execution_count": 85,
   "metadata": {},
   "outputs": [
    {
     "data": {
      "image/png": "[encoded data removed]",
      "text/plain": [
       "<Figure size 720x720 with 20 Axes>"
      ]
     },
     "metadata": {
      "needs_background": "light"
     },
     "output_type": "display_data"
    },
    {
     "name": "stdout",
     "output_type": "stream",
     "text": [
      "       ConvertedSalary  StackOverflowJobsRecommend         Age  \\\n",
      "count     6.650000e+02                  487.000000  999.000000   \n",
      "mean      9.256517e+04                    7.061602   36.003003   \n",
      "std       2.091344e+05                    2.621591   13.255127   \n",
      "min       0.000000e+00                    0.000000   18.000000   \n",
      "25%       2.755000e+04                    5.000000   25.000000   \n",
      "50%       5.556200e+04                    7.000000   35.000000   \n",
      "75%       8.823800e+04                   10.000000   45.000000   \n",
      "max       2.000000e+06                   10.000000   83.000000   \n",
      "\n",
      "       Years Experience  \n",
      "count        999.000000  \n",
      "mean           9.961962  \n",
      "std            4.878129  \n",
      "min            0.000000  \n",
      "25%            7.000000  \n",
      "50%           10.000000  \n",
      "75%           13.000000  \n",
      "max           27.000000  \n"
     ]
    }
   ],
   "source": [
    "### What does your data look like? (II)\n",
    "\n",
    "# Import packages\n",
    "import seaborn as sns\n",
    "import matplotlib.pyplot as plt\n",
    "\n",
    "# Plot pairwise relationships\n",
    "sns.pairplot(so_numeric_df)\n",
    "\n",
    "# Show plot\n",
    "plt.show()\n",
    "\n",
    "\n",
    "# Print summary statistics\n",
    "print(so_numeric_df.describe())"
   ]
  },
  {
   "cell_type": "code",
   "execution_count": null,
   "metadata": {},
   "outputs": [],
   "source": []
  },
  {
   "cell_type": "code",
   "execution_count": 86,
   "metadata": {},
   "outputs": [
    {
     "name": "stdout",
     "output_type": "stream",
     "text": [
      "     Age_MM  Age\n",
      "0  0.046154   21\n",
      "1  0.307692   38\n",
      "2  0.415385   45\n",
      "3  0.430769   46\n",
      "4  0.323077   39\n"
     ]
    },
    {
     "name": "stderr",
     "output_type": "stream",
     "text": [
      "d:\\programdata\\anaconda3\\envs\\recsys\\lib\\site-packages\\ipykernel_launcher.py:13: SettingWithCopyWarning: \n",
      "A value is trying to be set on a copy of a slice from a DataFrame.\n",
      "Try using .loc[row_indexer,col_indexer] = value instead\n",
      "\n",
      "See the caveats in the documentation: http://pandas.pydata.org/pandas-docs/stable/user_guide/indexing.html#returning-a-view-versus-a-copy\n",
      "  del sys.path[0]\n"
     ]
    }
   ],
   "source": [
    "## Normalization\n",
    "\n",
    "# Import MinMaxScaler\n",
    "from sklearn.preprocessing import MinMaxScaler\n",
    "\n",
    "# Instantiate MinMaxScaler\n",
    "MM_scaler = MinMaxScaler()\n",
    "\n",
    "# Fit MM_scaler to the data\n",
    "MM_scaler.fit(so_numeric_df[['Age']])\n",
    "\n",
    "# Transform the data using the fitted scaler\n",
    "so_numeric_df['Age_MM'] = MM_scaler.transform(so_numeric_df[['Age']])\n",
    "\n",
    "# Compare the origional and transformed column\n",
    "print(so_numeric_df[['Age_MM', 'Age']].head())\n",
    "\n",
    "# <script.py> output:\n",
    "#          Age_MM  Age\n",
    "#     0  0.046154   21\n",
    "#     1  0.307692   38\n",
    "#     2  0.415385   45\n",
    "#     3  0.430769   46\n",
    "#     4  0.323077   39"
   ]
  },
  {
   "cell_type": "code",
   "execution_count": null,
   "metadata": {},
   "outputs": [],
   "source": []
  },
  {
   "cell_type": "code",
   "execution_count": 87,
   "metadata": {},
   "outputs": [
    {
     "name": "stdout",
     "output_type": "stream",
     "text": [
      "     Age_SS  Age\n",
      "0 -1.132431   21\n",
      "1  0.150734   38\n",
      "2  0.679096   45\n",
      "3  0.754576   46\n",
      "4  0.226214   39\n"
     ]
    },
    {
     "name": "stderr",
     "output_type": "stream",
     "text": [
      "d:\\programdata\\anaconda3\\envs\\recsys\\lib\\site-packages\\ipykernel_launcher.py:13: SettingWithCopyWarning: \n",
      "A value is trying to be set on a copy of a slice from a DataFrame.\n",
      "Try using .loc[row_indexer,col_indexer] = value instead\n",
      "\n",
      "See the caveats in the documentation: http://pandas.pydata.org/pandas-docs/stable/user_guide/indexing.html#returning-a-view-versus-a-copy\n",
      "  del sys.path[0]\n"
     ]
    }
   ],
   "source": [
    "## Standardization\n",
    "\n",
    "# Import StandardScaler\n",
    "from sklearn.preprocessing import StandardScaler\n",
    "\n",
    "# Instantiate StandardScaler\n",
    "SS_scaler = StandardScaler()\n",
    "\n",
    "# Fit SS_scaler to the data\n",
    "SS_scaler.fit(so_numeric_df[['Age']])\n",
    "\n",
    "# Transform the data using the fitted scaler\n",
    "so_numeric_df['Age_SS'] = SS_scaler.transform(so_numeric_df[['Age']])\n",
    "\n",
    "# Compare the origional and transformed column\n",
    "print(so_numeric_df[['Age_SS', 'Age']].head())\n",
    "\n",
    "# <script.py> output:\n",
    "#          Age_SS  Age\n",
    "#     0 -1.132431   21\n",
    "#     1  0.150734   38\n",
    "#     2  0.679096   45\n",
    "#     3  0.754576   46\n",
    "#     4  0.226214   39"
   ]
  },
  {
   "cell_type": "code",
   "execution_count": null,
   "metadata": {},
   "outputs": [],
   "source": []
  },
  {
   "cell_type": "code",
   "execution_count": 88,
   "metadata": {},
   "outputs": [
    {
     "name": "stderr",
     "output_type": "stream",
     "text": [
      "d:\\programdata\\anaconda3\\envs\\recsys\\lib\\site-packages\\ipykernel_launcher.py:13: SettingWithCopyWarning: \n",
      "A value is trying to be set on a copy of a slice from a DataFrame.\n",
      "Try using .loc[row_indexer,col_indexer] = value instead\n",
      "\n",
      "See the caveats in the documentation: http://pandas.pydata.org/pandas-docs/stable/user_guide/indexing.html#returning-a-view-versus-a-copy\n",
      "  del sys.path[0]\n"
     ]
    },
    {
     "data": {
      "image/png": "[encoded data removed]",
      "text/plain": [
       "<Figure size 432x288 with 2 Axes>"
      ]
     },
     "metadata": {
      "needs_background": "light"
     },
     "output_type": "display_data"
    }
   ],
   "source": [
    "## Log transformation\n",
    "\n",
    "# Import PowerTransformer\n",
    "from sklearn.preprocessing import PowerTransformer\n",
    "\n",
    "# Instantiate PowerTransformer\n",
    "pow_trans = PowerTransformer()\n",
    "\n",
    "# Train the transform on the data\n",
    "pow_trans.fit(so_numeric_df[['ConvertedSalary']])\n",
    "\n",
    "# Apply the power transform to the data\n",
    "so_numeric_df['ConvertedSalary_LG'] = pow_trans.transform(so_numeric_df[['ConvertedSalary']])\n",
    "\n",
    "# Plot the data before and after the transformation\n",
    "so_numeric_df[['ConvertedSalary', 'ConvertedSalary_LG']].hist()\n",
    "plt.show()"
   ]
  },
  {
   "cell_type": "code",
   "execution_count": null,
   "metadata": {},
   "outputs": [],
   "source": []
  },
  {
   "cell_type": "code",
   "execution_count": 89,
   "metadata": {},
   "outputs": [
    {
     "data": {
      "image/png": "[encoded data removed]",
      "text/plain": [
       "<Figure size 432x288 with 1 Axes>"
      ]
     },
     "metadata": {
      "needs_background": "light"
     },
     "output_type": "display_data"
    },
    {
     "data": {
      "text/plain": [
       "<Figure size 432x288 with 0 Axes>"
      ]
     },
     "metadata": {},
     "output_type": "display_data"
    },
    {
     "data": {
      "image/png": "[encoded data removed]",
      "text/plain": [
       "<Figure size 432x288 with 1 Axes>"
      ]
     },
     "metadata": {
      "needs_background": "light"
     },
     "output_type": "display_data"
    }
   ],
   "source": [
    "## Percentage based outlier removal\n",
    "\n",
    "# Find the 95th quantile\n",
    "quantile = so_numeric_df['ConvertedSalary'].quantile(0.95)\n",
    "\n",
    "# Trim the outliers\n",
    "trimmed_df = so_numeric_df[so_numeric_df['ConvertedSalary'] < quantile]\n",
    "\n",
    "# The original histogram\n",
    "so_numeric_df[['ConvertedSalary']].hist()\n",
    "plt.show()\n",
    "plt.clf()\n",
    "\n",
    "# The trimmed histogram\n",
    "trimmed_df[['ConvertedSalary']].hist()\n",
    "plt.show()"
   ]
  },
  {
   "cell_type": "code",
   "execution_count": null,
   "metadata": {},
   "outputs": [],
   "source": []
  },
  {
   "cell_type": "code",
   "execution_count": 93,
   "metadata": {},
   "outputs": [
    {
     "data": {
      "image/png": "[encoded data removed]",
      "text/plain": [
       "<Figure size 432x288 with 1 Axes>"
      ]
     },
     "metadata": {
      "needs_background": "light"
     },
     "output_type": "display_data"
    }
   ],
   "source": [
    "## Statistical outlier removal\n",
    "\n",
    "# Find the mean and standard dev\n",
    "std = so_numeric_df['ConvertedSalary'].std()\n",
    "mean = so_numeric_df['ConvertedSalary'].mean()\n",
    "\n",
    "# Calculate the cutoff\n",
    "cut_off = std * 3\n",
    "lower, upper = mean - cut_off, mean + cut_off\n",
    "\n",
    "# Trim the outliers\n",
    "trimmed_df = so_numeric_df[(so_numeric_df['ConvertedSalary'] > lower)]\n",
    "#trimmed_df = so_numeric_df[(so_numeric_df['ConvertedSalary'] < lower) & (so_numeric_df['ConvertedSalary'] > upper)]\n",
    "\n",
    "# The trimmed box plot\n",
    "trimmed_df[['ConvertedSalary']].boxplot()\n",
    "plt.show()"
   ]
  },
  {
   "cell_type": "code",
   "execution_count": null,
   "metadata": {},
   "outputs": [],
   "source": []
  },
  {
   "cell_type": "code",
   "execution_count": 94,
   "metadata": {},
   "outputs": [
    {
     "data": {
      "image/png": "[encoded data removed]",
      "text/plain": [
       "<Figure size 432x288 with 1 Axes>"
      ]
     },
     "metadata": {
      "needs_background": "light"
     },
     "output_type": "display_data"
    }
   ],
   "source": [
    "## Statistical outlier removal\n",
    "\n",
    "# Find the mean and standard dev\n",
    "std = so_numeric_df['ConvertedSalary'].std()\n",
    "mean = so_numeric_df['ConvertedSalary'].mean()\n",
    "\n",
    "# Calculate the cutoff\n",
    "cut_off = std * 3\n",
    "lower, upper = mean - cut_off, mean + cut_off\n",
    "\n",
    "# Trim the outliers\n",
    "trimmed_df = so_numeric_df[(so_numeric_df['ConvertedSalary'] < upper) & (so_numeric_df['ConvertedSalary'] > lower)]\n",
    "\n",
    "# The trimmed box plot\n",
    "trimmed_df[['ConvertedSalary']].boxplot()\n",
    "plt.show()"
   ]
  },
  {
   "cell_type": "code",
   "execution_count": null,
   "metadata": {},
   "outputs": [],
   "source": []
  },
  {
   "cell_type": "code",
   "execution_count": 99,
   "metadata": {},
   "outputs": [
    {
     "name": "stdout",
     "output_type": "stream",
     "text": [
      "   Age    Age_ss\n",
      "0   21 -1.132431\n",
      "1   38  0.150734\n",
      "2   45  0.679096\n",
      "3   46  0.754576\n",
      "4   39  0.226214\n"
     ]
    },
    {
     "name": "stderr",
     "output_type": "stream",
     "text": [
      "d:\\programdata\\anaconda3\\envs\\recsys\\lib\\site-packages\\ipykernel_launcher.py:13: SettingWithCopyWarning: \n",
      "A value is trying to be set on a copy of a slice from a DataFrame.\n",
      "Try using .loc[row_indexer,col_indexer] = value instead\n",
      "\n",
      "See the caveats in the documentation: http://pandas.pydata.org/pandas-docs/stable/user_guide/indexing.html#returning-a-view-versus-a-copy\n",
      "  del sys.path[0]\n"
     ]
    }
   ],
   "source": [
    "## Train and testing transformations (I)\n",
    "\n",
    "# Import StandardScaler\n",
    "from sklearn.preprocessing import StandardScaler\n",
    "\n",
    "# Apply a standard scaler to the data\n",
    "SS_scaler = StandardScaler()\n",
    "\n",
    "# Fit the standard scaler to the data\n",
    "SS_scaler.fit(so_numeric_df[['Age']])\n",
    "\n",
    "# Transform the test data using the fitted scaler\n",
    "so_numeric_df['Age_ss'] = SS_scaler.transform(so_numeric_df[['Age']])\n",
    "print(so_numeric_df[['Age', 'Age_ss']].head())"
   ]
  },
  {
   "cell_type": "code",
   "execution_count": null,
   "metadata": {},
   "outputs": [],
   "source": []
  },
  {
   "cell_type": "code",
   "execution_count": 100,
   "metadata": {},
   "outputs": [],
   "source": [
    "## Train and testing transformations (II)\n",
    "\n",
    "train_std = so_numeric_df['ConvertedSalary'].std()\n",
    "train_mean = so_numeric_df['ConvertedSalary'].mean()\n",
    "\n",
    "cut_off = train_std * 3\n",
    "train_lower, train_upper = train_mean - cut_off, train_mean + cut_off\n",
    "\n",
    "# Trim the test DataFrame\n",
    "trimmed_df = so_numeric_df[(so_numeric_df['ConvertedSalary'] < train_upper) \\\n",
    "                             & (so_numeric_df['ConvertedSalary'] > train_lower)]"
   ]
  },
  {
   "cell_type": "code",
   "execution_count": null,
   "metadata": {},
   "outputs": [],
   "source": []
  },
  {
   "cell_type": "markdown",
   "metadata": {},
   "source": [
    "### MODULE 4\n",
    "\n",
    "### Dealing with Text Data\n"
   ]
  },
  {
   "cell_type": "code",
   "execution_count": null,
   "metadata": {},
   "outputs": [],
   "source": []
  },
  {
   "cell_type": "markdown",
   "metadata": {},
   "source": [
    "Finally, in this chapter, you will work with unstructured text data, understanding ways in which you can engineer columnar features out of a text corpus. You will compare how different approaches may impact how much context is being extracted from a text, and how to balance the need for context, without too many features being created."
   ]
  },
  {
   "cell_type": "code",
   "execution_count": 14,
   "metadata": {},
   "outputs": [
    {
     "data": {
      "text/html": [
       "<div>\n",
       "<style scoped>\n",
       "    .dataframe tbody tr th:only-of-type {\n",
       "        vertical-align: middle;\n",
       "    }\n",
       "\n",
       "    .dataframe tbody tr th {\n",
       "        vertical-align: top;\n",
       "    }\n",
       "\n",
       "    .dataframe thead th {\n",
       "        text-align: right;\n",
       "    }\n",
       "</style>\n",
       "<table border=\"1\" class=\"dataframe\">\n",
       "  <thead>\n",
       "    <tr style=\"text-align: right;\">\n",
       "      <th></th>\n",
       "      <th>Name</th>\n",
       "      <th>Inaugural Address</th>\n",
       "      <th>Date</th>\n",
       "      <th>text</th>\n",
       "    </tr>\n",
       "  </thead>\n",
       "  <tbody>\n",
       "    <tr>\n",
       "      <th>0</th>\n",
       "      <td>George Washington</td>\n",
       "      <td>First Inaugural Address</td>\n",
       "      <td>Thursday, April 30, 1789</td>\n",
       "      <td>Fellow-Citizens of the Senate and of the House...</td>\n",
       "    </tr>\n",
       "    <tr>\n",
       "      <th>1</th>\n",
       "      <td>George Washington</td>\n",
       "      <td>Second Inaugural Address</td>\n",
       "      <td>Monday, March 4, 1793</td>\n",
       "      <td>Fellow Citizens:  I AM again called upon by th...</td>\n",
       "    </tr>\n",
       "    <tr>\n",
       "      <th>2</th>\n",
       "      <td>John Adams</td>\n",
       "      <td>Inaugural Address</td>\n",
       "      <td>Saturday, March 4, 1797</td>\n",
       "      <td>WHEN it was first perceived, in early times, t...</td>\n",
       "    </tr>\n",
       "    <tr>\n",
       "      <th>3</th>\n",
       "      <td>Thomas Jefferson</td>\n",
       "      <td>First Inaugural Address</td>\n",
       "      <td>Wednesday, March 4, 1801</td>\n",
       "      <td>Friends and Fellow-Citizens:  CALLED upon to u...</td>\n",
       "    </tr>\n",
       "    <tr>\n",
       "      <th>4</th>\n",
       "      <td>Thomas Jefferson</td>\n",
       "      <td>Second Inaugural Address</td>\n",
       "      <td>Monday, March 4, 1805</td>\n",
       "      <td>PROCEEDING, fellow-citizens, to that qualifica...</td>\n",
       "    </tr>\n",
       "  </tbody>\n",
       "</table>\n",
       "</div>"
      ],
      "text/plain": [
       "                Name         Inaugural Address                      Date  \\\n",
       "0  George Washington   First Inaugural Address  Thursday, April 30, 1789   \n",
       "1  George Washington  Second Inaugural Address     Monday, March 4, 1793   \n",
       "2         John Adams         Inaugural Address   Saturday, March 4, 1797   \n",
       "3   Thomas Jefferson   First Inaugural Address  Wednesday, March 4, 1801   \n",
       "4   Thomas Jefferson  Second Inaugural Address     Monday, March 4, 1805   \n",
       "\n",
       "                                                text  \n",
       "0  Fellow-Citizens of the Senate and of the House...  \n",
       "1  Fellow Citizens:  I AM again called upon by th...  \n",
       "2  WHEN it was first perceived, in early times, t...  \n",
       "3  Friends and Fellow-Citizens:  CALLED upon to u...  \n",
       "4  PROCEEDING, fellow-citizens, to that qualifica...  "
      ]
     },
     "execution_count": 14,
     "metadata": {},
     "output_type": "execute_result"
    }
   ],
   "source": [
    "speech_csv = \"inaugural_speeches.csv\"\n",
    "\n",
    "# Import so_survey_csv into so_survey_df\n",
    "speech_df = pd.read_csv(speech_csv)\n",
    "\n",
    "# Print the first five rows of the DataFrame\n",
    "speech_df.head()"
   ]
  },
  {
   "cell_type": "code",
   "execution_count": 15,
   "metadata": {},
   "outputs": [
    {
     "name": "stdout",
     "output_type": "stream",
     "text": [
      "<class 'pandas.core.frame.DataFrame'>\n",
      "RangeIndex: 58 entries, 0 to 57\n",
      "Data columns (total 4 columns):\n",
      "Name                 58 non-null object\n",
      "Inaugural Address    58 non-null object\n",
      "Date                 58 non-null object\n",
      "text                 58 non-null object\n",
      "dtypes: object(4)\n",
      "memory usage: 1.9+ KB\n"
     ]
    }
   ],
   "source": [
    "speech_df.info()"
   ]
  },
  {
   "cell_type": "code",
   "execution_count": 9,
   "metadata": {},
   "outputs": [
    {
     "name": "stdout",
     "output_type": "stream",
     "text": [
      "0    fellow citizens of the senate and of the house...\n",
      "1    fellow citizens   i am again called upon by th...\n",
      "2    when it was first perceived  in early times  t...\n",
      "3    friends and fellow citizens   called upon to u...\n",
      "4    proceeding  fellow citizens  to that qualifica...\n",
      "Name: text_clean, dtype: object\n"
     ]
    }
   ],
   "source": [
    "## Cleaning up your text\n",
    "\n",
    "# Replace all non letter characters with a whitespace\n",
    "speech_df['text_clean'] = speech_df['text'].str.replace('[^a-zA-Z]', ' ')\n",
    "\n",
    "# Change to lower case\n",
    "speech_df['text_clean'] = speech_df['text_clean'].str.lower()\n",
    "\n",
    "# Print the first 5 rows of the text_clean column\n",
    "print(speech_df['text_clean'].head())"
   ]
  },
  {
   "cell_type": "code",
   "execution_count": null,
   "metadata": {},
   "outputs": [],
   "source": []
  },
  {
   "cell_type": "code",
   "execution_count": 10,
   "metadata": {},
   "outputs": [
    {
     "name": "stdout",
     "output_type": "stream",
     "text": [
      "                                           text_clean  char_cnt  word_cnt  \\\n",
      "0   fellow citizens of the senate and of the house...      8616      1432   \n",
      "1   fellow citizens   i am again called upon by th...       787       135   \n",
      "2   when it was first perceived  in early times  t...     13871      2323   \n",
      "3   friends and fellow citizens   called upon to u...     10144      1736   \n",
      "4   proceeding  fellow citizens  to that qualifica...     12902      2169   \n",
      "5   unwilling to depart from examples of the most ...      7003      1179   \n",
      "6   about to add the solemnity of an oath to the o...      7148      1211   \n",
      "7   i should be destitute of feeling if i was not ...     19894      3382   \n",
      "8   fellow citizens   i shall not attempt to descr...     26322      4466   \n",
      "9   in compliance with an usage coeval with the ex...     17753      2922   \n",
      "10  fellow citizens   about to undertake the arduo...      6818      1130   \n",
      "11  fellow citizens   the will of the american peo...      7061      1179   \n",
      "12  fellow citizens  the practice of all my predec...     23527      3912   \n",
      "13  called from a retirement which i had supposed ...     32706      5585   \n",
      "14  fellow citizens   without solicitation on my p...     28739      4821   \n",
      "15  elected by the american people to the highest ...      6599      1092   \n",
      "16  my countrymen   it a relief to feel that no he...     20089      3348   \n",
      "17  fellow citizens   i appear before you this day...     16820      2839   \n",
      "18  fellow citizens of the united states   in comp...     21032      3642   \n",
      "19  fellow countrymen     at this second appearing...      3934       706   \n",
      "20  citizens of the united states   your suffrages...      6521      1138   \n",
      "21  fellow citizens   under providence i have been...      7736      1342   \n",
      "22  fellow citizens   we have assembled to repeat ...     14969      2498   \n",
      "23  fellow citizens   we stand to day upon an emin...     17774      2990   \n",
      "24  fellow citizens   in the presence of this vast...     10155      1695   \n",
      "25  fellow citizens   there is no constitutional o...     26175      4399   \n",
      "26  my fellow citizens   in obedience of the manda...     12340      2028   \n",
      "27  fellow citizens   in obedience to the will of ...     23691      3980   \n",
      "28  my fellow citizens   when we assembled here on...     13426      2216   \n",
      "29  my fellow citizens  no people on earth have mo...      5565       991   \n",
      "30  my fellow citizens   anyone who has taken the ...     32160      5439   \n",
      "31  there has been a change of government  it bega...      9554      1712   \n",
      "32  my fellow citizens   the four years which have...      8402      1535   \n",
      "33  my countrymen   when one surveys the world abo...     20294      3348   \n",
      "34  my countrymen   no one can contemplate current...     23937      4055   \n",
      "35  my countrymen   this occasion is not alone the...     22961      3771   \n",
      "36  i am certain that my fellow americans expect t...     10910      1888   \n",
      "37  when four years ago we met to inaugurate a pre...     10629      1831   \n",
      "38  on each national day of inauguration since    ...      7674      1371   \n",
      "39  mr  chief justice  mr  vice president  my frie...      3086       573   \n",
      "40  mr  vice president  mr  chief justice  and fel...     13707      2292   \n",
      "41  my friends  before i begin the expression of t...     14003      2475   \n",
      "42  the price of peace mr  chairman  mr  vice pres...      9277      1688   \n",
      "43  vice president johnson  mr  speaker  mr  chief...      7706      1390   \n",
      "44  my fellow countrymen  on this occasion  the oa...      8242      1502   \n",
      "45  senator dirksen  mr  chief justice  mr  vice p...     11701      2152   \n",
      "46  mr  vice president  mr  speaker  mr  chief jus...     10048      1835   \n",
      "47  for myself and for our nation  i want to thank...      6934      1238   \n",
      "48  senator hatfield  mr  chief justice  mr  presi...     13787      2457   \n",
      "49  senator mathias  chief justice burger  vice pr...     14601      2586   \n",
      "50  mr  chief justice  mr  president  vice preside...     12536      2342   \n",
      "51  my fellow citizens today we celebrate the myst...      9119      1608   \n",
      "52  my fellow citizens at this last presidential i...     12374      2201   \n",
      "53  president clinton  distinguished guests and my...      9084      1606   \n",
      "54  vice president cheney  mr  chief justice  pres...     12199      2122   \n",
      "55  my fellow citizens     i stand here today humb...     13637      2452   \n",
      "56  vice president biden  mr  chief justice  membe...     12174      2151   \n",
      "57  chief justice roberts  president carter  presi...      8555      1488   \n",
      "\n",
      "    avg_word_length  \n",
      "0          6.016760  \n",
      "1          5.829630  \n",
      "2          5.971158  \n",
      "3          5.843318  \n",
      "4          5.948363  \n",
      "5          5.939779  \n",
      "6          5.902560  \n",
      "7          5.882318  \n",
      "8          5.893865  \n",
      "9          6.075633  \n",
      "10         6.033628  \n",
      "11         5.988974  \n",
      "12         6.014059  \n",
      "13         5.856043  \n",
      "14         5.961211  \n",
      "15         6.043040  \n",
      "16         6.000299  \n",
      "17         5.924621  \n",
      "18         5.774849  \n",
      "19         5.572238  \n",
      "20         5.730228  \n",
      "21         5.764531  \n",
      "22         5.992394  \n",
      "23         5.944482  \n",
      "24         5.991150  \n",
      "25         5.950216  \n",
      "26         6.084813  \n",
      "27         5.952513  \n",
      "28         6.058664  \n",
      "29         5.615540  \n",
      "30         5.912852  \n",
      "31         5.580607  \n",
      "32         5.473616  \n",
      "33         6.061529  \n",
      "34         5.903083  \n",
      "35         6.088836  \n",
      "36         5.778602  \n",
      "37         5.805025  \n",
      "38         5.597374  \n",
      "39         5.385689  \n",
      "40         5.980366  \n",
      "41         5.657778  \n",
      "42         5.495853  \n",
      "43         5.543885  \n",
      "44         5.487350  \n",
      "45         5.437268  \n",
      "46         5.475749  \n",
      "47         5.600969  \n",
      "48         5.611315  \n",
      "49         5.646172  \n",
      "50         5.352690  \n",
      "51         5.671020  \n",
      "52         5.621990  \n",
      "53         5.656289  \n",
      "54         5.748822  \n",
      "55         5.561582  \n",
      "56         5.659693  \n",
      "57         5.749328  \n"
     ]
    }
   ],
   "source": [
    "## High level text features\n",
    "\n",
    "# Find the length of each text\n",
    "speech_df['char_cnt'] = speech_df['text_clean'].str.len()\n",
    "\n",
    "# Count the number of words in each text\n",
    "speech_df['word_cnt'] = speech_df['text_clean'].str.split().str.len()\n",
    "\n",
    "# Find the average length of word\n",
    "speech_df['avg_word_length'] = speech_df['char_cnt'] / speech_df['word_cnt']\n",
    "\n",
    "# Print the first 5 rows of these columns\n",
    "print(speech_df[['text_clean', 'char_cnt', 'word_cnt', 'avg_word_length']])"
   ]
  },
  {
   "cell_type": "code",
   "execution_count": null,
   "metadata": {},
   "outputs": [],
   "source": []
  },
  {
   "cell_type": "code",
   "execution_count": 12,
   "metadata": {},
   "outputs": [
    {
     "data": {
      "text/html": [
       "<div>\n",
       "<style scoped>\n",
       "    .dataframe tbody tr th:only-of-type {\n",
       "        vertical-align: middle;\n",
       "    }\n",
       "\n",
       "    .dataframe tbody tr th {\n",
       "        vertical-align: top;\n",
       "    }\n",
       "\n",
       "    .dataframe thead th {\n",
       "        text-align: right;\n",
       "    }\n",
       "</style>\n",
       "<table border=\"1\" class=\"dataframe\">\n",
       "  <thead>\n",
       "    <tr style=\"text-align: right;\">\n",
       "      <th></th>\n",
       "      <th>text_clean</th>\n",
       "      <th>char_cnt</th>\n",
       "      <th>word_cnt</th>\n",
       "      <th>avg_word_length</th>\n",
       "    </tr>\n",
       "  </thead>\n",
       "  <tbody>\n",
       "    <tr>\n",
       "      <th>0</th>\n",
       "      <td>fellow citizens of the senate and of the house...</td>\n",
       "      <td>8616</td>\n",
       "      <td>1432</td>\n",
       "      <td>6.016760</td>\n",
       "    </tr>\n",
       "    <tr>\n",
       "      <th>1</th>\n",
       "      <td>fellow citizens   i am again called upon by th...</td>\n",
       "      <td>787</td>\n",
       "      <td>135</td>\n",
       "      <td>5.829630</td>\n",
       "    </tr>\n",
       "    <tr>\n",
       "      <th>2</th>\n",
       "      <td>when it was first perceived  in early times  t...</td>\n",
       "      <td>13871</td>\n",
       "      <td>2323</td>\n",
       "      <td>5.971158</td>\n",
       "    </tr>\n",
       "    <tr>\n",
       "      <th>3</th>\n",
       "      <td>friends and fellow citizens   called upon to u...</td>\n",
       "      <td>10144</td>\n",
       "      <td>1736</td>\n",
       "      <td>5.843318</td>\n",
       "    </tr>\n",
       "    <tr>\n",
       "      <th>4</th>\n",
       "      <td>proceeding  fellow citizens  to that qualifica...</td>\n",
       "      <td>12902</td>\n",
       "      <td>2169</td>\n",
       "      <td>5.948363</td>\n",
       "    </tr>\n",
       "  </tbody>\n",
       "</table>\n",
       "</div>"
      ],
      "text/plain": [
       "                                          text_clean  char_cnt  word_cnt  \\\n",
       "0  fellow citizens of the senate and of the house...      8616      1432   \n",
       "1  fellow citizens   i am again called upon by th...       787       135   \n",
       "2  when it was first perceived  in early times  t...     13871      2323   \n",
       "3  friends and fellow citizens   called upon to u...     10144      1736   \n",
       "4  proceeding  fellow citizens  to that qualifica...     12902      2169   \n",
       "\n",
       "   avg_word_length  \n",
       "0         6.016760  \n",
       "1         5.829630  \n",
       "2         5.971158  \n",
       "3         5.843318  \n",
       "4         5.948363  "
      ]
     },
     "execution_count": 12,
     "metadata": {},
     "output_type": "execute_result"
    }
   ],
   "source": [
    "# Find the length of each text\n",
    "speech_df['char_cnt'] = speech_df['text_clean'].str.len()\n",
    "\n",
    "# Count the number of words in each text\n",
    "speech_df['word_cnt'] = speech_df['text_clean'].str.split().str.len()\n",
    "\n",
    "# Find the average length of word\n",
    "speech_df['avg_word_length'] = speech_df['char_cnt'] / speech_df['word_cnt']\n",
    "\n",
    "# Print the first 5 rows of these columns\n",
    "speech_df[['text_clean', 'char_cnt', 'word_cnt', 'avg_word_length']].head()"
   ]
  },
  {
   "cell_type": "code",
   "execution_count": null,
   "metadata": {},
   "outputs": [],
   "source": []
  },
  {
   "cell_type": "code",
   "execution_count": 106,
   "metadata": {},
   "outputs": [
    {
     "name": "stdout",
     "output_type": "stream",
     "text": [
      "['abandon', 'abandoned', 'abandonment', 'abate', 'abdicated', 'abeyance', 'abhorring', 'abide', 'abiding', 'abilities', 'ability', 'abject', 'able', 'ably', 'abnormal', 'abode', 'abolish', 'abolished', 'abolishing', 'aboriginal', 'aborigines', 'abound', 'abounding', 'abounds', 'about', 'above', 'abraham', 'abreast', 'abridging', 'abroad', 'absence', 'absent', 'absolute', 'absolutely', 'absolutism', 'absorb', 'absorbed', 'absorbing', 'absorbs', 'abstain', 'abstaining', 'abstract', 'abstractions', 'absurd', 'abundance', 'abundant', 'abundantly', 'abuse', 'abused', 'abuses', 'academies', 'accept', 'acceptance', 'accepted', 'accepting', 'accepts', 'access', 'accessible', 'accession', 'accident', 'accidental', 'accidents', 'acclaim', 'accommodation', 'accommodations', 'accompanied', 'accompany', 'accomplish', 'accomplished', 'accomplishing', 'accomplishment', 'accomplishments', 'accord', 'accordance', 'accorded', 'according', 'accordingly', 'accords', 'account', 'accountability', 'accountable', 'accounted', 'accrue', 'accrued', 'accruing', 'accumulate', 'accumulated', 'accumulation', 'accurately', 'accustom', 'achieve', 'achieved', 'achievement', 'achievements', 'achieving', 'acknowledge', 'acknowledged', 'acknowledging', 'acknowledgment', 'acquaintance', 'acquainted', 'acquiesce', 'acquiesced', 'acquiescence', 'acquire', 'acquired', 'acquires', 'acquiring', 'acquisition', 'acquisitions', 'acquit', 'acrimony', 'across', 'act', 'acted', 'acting', 'action', 'actions', 'active', 'actively', 'activism', 'activities', 'activity', 'acts', 'actual', 'actually', 'actuate', 'actuated', 'acute', 'adams', 'adapted', 'add', 'added', 'addiction', 'adding', 'addition', 'additional', 'additions', 'address', 'addressed', 'addresses', 'addressing', 'adds', 'adduced', 'adequate', 'adequately', 'adhere', 'adhered', 'adherence', 'adheres', 'adjective', 'adjunct', 'adjust', 'adjusted', 'adjusting', 'adjustment', 'adjustments', 'administer', 'administered', 'administering', 'administrated', 'administration', 'administrations', 'administrative', 'administrators', 'admirable', 'admirably', 'admiration', 'admission', 'admissions', 'admit', 'admitted', 'admitting', 'admonish', 'admonished', 'admonishes', 'admonition', 'admonitions', 'adopt', 'adopted', 'adopting', 'adoption', 'adore', 'adoring', 'adorn', 'adorns', 'advance', 'advanced', 'advancement', 'advances', 'advancing', 'advantage', 'advantageous', 'advantageously', 'advantages', 'adventure', 'adventurers', 'adventurously', 'adversaries', 'adversary', 'adverse', 'adverted', 'advice', 'advisable', 'advised', 'advisers', 'advisory', 'advocacy', 'advocate', 'advocated', 'advocates', 'aegis', 'affairs', 'affect', 'affected', 'affecting', 'affection', 'affectionate', 'affections', 'affiliation', 'affirm', 'affirmation', 'affirmations', 'affirmed', 'affirms', 'afflict', 'affliction', 'afford', 'afforded', 'affording', 'affords', 'afghanistan', 'afield', 'afloat', 'afraid', 'afresh', 'africa', 'african', 'after', 'aftermath', 'again', 'against', 'age', 'aged', 'agencies', 'agency', 'agent', 'agents', 'ages', 'aggrandizement', 'aggravated', 'aggravation', 'aggregate', 'aggregations', 'aggression', 'aggressive', 'aggressor', 'aggressors', 'agitate', 'agitated', 'agitating', 'agitation', 'agitations', 'ago', 'agonizing', 'agony', 'agree', 'agreeably', 'agreed', 'agreeing', 'agreement', 'agreements', 'agricultural', 'agriculture', 'agriculturists', 'ahead', 'aid', 'aided', 'aids', 'aim', 'aimed', 'aims', 'air', 'airports', 'alacrity', 'alamo', 'alarm', 'alarmed', 'alert', 'alien', 'alienate', 'alienated', 'aliens', 'alike', 'aliment', 'ality', 'alive', 'all', 'allayed', 'allegation', 'allegations', 'alleged', 'alleghanies', 'allegiance', 'alleviate', 'alliance', 'alliances', 'allies', 'allocating', 'allotted', 'allow', 'allowed', 'allowing', 'allows', 'allude', 'allured', 'alluring', 'allusion', 'ally', 'almighty', 'almost', 'alone', 'along', 'alongside', 'aloof', 'aloofness', 'already', 'also', 'altar', 'alter', 'alteration', 'altercation', 'altered', 'alternative', 'although', 'altogether', 'always', 'am', 'amalgamated', 'amass', 'ambassadors', 'ambiguity', 'ambition', 'ambitions', 'ambitious', 'ambush', 'amelia', 'amen', 'amendatory', 'amended', 'amending', 'amendment', 'amendments', 'america', 'american', 'americanism', 'americans', 'americas', 'amiable', 'amicable', 'amicably', 'amid', 'amidst', 'amity', 'amnesty', 'among', 'amongst', 'amount', 'amounts', 'ample', 'amply', 'an', 'anarchy', 'ancestors', 'anchor', 'ancient', 'and', 'andes', 'anew', 'angel', 'angels', 'anger', 'angry', 'anguish', 'anguished', 'animate', 'animated', 'animates', 'animating', 'animation', 'animosities', 'animosity', 'annals', 'annexation', 'annexed', 'annihilate', 'annihilation', 'anniversary', 'announce', 'announced', 'announces', 'annoyance', 'annual', 'annually', 'annul', 'another', 'answer', 'answerable', 'answered', 'antagonistic', 'anticipate', 'anticipated', 'anticipating', 'anticipation', 'anticipations', 'antifederal', 'anting', 'antipathies', 'antiphilosophists', 'antiquity', 'antirepublican', 'antitrust', 'ants', 'anxieties', 'anxiety', 'anxious', 'anxiously', 'any', 'anybody', 'anymore', 'anyone', 'anything', 'anywhere', 'apart', 'apathy', 'apollo', 'apologize', 'apology', 'appalachia', 'appalled', 'appalling', 'apparent', 'apparently', 'appeal', 'appealing', 'appeals', 'appear', 'appearance', 'appeared', 'appearing', 'appears', 'appeasement', 'appertain', 'applauded', 'applicable', 'applicants', 'application', 'applied', 'applies', 'apply', 'applying', 'appoint', 'appointed', 'appointee', 'appointees', 'appointing', 'appointment', 'appointments', 'appraisal', 'appraise', 'appreciate', 'appreciated', 'appreciating', 'appreciation', 'appreciative', 'apprehend', 'apprehension', 'apprehensions', 'apprehensive', 'apprised', 'approach', 'approached', 'approaches', 'approaching', 'approbation', 'appropriate', 'appropriately', 'appropriateness', 'appropriation', 'appropriations', 'approval', 'approve', 'approved', 'approving', 'approximate', 'approximated', 'april', 'apt', 'aqueducts', 'arbitrament', 'arbitrarily', 'arbitrary', 'arbitration', 'archibald', 'archipelago', 'ardent', 'ardor', 'arduous', 'are', 'area', 'areas', 'argonne', 'argue', 'argued', 'argument', 'arguments', 'arid', 'aright', 'arise', 'arisen', 'arises', 'arising', 'aristocracy', 'ark', 'arlington', 'arm', 'armament', 'armaments', 'armed', 'armies', 'arms', 'army', 'arose', 'around', 'arouse', 'arraignment', 'arrange', 'arrangement', 'arrangements', 'array', 'arrest', 'arrested', 'arresting', 'arrests', 'arrive', 'arrived', 'arrives', 'arriving', 'arrogance', 'arrogate', 'arsenal', 'arsenals', 'art', 'article', 'articles', 'articulated', 'artifice', 'artificial', 'artificially', 'artillery', 'artisans', 'artists', 'arts', 'as', 'ascendancy', 'ascended', 'ascendency', 'ascertain', 'ascertained', 'ascertaining', 'ascribe', 'ascribed', 'ashamed', 'asia', 'asiatic', 'aside', 'ask', 'asked', 'asking', 'asks', 'asleep', 'aspect', 'aspects', 'aspiration', 'aspirations', 'aspire', 'aspires', 'assail', 'assailed', 'assault', 'assemblage', 'assemble', 'assembled', 'assembly', 'assent', 'assert', 'asserted', 'assertion', 'assertions', 'asserts', 'assess', 'assessed', 'assessing', 'assign', 'assigned', 'assignment', 'assigns', 'assist', 'assistance', 'assisted', 'assisting', 'associate', 'associated', 'associates', 'association', 'associations', 'assuage', 'assuaged', 'assume', 'assumed', 'assumes', 'assuming', 'assumption', 'assurance', 'assurances', 'assure', 'assured', 'assuredly', 'assuring', 'astonishing', 'astounding', 'astray', 'astronauts', 'asunder', 'asylum', 'at', 'ate', 'athens', 'atlantic', 'atmosphere', 'atom', 'atone', 'atrocious', 'atrocity', 'attach', 'attached', 'attachment', 'attachments', 'attack', 'attacked', 'attacks', 'attain', 'attained', 'attaining', 'attainment', 'attainments', 'attempt', 'attempted', 'attempting', 'attempts', 'attend', 'attendant', 'attended', 'attending', 'attends', 'attention', 'attentive', 'attest', 'attitude', 'attitudes', 'attorneys', 'attractive', 'attributable', 'attributes', 'audacity', 'audience', 'aught', 'augment', 'augmentation', 'augmented', 'augments', 'auguring', 'august', 'auspices', 'auspicious', 'auspiciously', 'author', 'authoritative', 'authorities', 'authority', 'authorized', 'authorizes', 'authorizing', 'authors', 'autocracy', 'autocratic', 'autonomy', 'auxiliaries', 'auxiliary', 'avail', 'availability', 'available', 'availed', 'avenue', 'avenues', 'aver', 'avert', 'averted', 'averting', 'avoid', 'avoidance', 'avoided', 'avoiding', 'avow', 'avowal', 'avowed', 'avowing', 'await', 'awaited', 'awaiting', 'awaits', 'awake', 'awaken', 'awakened', 'awakens', 'awarded', 'aware', 'away', 'awesome', 'awful', 'ax', 'back', 'background', 'backgrounds', 'backs', 'backward', 'bacteria', 'bad', 'badge', 'badly', 'baffled', 'baggage', 'baker', 'balance', 'balanced', 'balances', 'balancing', 'balk', 'ballot', 'baltimore', 'band', 'bane', 'baneful', 'banished', 'banishment', 'bank', 'banking', 'bankrupt', 'banks', 'banner', 'baptism', 'bar', 'barbarian', 'barbarians', 'barbarism', 'barbary', 'barber', 'bare', 'barely', 'bargain', 'barriers', 'barter', 'bartered', 'base', 'based', 'basic', 'basis', 'bastion', 'batavian', 'battalion', 'battalions', 'battle', 'battlefield', 'battlefields', 'battles', 'bay', 'bays', 'be', 'beach', 'beachhead', 'beacon', 'bear', 'bearing', 'bearings', 'bears', 'beaten', 'beating', 'beautiful', 'beauty', 'became', 'because', 'beckon', 'beckons', 'becloud', 'become', 'becomes', 'becoming', 'bedrock', 'been', 'befit', 'befits', 'befitting', 'befo', 'before', 'beg', 'began', 'begets', 'begin', 'beginning', 'beginnings', 'begins', 'begun', 'behalf', 'behave', 'behind', 'behold', 'beholds', 'behooves', 'being', 'belaboring', 'belied', 'belief', 'beliefs', 'beliefunder', 'believe', 'believed', 'believers', 'believes', 'believing', 'bell', 'belleau', 'belligerent', 'belong', 'belonged', 'belonging', 'belongs', 'belove', 'beloved', 'below', 'bend', 'beneath', 'benediction', 'benedictions', 'benefactors', 'beneficence', 'beneficent', 'beneficial', 'benefit', 'benefited', 'benefiting', 'benefits', 'benevolence', 'benevolent', 'benign', 'bequeathed', 'bernardin', 'beseech', 'beseeching', 'beseems', 'beset', 'besides', 'best', 'bestow', 'bestowal', 'bestowed', 'betray', 'betrays', 'better', 'between', 'beware', 'bewildered', 'beyon', 'beyond', 'bible', 'bicentennial', 'bicker', 'bickering', 'bidding', 'biden', 'big', 'bigger', 'bigoted', 'bigotry', 'bill', 'billion', 'billions', 'billows', 'bills', 'bimetallism', 'bind', 'binding', 'binds', 'biological', 'bipartisanship', 'birth', 'birthday', 'birthright', 'bitter', 'bitterness', 'black', 'blame', 'blast', 'blaze', 'blazed', 'bleak', 'bleakest', 'bled', 'bleed', 'blend', 'blended', 'bless', 'blessed', 'blessing', 'blessings', 'blight', 'blind', 'blinded', 'blindly', 'bloated', 'blood', 'bloodiest', 'bloodshed', 'bloody', 'blot', 'blotches', 'blow', 'blowing', 'blown', 'blows', 'blue', 'blueprint', 'board', 'boast', 'boasted', 'boastfulness', 'boat', 'bodies', 'bodily', 'body', 'bold', 'boldest', 'boldly', 'boldness', 'bombastic', 'bona', 'bond', 'bondage', 'bonds', 'bondsman', 'book', 'border', 'bordering', 'borders', 'bore', 'born', 'borne', 'borrowed', 'borrowing', 'bosom', 'bosoms', 'boston', 'both', 'bottoms', 'bound', 'boundaries', 'boundary', 'bounded', 'boundless', 'bounds', 'bounteous', 'bounties', 'bountiful', 'bounty', 'bow', 'box', 'boy', 'boycott', 'branch', 'branches', 'brave', 'bravely', 'bravery', 'breach', 'bread', 'break', 'breaking', 'breaks', 'breast', 'breath', 'breathes', 'breathing', 'bred', 'breed', 'breeze', 'brethren', 'bridge', 'bridges', 'bridle', 'brief', 'briefly', 'bright', 'brightens', 'brighter', 'brightest', 'brightly', 'brilliant', 'bring', 'bringing', 'brings', 'brink', 'britain', 'britannic', 'british', 'broad', 'broadcast', 'broadening', 'broader', 'broadly', 'broils', 'broke', 'broken', 'brood', 'brother', 'brotherhood', 'brotherly', 'brothers', 'brought', 'brown', 'brutal', 'buccaneering', 'budapest', 'budget', 'build', 'builded', 'builders', 'building', 'buildup', 'built', 'bulk', 'bulky', 'bullies', 'bulwark', 'bulwarks', 'burden', 'burdened', 'burdens', 'burdensome', 'bureau', 'bureaus', 'burger', 'burma', 'burns', 'burthen', 'burthened', 'burthening', 'bush', 'business', 'businesses', 'busy', 'but', 'buy', 'by', 'bygone', 'cabbies', 'cabinet', 'caesar', 'calamities', 'calamitous', 'calamity', 'calculate', 'calculated', 'calculating', 'calculation', 'calculations', 'calendar', 'california', 'call', 'called', 'calling', 'callous', 'calls', 'calm', 'calmly', 'calmness', 'calvin', 'came', 'camp', 'campaign', 'campfires', 'camps', 'can', 'canal', 'canals', 'cancers', 'candid', 'candidacy', 'candidate', 'candidates', 'candidly', 'candle', 'candor', 'cannot', 'canvass', 'capability', 'capable', 'capacities', 'capacity', 'cape', 'capital', 'capitalist', 'capitals', 'capitol', 'capped', 'caprice', 'captive', 'captives', 'capture', 'car', 'cardinal', 'care', 'cared', 'career', 'careful', 'carefully', 'careless', 'carelessly', 'cares', 'cargoes', 'caring', 'carnage', 'carolina', 'carried', 'carriers', 'carries', 'carry', 'carrying', 'cars', 'carter', 'case', 'cases', 'cash', 'cast', 'casting', 'casts', 'casual', 'casualties', 'catalogue', 'catastrophe', 'catch', 'cathedral', 'cattle', 'caught', 'cause', 'caused', 'causes', 'causing', 'caution', 'cautious', 'cease', 'ceased', 'ceaseless', 'ceasing', 'cede', 'ceded', 'celebrate', 'celebrated', 'celebration', 'cement', 'cemented', 'cementing', 'cemetery', 'censorship', 'censure', 'census', 'centennial', 'centennials', 'center', 'centered', 'centers', 'central', 'centuries', 'century', 'cereals', 'ceremonial', 'ceremony', 'certain', 'certainly', 'certainty', 'chain', 'chains', 'chair', 'chairman', 'chairs', 'chalice', 'challenge', 'challenged', 'challenges', 'chamber', 'chance', 'chances', 'change', 'changed', 'changefirst', 'changeless', 'changeliberty', 'changers', 'changes', 'changethe', 'changing', 'channel', 'channels', 'chaos', 'chapter', 'character', 'characteristic', 'characterize', 'characterized', 'characters', 'charge', 'chargeable', 'charged', 'charges', 'charity', 'chart', 'charta', 'charter', 'chase', 'chattel', 'cheap', 'cheapness', 'check', 'checked', 'checking', 'checks', 'cheered', 'cheerful', 'cheerfully', 'cheerfulness', 'cheering', 'chemical', 'cheney', 'cherish', 'cherished', 'cherishes', 'chest', 'chief', 'chiefly', 'child', 'childhood', 'childish', 'children', 'china', 'choice', 'choices', 'choose', 'chooses', 'choosing', 'chop', 'chords', 'chorus', 'chosen', 'chosin', 'christian', 'christianity', 'christians', 'christmas', 'church', 'churches', 'churchill', 'ci', 'cincinnati', 'circ', 'circle', 'circulating', 'circulation', 'circumscribed', 'circumstance', 'circumstances', 'citement', 'cities', 'citizen', 'citizenry', 'citizens', 'citizenship', 'city', 'civic', 'civil', 'civility', 'civilization', 'civilized', 'clad', 'claim', 'claimed', 'claiming', 'claims', 'clamor', 'clarification', 'clarified', 'clarify', 'clarity', 'class', 'classed', 'classes', 'classroom', 'clause', 'clauses', 'clay', 'clean', 'cleaner', 'cleanse', 'clear', 'clearcut', 'clearly', 'clearness', 'cleaves', 'clergy', 'clerk', 'clerks', 'climate', 'climb', 'climes', 'clinching', 'cling', 'clinton', 'cloaked', 'clocks', 'clogged', 'close', 'closed', 'closely', 'closeness', 'closer', 'closest', 'closing', 'clothe', 'clothed', 'clothing', 'clouds', 'co', 'coal', 'coaling', 'coarse', 'coast', 'coasts', 'cocaine', 'code', 'coequal', 'coercion', 'coercions', 'coercive', 'coeval', 'coffers', 'coherence', 'coin', 'coinage', 'coincidence', 'coined', 'cold', 'coldest', 'coleman', 'collaborator', 'collapse', 'collect', 'collected', 'collection', 'collective', 'collectively', 'college', 'colleges', 'collision', 'collisions', 'colonel', 'colonial', 'colonies', 'colonists', 'colonization', 'color', 'colorable', 'colored', 'colors', 'colossal', 'columbia', 'columns', 'combat', 'combated', 'combination', 'combinations', 'combine', 'combined', 'combining', 'come', 'comes', 'cometh', 'comfort', 'comforts', 'coming', 'comities', 'comity', 'command', 'commanded', 'commander', 'commanders', 'commanding', 'commandments', 'commands', 'commence', 'commenced', 'commencement', 'commencing', 'commendable', 'commended', 'commensurate', 'commerce', 'commercial', 'commiseration', 'commission', 'commissioners', 'commissions', 'commit', 'commitment', 'commitments', 'committed', 'committing', 'commodities', 'common', 'commonly', 'commonplace', 'commons', 'commonwealth', 'communicate', 'communicated', 'communicating', 'communication', 'communications', 'communion', 'communism', 'communist', 'communists', 'communities', 'community', 'compact', 'compacts', 'companies', 'companions', 'company', 'comparative', 'comparatively', 'compare', 'compared', 'comparison', 'compass', 'compassion', 'compassionate', 'compatible', 'compel', 'compelled', 'compelling', 'compensate', 'compensated', 'compensation', 'compensations', 'compete', 'competency', 'competent', 'competing', 'competition', 'competitions', 'competitive', 'complain', 'complained', 'complaining', 'complaint', 'complete', 'completed', 'completely', 'completeness', 'completion', 'complex', 'complexity', 'compliance', 'complicated', 'complications', 'compliment', 'comply', 'comport', 'comports', 'compose', 'composed', 'composing', 'composite', 'composition', 'comprehend', 'comprehending', 'comprehension', 'comprehensive', 'comprehensively', 'compress', 'comprise', 'comprised', 'compromise', 'compromises', 'compulsory', 'computation', 'computer', 'comrades', 'conceded', 'conceive', 'conceived', 'conceives', 'conceiving', 'concentrated', 'concentrating', 'concentration', 'concept', 'conception', 'concepts', 'concern', 'concerned', 'concerning', 'concernment', 'concerns', 'concert', 'concerted', 'concess', 'concession', 'concessions', 'conciliate', 'conciliated', 'conciliation', 'concise', 'concluded', 'conclusion', 'conclusions', 'conclusive', 'concord', 'concrete', 'concur', 'concurrence', 'concurrent', 'condemn', 'condemned', 'condemning', 'condescending', 'condition', 'conditions', 'condoned', 'conduct', 'conducted', 'conducting', 'conducts', 'confederacies', 'confederacy', 'confederate', 'confederated', 'confederation', 'confer', 'conference', 'conferences', 'conferred', 'conferring', 'confers', 'confess', 'confessedly', 'confession', 'confide', 'confided', 'confidence', 'confident', 'confidently', 'confiding', 'configuration', 'confine', 'confined', 'confines', 'confirm', 'confirmed', 'conflict', 'conflicting', 'conflicts', 'conform', 'conformable', 'conforming', 'conformity', 'confound', 'confront', 'confrontation', 'confronted', 'confronting', 'confronts', 'confuse', 'confusion', 'congenial', 'congratulate', 'congratulation', 'congratulations', 'congregations', 'congress', 'congressional', 'congressman', 'conjecture', 'connected', 'connection', 'connections', 'connects', 'connive', 'conquer', 'conquered', 'conquering', 'conquest', 'conquests', 'conscience', 'consciences', 'conscientious', 'conscientiously', 'consciou', 'conscious', 'consciousness', 'consecrate', 'consecrated', 'consecrates', 'consecration', 'consent', 'consequence', 'consequences', 'consequent', 'consequential', 'consequently', 'conservation', 'conservative', 'conservator', 'conserve', 'conserving', 'consider', 'considerable', 'considerably', 'considerate', 'considerately', 'consideration', 'considerations', 'considered', 'considering', 'consist', 'consistency', 'consistent', 'consistently', 'consisting', 'consists', 'consolation', 'consolatory', 'console', 'consoled', 'consolidate', 'consolidated', 'consoling', 'consort', 'conspicuous', 'conspicuously', 'conspiracies', 'constant', 'constantly', 'constants', 'constellation', 'constituent', 'constituents', 'constitute', 'constituted', 'constituting', 'constitution', 'constitutional', 'constitutionally', 'constitutions', 'constrain', 'constrained', 'constraint', 'constricted', 'construct', 'constructed', 'constructing', 'construction', 'constructive', 'construe', 'construed', 'consul', 'consult', 'consultations', 'consulted', 'consulting', 'consume', 'consumed', 'consummate', 'consummating', 'consummation', 'consumption', 'contacts', 'contain', 'containing', 'contains', 'contemplate', 'contemplated', 'contemplating', 'contemplation', 'contemplations', 'contempt', 'contend', 'contended', 'contending', 'content', 'contented', 'contention', 'contentions', 'contentious', 'contentment', 'contest', 'contests', 'contiguous', 'continent', 'continents', 'contingency', 'continually', 'continuance', 'continuation', 'continue', 'continued', 'continues', 'continuing', 'continuity', 'continuum', 'contour', 'contract', 'contracted', 'contracting', 'contraction', 'contracts', 'contradistinction', 'contrary', 'contrast', 'contrasts', 'contribute', 'contributed', 'contribution', 'contributions', 'contributory', 'contriving', 'control', 'controlled', 'controlling', 'controls', 'controversies', 'controversy', 'convene', 'convenience', 'convenient', 'convening', 'convention', 'conventional', 'conventions', 'converging', 'conversion', 'convert', 'convertible', 'convey', 'conviction', 'convictions', 'convinced', 'convinces', 'convulsed', 'convulsions', 'cook', 'cool', 'coolidge', 'cooperate', 'cooperating', 'cooperation', 'cooperative', 'coordinat', 'coordinate', 'cope', 'cordant', 'cordial', 'cordially', 'core', 'corn', 'corner', 'corners', 'corporation', 'corporations', 'corpus', 'correct', 'corrected', 'correction', 'corrective', 'correctives', 'correctly', 'corresponded', 'correspondent', 'corresponding', 'corroded', 'corrupt', 'corrupted', 'corrupting', 'corruption', 'cortes', 'cosmopolitan', 'cosmos', 'cost', 'costly', 'costs', 'cotton', 'cottons', 'could', 'councils', 'counsel', 'counsels', 'count', 'counted', 'countenance', 'counter', 'counteract', 'counteracted', 'counteraction', 'counties', 'counting', 'countless', 'countries', 'country', 'countrymen', 'countryside', 'county', 'courage', 'courageous', 'courageously', 'courier', 'course', 'courses', 'court', 'courtesy', 'courts', 'covenant', 'covenants', 'covenantthey', 'cover', 'covered', 'covering', 'covers', 'covet', 'cradle', 'craft', 'crafty', 'crave', 'craving', 'create', 'created', 'creates', 'creating', 'creation', 'creative', 'creativity', 'creator', 'credit', 'creditable', 'creditors', 'credits', 'creed', 'creeds', 'creep', 'crime', 'crimes', 'criminal', 'criminality', 'criminals', 'cripple', 'crippling', 'crises', 'crisis', 'critical', 'critically', 'criticism', 'croix', 'croplands', 'crops', 'cross', 'crosses', 'crowded', 'crowds', 'crown', 'crowned', 'crucial', 'crude', 'cruel', 'cruelty', 'cruising', 'crumble', 'crush', 'crushes', 'crushing', 'cry', 'ct', 'cuba', 'cuban', 'cubans', 'culpable', 'culprits', 'cultivate', 'cultivated', 'cultivation', 'cultivator', 'cultural', 'culture', 'cultures', 'cup', 'cupidity', 'curb', 'cure', 'cured', 'cures', 'curiosity', 'currency', 'current', 'currents', 'curse', 'curtailment', 'custody', 'custom', 'customary', 'customs', 'cut', 'cuts', 'cutting', 'cycle', 'cynicism', 'cynics', 'daily', 'dakota', 'dakotas', 'dam', 'damage', 'dams', 'danger', 'dangerous', 'dangerously', 'dangers', 'dare', 'dared', 'dares', 'daring', 'dark', 'darkened', 'darkest', 'darkness', 'data', 'date', 'daughters', 'david', 'dawn', 'dawning', 'day', 'days', 'de', 'dead', 'deadlock', 'deadly', 'deaf', 'deal', 'dealing', 'dealings', 'dealt', 'dear', 'dearer', 'dearest', 'death', 'deathless', 'deaths', 'debased', 'debasement', 'debate', 'debates', 'debauched', 'debt', 'debtor', 'debts', 'decade', 'decadent', 'decades', 'decay', 'decayed', 'deceit', 'deceive', 'deceived', 'december', 'decencies', 'decency', 'decent', 'decide', 'decided', 'decides', 'deciding', 'decision', 'decisions', 'decisive', 'decisively', 'declaration', 'declarations', 'declare', 'declared', 'declares', 'declaring', 'decline', 'declining', 'decoding', 'decoration', 'decrease', 'decreased', 'decreasing', 'decree', 'decreed', 'decrees', 'dedicate', 'dedicated', 'dedication', 'deed', 'deeds', 'deem', 'deemed', 'deems', 'deep', 'deepen', 'deepened', 'deepening', 'deeper', 'deepest', 'deeply', 'defamation', 'defamatory', 'defaulters', 'defaulting', 'defeat', 'defeated', 'defeatism', 'defect', 'defective', 'defects', 'defend', 'defended', 'defenders', 'defending', 'defense', 'defenseless', 'defenses', 'defensive', 'defer', 'deference', 'deferred', 'deficiencies', 'deficiency', 'deficit', 'deficits', 'defied', 'defies', 'define', 'defined', 'defines', 'defining', 'definite', 'definitely', 'definition', 'definitions', 'defray', 'defrayed', 'defy', 'degenerate', 'degeneration', 'degradation', 'degradations', 'degrades', 'degrading', 'degree', 'degrees', 'delano', 'delay', 'delayed', 'delays', 'delegated', 'delegation', 'deliberate', 'deliberately', 'deliberating', 'deliberation', 'deliberations', 'delicacy', 'delicate', 'delicious', 'delight', 'delights', 'delineated', 'delinquency', 'delinquent', 'delirium', 'deliver', 'deliverance', 'delivered', 'delivering', 'deluge', 'delusion', 'delusions', 'delusive', 'demand', 'demanded', 'demanding', 'demands', 'demilitarize', 'democracies', 'democracy', 'democrat', 'democratic', 'democrats', 'demolish', 'demonstrate', 'demonstrated', 'demonstration', 'demonstrations', 'demoralization', 'demoralizes', 'demoralizing', 'denial', 'denied', 'denies', 'denominations', 'denounce', 'denounced', 'dense', 'densely', 'deny', 'denying', 'depart', 'departed', 'department', 'departments', 'departure', 'depend', 'dependable', 'depended', 'dependence', 'dependencies', 'dependency', 'dependent', 'depending', 'depends', 'depletion', 'deplorable', 'deplorably', 'deplore', 'deplored', 'depositaries', 'deposits', 'deprecated', 'depreciation', 'depressed', 'depression', 'deprivation', 'deprive', 'deprived', 'depth', 'depths', 'deputed', 'derive', 'derived', 'derives', 'deriving', 'descendants', 'descending', 'descends', 'describe', 'described', 'describes', 'desert', 'deserted', 'deserters', 'deserts', 'deserve', 'deserved', 'deserves', 'deserving', 'design', 'designates', 'designation', 'designed', 'designing', 'designs', 'desirable', 'desire', 'desired', 'desires', 'desiring', 'desirous', 'desolated', 'despair', 'despaired', 'desperate', 'desperation', 'despise', 'despite', 'despondence', 'despotic', 'despotism', 'despots', 'destination', 'destined', 'destinies', 'destiny', 'destitute', 'destroy', 'destroyed', 'destroying', 'destroys', 'destruction', 'destructive', 'detached', 'detachment', 'detail', 'detailed', 'details', 'detained', 'deter', 'deteriorate', 'determination', 'determinations', 'determine', 'determined', 'determines', 'determining', 'detract', 'detriment', 'detroit', 'devastated', 'devastates', 'devastating', 'devastation', 'develop', 'developed', 'developing', 'development', 'developments', 'deviation', 'device', 'devices', 'devise', 'devised', 'devising', 'devolve', 'devolved', 'devote', 'devoted', 'devoti', 'devoting', 'devotion', 'devout', 'dew', 'diadem', 'diamonds', 'diary', 'dictate', 'dictated', 'dictates', 'dictator', 'dictators', 'dictatorship', 'did', 'didn', 'die', 'died', 'dies', 'dif', 'differ', 'differed', 'difference', 'differences', 'different', 'differentiating', 'differentiation', 'differently', 'differing', 'difficult', 'difficulties', 'difficulty', 'diffidence', 'diffused', 'diffusion', 'digest', 'digital', 'dignified', 'dignifies', 'dignity', 'diligence', 'diligent', 'diligently', 'dimensions', 'diminish', 'diminished', 'diminishes', 'diminishing', 'dimmed', 'dimness', 'din', 'dingley', 'diplomacy', 'diplomatic', 'dire', 'direct', 'directed', 'directing', 'direction', 'directions', 'directly', 'directs', 'dirksen', 'dis', 'disability', 'disabled', 'disadvantaged', 'disaffection', 'disagree', 'disagreements', 'disappeared', 'disappearing', 'disappointed', 'disappointment', 'disapproved', 'disarmament', 'disaster', 'disasters', 'disastrous', 'disbursed', 'disbursement', 'discard', 'discarding', 'discern', 'discernment', 'discharge', 'discharged', 'discharging', 'discipline', 'disciplined', 'disclaim', 'disclosed', 'discontents', 'discontinue', 'discontinued', 'discord', 'discordant', 'discountenanced', 'discountenancing', 'discourage', 'discouragement', 'discouraging', 'discover', 'discovered', 'discoveries', 'discovering', 'discrediting', 'discretion', 'discretionary', 'discriminate', 'discriminating', 'discrimination', 'discriminations', 'discuss', 'discussing', 'discussion', 'discussions', 'disease', 'diseases', 'disfigure', 'disfranchised', 'disgraceful', 'disguise', 'disguised', 'disguises', 'disheartened', 'dishonor', 'dishonorable', 'disinclination', 'disinterested', 'disloyal', 'dismember', 'disobedience', 'disorder', 'disorderly', 'disorders', 'disorganization', 'disorganize', 'disorganizing', 'dispassionate', 'dispel', 'dispelled', 'dispensations', 'dispense', 'dispensed', 'displaced', 'display', 'displayed', 'displaying', 'disposal', 'dispose', 'disposing', 'disposition', 'dispositions', 'dispute', 'disputed', 'disputes', 'disqualification', 'disquisitions', 'disregard', 'disregarded', 'disregards', 'disrepair', 'disruption', 'dissatisfied', 'dissemination', 'dissension', 'dissensions', 'dissent', 'dissenting', 'dissidents', 'dissipated', 'dissipation', 'dissolution', 'dissolve', 'distance', 'distances', 'distant', 'distinct', 'distinction', 'distinctions', 'distinctively', 'distinguished', 'distorts', 'distract', 'distracted', 'distress', 'distressed', 'distresses', 'distressing', 'distribute', 'distributed', 'distributer', 'distribution', 'district', 'districts', 'distrust', 'distrusted', 'distrustful', 'disturb', 'disturbance', 'disturbances', 'disturbed', 'disturbing', 'disturbs', 'disunion', 'divergent', 'diverse', 'diversification', 'diversified', 'diversity', 'divert', 'diverted', 'diverting', 'divide', 'divided', 'divides', 'divine', 'divisible', 'division', 'divisions', 'divisive', 'divisiveness', 'divorce', 'divorced', 'do', 'dock', 'dockyards', 'doctrine', 'doctrines', 'document', 'documents', 'doers', 'does', 'dogmas', 'dogmatic', 'dogs', 'doing', 'dole', 'dollar', 'dollars', 'domain', 'domestic', 'domestics', 'domiciled', 'domiciliary', 'dominant', 'dominate', 'dominated', 'domination', 'domingo', 'dominion', 'dominions', 'don', 'done', 'doomed', 'dooms', 'door', 'doors', 'doorstep', 'dot', 'doth', 'doubled', 'doubly', 'doubt', 'doubted', 'doubtful', 'doubting', 'doubtless', 'doubts', 'down', 'downfall', 'downward', 'dr', 'draft', 'drafted', 'drain', 'draining', 'drama', 'dramatic', 'dramatically', 'drastic', 'drastically', 'draw', 'drawing', 'drawn', 'dread', 'dreaded', 'dream', 'dreamed', 'dreams', 'dreary', 'dress', 'drift', 'drifted', 'drifting', 'drive', 'driven', 'driving', 'drop', 'dropped', 'drought', 'drugs', 'dry', 'due', 'dulled', 'duly', 'durability', 'durable', 'durably', 'duration', 'during', 'dust', 'duties', 'duty', 'dwarfed', 'dwell', 'dying', 'dynamic', 'dynamos', 'each', 'eager', 'earlier', 'earliest', 'early', 'earn', 'earned', 'earner', 'earners', 'earnest', 'earnestly', 'earnestness', 'earnings', 'earns', 'ears', 'earth', 'earthly', 'ease', 'easier', 'easily', 'easing', 'east', 'eastern', 'eastward', 'easy', 'ebb', 'ebbing', 'ecclesiastical', 'echo', 'echoes', 'economic', 'economical', 'economically', 'economics', 'economies', 'economy', 'ed', 'edge', 'edicts', 'edifice', 'educate', 'educated', 'education', 'educational', 'effaced', 'effect', 'effected', 'effective', 'effectively', 'effectiveness', 'effects', 'effectual', 'effectually', 'efficiency', 'efficient', 'efficiently', 'effort', 'efforts', 'eight', 'eighteenth', 'eighth', 'eighty', 'eisenhower', 'either', 'eject', 'elapsed', 'elasticity', 'elderly', 'elect', 'elected', 'election', 'elections', 'elective', 'elector', 'electoral', 'electorate', 'electors', 'electric', 'element', 'elementary', 'elements', 'elevat', 'elevate', 'elevated', 'elevation', 'eligibility', 'eliminated', 'elimination', 'elite', 'eloquence', 'eloquent', 'else', 'elsewhere', 'em', 'emanate', 'emanates', 'emancipated', 'emancipation', 'embark', 'embarked', 'embarking', 'embarrassed', 'embarrassing', 'embarrassment', 'embarrassments', 'embattled', 'embedded', 'embittered', 'embody', 'embrace', 'embraced', 'embraces', 'embracing', 'emerge', 'emerged', 'emergencies', 'emergency', 'emerging', 'emerson', 'emigrants', 'emigrating', 'eminence', 'eminent', 'eminently', 'emoluments', 'emotion', 'emotions', 'emperor', 'emphasis', 'emphasize', 'emphasizes', 'emphatic', 'emphatically', 'empire', 'empires', 'employ', 'employed', 'employees', 'employers', 'employment', 'employments', 'empower', 'empty', 'emulation', 'enable', 'enabled', 'enables', 'enact', 'enacted', 'enactment', 'encounter', 'encountered', 'encountering', 'encourage', 'encouraged', 'encouragement', 'encourages', 'encouraging', 'encroach', 'encroaches', 'encroaching', 'encroachments', 'encyclopedia', 'end', 'endanger', 'endangered', 'endearing', 'endeavor', 'endeavored', 'endeavors', 'ended', 'ending', 'endless', 'endlessly', 'endowed', 'endowments', 'ends', 'endurance', 'endure', 'endured', 'endures', 'enduring', 'enemies', 'enemy', 'energetic', 'energetically', 'energies', 'energy', 'enfeeble', 'enfeebled', 'enforce', 'enforced', 'enforcement', 'enforcing', 'enfranchisement', 'engage', 'engaged', 'engagement', 'engagements', 'engaging', 'engender', 'engenders', 'engine', 'engineers', 'england', 'engraven', 'engrossed', 'engrosses', 'engulf', 'enhance', 'enhanced', 'enhancing', 'enjoined', 'enjoins', 'enjoy', 'enjoyed', 'enjoying', 'enjoyment', 'enjoyments', 'enjoys', 'enlarge', 'enlarged', 'enlargement', 'enlarging', 'enlighten', 'enlightened', 'enlightening', 'enlist', 'enlisted', 'enlists', 'ennobled', 'ennobling', 'enormous', 'enough', 'enriched', 'enriching', 'enrichment', 'enshrined', 'ensign', 'enslaved', 'enslavement', 'ensued', 'ensure', 'ensured', 'entailing', 'entails', 'entangled', 'entanglement', 'entanglements', 'entangling', 'enter', 'entered', 'entering', 'enterprise', 'enterprises', 'enterprising', 'enters', 'entertain', 'entertained', 'entertaining', 'enthralled', 'enthusiasm', 'enthusiastically', 'entire', 'entirely', 'entirety', 'entitle', 'entitled', 'entitles', 'entity', 'entrance', 'entrepreneurial', 'entrepreneurs', 'entries', 'entrust', 'entrusted', 'entrusting', 'entwined', 'enumerate', 'enumerated', 'enumerates', 'enumeration', 'envious', 'environment', 'envisage', 'envy', 'epidemics', 'equal', 'equaled', 'equality', 'equally', 'equals', 'equip', 'equipment', 'equipments', 'equipped', 'equipping', 'equitable', 'equitably', 'equity', 'equivalent', 'era', 'eradicate', 'eradication', 'erase', 'erect', 'erected', 'erience', 'erode', 'eroded', 'errant', 'erroneous', 'error', 'errors', 'escape', 'escapes', 'escaping', 'especial', 'especially', 'espouse', 'ess', 'essence', 'essential', 'essentially', 'essentials', 'establish', 'established', 'establishes', 'establishing', 'establishment', 'establishments', 'estate', 'esteem', 'esteemed', 'estimate', 'estimated', 'estimates', 'estimation', 'estranged', 'eternal', 'eternally', 'eternity', 'ethics', 'ethnic', 'etimes', 'europe', 'european', 'evacuation', 'evade', 'evanescent', 'evasion', 'eve', 'even', 'evening', 'evenly', 'event', 'eventful', 'events', 'eventual', 'eventually', 'ever', 'every', 'everyday', 'everyone', 'everything', 'everywhere', 'evidence', 'evidences', 'evident', 'evidently', 'evil', 'evils', 'evince', 'evinced', 'evoke', 'evoked', 'evolutions', 'ex', 'exact', 'exacted', 'exacting', 'exaction', 'exactions', 'exactly', 'exaggerated', 'exalt', 'exalted', 'examination', 'examine', 'example', 'examples', 'exasperated', 'exasperation', 'exceed', 'exceeded', 'exceeding', 'excellence', 'excellent', 'except', 'excepted', 'excepting', 'exception', 'exceptional', 'exceptions', 'excess', 'excessive', 'exchange', 'exchanged', 'exchanges', 'excise', 'excises', 'excite', 'excited', 'excitement', 'exciting', 'exclude', 'excluded', 'exclusive', 'exclusively', 'excursions', 'excusable', 'excuse', 'excused', 'execute', 'executed', 'executes', 'executing', 'execution', 'executions', 'executive', 'exemplar', 'exemplified', 'exemplify', 'exempt', 'exempted', 'exercise', 'exercised', 'exercises', 'exercising', 'exert', 'exerted', 'exertion', 'exertions', 'exhaust', 'exhausted', 'exhausting', 'exhaustive', 'exhaustless', 'exhibit', 'exhibited', 'exhibiting', 'exhibitions', 'exhilarated', 'exhortation', 'exhortations', 'exigencies', 'exigency', 'exile', 'exiles', 'exist', 'existed', 'existence', 'existing', 'exists', 'exonerated', 'exp', 'expand', 'expanded', 'expanding', 'expands', 'expansion', 'expect', 'expectation', 'expectations', 'expected', 'expecting', 'expedience', 'expedient', 'expedients', 'expeditionary', 'expeditious', 'expelled', 'expen', 'expendable', 'expenditure', 'expenditures', 'expense', 'expenses', 'expensive', 'experience', 'experienced', 'experiences', 'experiencing', 'experiment', 'experimentation', 'experiments', 'experts', 'expiration', 'expiring', 'explain', 'explained', 'explaining', 'explanation', 'explicitly', 'exploded', 'exploit', 'exploitation', 'exploits', 'explore', 'explored', 'exploring', 'export', 'exportation', 'exports', 'expose', 'exposed', 'exposing', 'exposition', 'expositions', 'exposure', 'expounded', 'express', 'expressed', 'expresses', 'expressing', 'expression', 'expressly', 'extend', 'extended', 'extending', 'extends', 'extension', 'extensive', 'extensively', 'extent', 'extenuating', 'exterior', 'exterminating', 'extermination', 'external', 'extinct', 'extinction', 'extinguish', 'extinguished', 'extinguishment', 'extorted', 'extra', 'extraneous', 'extraordinary', 'extravagance', 'extravagant', 'extreme', 'extremely', 'extremities', 'extricate', 'exultation', 'eye', 'eyes', 'fabric', 'fabrics', 'face', 'faced', 'faces', 'facile', 'facilitate', 'facilitating', 'facilities', 'facility', 'facing', 'fact', 'faction', 'factions', 'factor', 'factories', 'factory', 'facts', 'faculties', 'faculty', 'fade', 'fail', 'failed', 'failing', 'failure', 'failures', 'faint', 'faintness', 'fair', 'faire', 'fairer', 'fairest', 'fairly', 'fairness', 'faith', 'faithful', 'faithfully', 'faiths', 'fall', 'fallacy', 'fallen', 'fallible', 'falling', 'falls', 'false', 'falsehood', 'falsity', 'falter', 'fame', 'famed', 'familiar', 'familiarity', 'families', 'family', 'fanatical', 'fanaticism', 'fans', 'fantastic', 'far', 'fare', 'farewell', 'farm', 'farmer', 'farmers', 'farms', 'farthing', 'fascism', 'fashion', 'fashioned', 'fashioning', 'fast', 'fatal', 'fatalistic', 'fate', 'father', 'fathers', 'fault', 'faults', 'favor', 'favorable', 'favorably', 'favored', 'favoritism', 'favors', 'fear', 'feared', 'fearful', 'fearfully', 'fearing', 'fearless', 'fears', 'fearsome', 'feasibility', 'feasible', 'feature', 'features', 'february', 'fed', 'federal', 'federalists', 'federative', 'feeble', 'feed', 'feel', 'feeling', 'feelings', 'feet', 'felicitate', 'felicitation', 'felicities', 'felicity', 'fell', 'fellow', 'fellowmen', 'fellowship', 'felt', 'fertile', 'fervent', 'fervently', 'fever', 'feverish', 'few', 'fiat', 'fiber', 'fiction', 'fide', 'fidelity', 'field', 'fields', 'fierce', 'fifteen', 'fifteenth', 'fifth', 'fiftieth', 'fifty', 'fight', 'fighting', 'figures', 'fill', 'filled', 'fills', 'final', 'finally', 'finance', 'finances', 'financial', 'financing', 'find', 'finding', 'finds', 'fine', 'finer', 'finish', 'finished', 'finishing', 'fire', 'fired', 'firefighter', 'fires', 'firing', 'firm', 'firmament', 'firmer', 'firmest', 'firmly', 'firmness', 'first', 'fiscal', 'fiscally', 'fish', 'fisheries', 'fist', 'fit', 'fitness', 'fitted', 'fitting', 'five', 'fix', 'fixed', 'fixing', 'flag', 'flame', 'flames', 'flashes', 'flattered', 'flattering', 'flattery', 'flawed', 'flaws', 'fled', 'fleeting', 'fleets', 'flew', 'flexible', 'flimsy', 'float', 'floats', 'flocking', 'florida', 'floridas', 'flourish', 'flourished', 'flourishes', 'flourishing', 'flout', 'flow', 'flowing', 'flows', 'fluctuation', 'flushed', 'fly', 'flyleaf', 'foe', 'foes', 'fog', 'fold', 'folds', 'follow', 'followed', 'following', 'follows', 'folly', 'fomenting', 'fondest', 'fondly', 'food', 'foolish', 'foolishly', 'footing', 'footprints', 'footsteps', 'for', 'forbear', 'forbearance', 'forbearers', 'forbearing', 'forbid', 'forbidden', 'forbidding', 'forbids', 'force', 'forced', 'forces', 'forebears', 'foreboding', 'forebodings', 'forecast', 'foreclosure', 'forefathers', 'forefront', 'forego', 'foregoing', 'foreign', 'foreigners', 'foremost', 'foresaw', 'foresee', 'foreseen', 'foresight', 'forest', 'forests', 'foretold', 'forever', 'forge', 'forged', 'forget', 'forgetting', 'forging', 'forgiveness', 'forgotten', 'form', 'formation', 'formed', 'former', 'formerly', 'formidable', 'formidably', 'forming', 'forms', 'formula', 'formulate', 'formulating', 'formulation', 'forsake', 'forsaken', 'fort', 'forth', 'forthwith', 'fortifications', 'fortified', 'fortifies', 'fortify', 'fortitude', 'fortress', 'forts', 'fortuitous', 'fortunate', 'fortunately', 'fortune', 'fortunes', 'forty', 'forum', 'forward', 'foster', 'fostered', 'fostering', 'fought', 'found', 'foundation', 'foundations', 'founded', 'founders', 'founding', 'fountain', 'fountains', 'four', 'fourfold', 'fourteenth', 'fourth', 'fraction', 'fractured', 'fragile', 'fragments', 'frame', 'framed', 'framers', 'framework', 'framing', 'france', 'franchise', 'franchises', 'frank', 'franklin', 'frankly', 'frankness', 'fraternal', 'fraternity', 'fraud', 'frauds', 'fraught', 'free', 'freed', 'freedmen', 'freedom', 'freedoms', 'freeing', 'freely', 'freeman', 'freemen', 'freer', 'freezing', 'french', 'frequency', 'frequent', 'frequently', 'fresh', 'freshman', 'friction', 'friend', 'friendliest', 'friendliness', 'friendly', 'friends', 'friendship', 'friendships', 'frightened', 'frightful', 'fringe', 'fringed', 'from', 'front', 'frontier', 'frontiers', 'frowning', 'frozen', 'frugal', 'frugality', 'fruit', 'fruitful', 'fruition', 'fruits', 'frustrated', 'frustration', 'fuel', 'fugitive', 'fugitives', 'fulfill', 'fulfilled', 'fulfilling', 'fulfillment', 'full', 'fuller', 'fullest', 'fullness', 'fully', 'function', 'functionaries', 'functions', 'fund', 'fundamental', 'fundamentally', 'funds', 'funeral', 'furnace', 'furnaces', 'furnish', 'furnished', 'furnishes', 'furnishing', 'further', 'furtherance', 'fury', 'futile', 'futility', 'future', 'gain', 'gained', 'gaining', 'gains', 'galaxy', 'gallant', 'gallantry', 'gangs', 'gaping', 'garden', 'garrison', 'gates', 'gather', 'gathered', 'gathering', 'gatun', 'gave', 'gay', 'gaze', 'general', 'generally', 'generate', 'generation', 'generations', 'generosity', 'generous', 'genial', 'genius', 'gentlemen', 'gentleness', 'gentler', 'genuine', 'geographical', 'george', 'germany', 'get', 'gets', 'gettysburg', 'ghent', 'giant', 'giants', 'gift', 'gifts', 'gigantic', 'gillis', 'girl', 'give', 'given', 'giver', 'gives', 'giving', 'glad', 'gladdened', 'gladly', 'gladness', 'glance', 'global', 'globe', 'gloomy', 'glories', 'glorified', 'glorious', 'glory', 'glow', 'glut', 'go', 'goad', 'goal', 'goals', 'god', 'godsend', 'goes', 'goethals', 'going', 'goingness', 'gold', 'golden', 'gone', 'good', 'goodness', 'goods', 'goodwill', 'gore', 'gotten', 'gover', 'govern', 'governed', 'governing', 'government', 'governmental', 'governments', 'governs', 'grace', 'gracious', 'graciously', 'gradual', 'gradually', 'graduated', 'grand', 'grandchildren', 'grander', 'grandest', 'grandeur', 'grandparents', 'grant', 'granted', 'granting', 'grants', 'grasp', 'grasping', 'grateful', 'gratefully', 'gratification', 'gratified', 'gratifying', 'gratitude', 'grave', 'graver', 'graves', 'gravest', 'gravity', 'gray', 'great', 'greater', 'greatest', 'greatly', 'greatness', 'greed', 'green', 'grids', 'grief', 'grievances', 'grim', 'grinding', 'grip', 'gripped', 'groans', 'groping', 'gross', 'grosser', 'ground', 'grounds', 'group', 'groupings', 'groups', 'grow', 'grower', 'growing', 'grown', 'grows', 'growth', 'grudging', 'grudgingly', 'guadalcanal', 'guarantee', 'guaranteed', 'guarantees', 'guaranties', 'guaranty', 'guard', 'guarded', 'guardian', 'guardians', 'guardianship', 'guarding', 'guards', 'guests', 'guidance', 'guide', 'guided', 'guides', 'guiding', 'guilt', 'guilty', 'gulf', 'guns', 'ha', 'habeas', 'habit', 'habits', 'habitual', 'habitually', 'had', 'hadn', 'hague', 'half', 'halfway', 'hall', 'hallowed', 'halls', 'halt', 'halted', 'halts', 'hamper', 'hand', 'handed', 'handful', 'handicap', 'handled', 'handmaid', 'hands', 'hang', 'hanging', 'hangs', 'happen', 'happenings', 'happens', 'happier', 'happiest', 'happily', 'happiness', 'happy', 'harbor', 'harbors', 'hard', 'harder', 'hardest', 'hardheartedness', 'hardier', 'hardihood', 'hardly', 'hardship', 'hardships', 'hardworking', 'hardy', 'harm', 'harmless', 'harmonious', 'harmoniously', 'harmonize', 'harmony', 'harness', 'harnessing', 'harshest', 'harshly', 'harvest', 'harvests', 'has', 'haste', 'hasten', 'hastily', 'hasty', 'hat', 'hatchet', 'hate', 'hated', 'hateful', 'hatfield', 'hath', 'hatred', 'hatreds', 'haunt', 'have', 'haven', 'having', 'havoc', 'hazard', 'hazarded', 'hazards', 'he', 'head', 'headedness', 'heading', 'headlines', 'heads', 'headsprings', 'heal', 'healed', 'healing', 'health', 'healthful', 'healthy', 'heaps', 'hear', 'heard', 'hearers', 'hearing', 'heart', 'heartburnings', 'hearted', 'heartened', 'heartening', 'heartfelt', 'hearthfire', 'hearthstone', 'heartily', 'heartless', 'hearts', 'heartstrings', 'hearty', 'heat', 'heated', 'heaven', 'heavenly', 'heavens', 'heavily', 'heavy', 'heed', 'heedless', 'heedlessness', 'height', 'heightened', 'heights', 'heirs', 'held', 'help', 'helped', 'helpful', 'helpfulness', 'helping', 'helpless', 'helps', 'helvetic', 'hemisphere', 'hence', 'henceforth', 'her', 'here', 'hereafter', 'herein', 'heretofore', 'heritage', 'hero', 'heroes', 'heroic', 'heroism', 'herself', 'hesitate', 'hesitation', 'hidden', 'hides', 'hiding', 'high', 'higher', 'highest', 'highly', 'highways', 'hile', 'hill', 'hills', 'hillsides', 'him', 'himself', 'hindrance', 'hindus', 'hire', 'hiring', 'his', 'historic', 'historical', 'history', 'hit', 'hitherto', 'hitherward', 'hoards', 'hold', 'holder', 'holders', 'holding', 'holds', 'holiday', 'holy', 'homage', 'home', 'homeless', 'homes', 'homestead', 'honest', 'honestly', 'honesty', 'honor', 'honorable', 'honorably', 'honored', 'honoring', 'honors', 'hope', 'hoped', 'hopeful', 'hopefully', 'hopefulness', 'hopeless', 'hopelessness', 'hopes', 'hoping', 'horizon', 'horizons', 'horn', 'horrors', 'horseback', 'hospitable', 'hospitality', 'host', 'hostile', 'hostilities', 'hostility', 'hot', 'hour', 'hours', 'house', 'housed', 'household', 'houses', 'housing', 'how', 'however', 'huddled', 'human', 'humane', 'humanity', 'humanize', 'humankind', 'humble', 'humbled', 'humblest', 'humbly', 'humiliating', 'humiliation', 'humiliations', 'humility', 'humors', 'humphrey', 'hundred', 'hundreds', 'hunger', 'hungers', 'hungry', 'hunter', 'hunters', 'hurricanes', 'hurry', 'hurt', 'hurtful', 'hurts', 'husband', 'husbandry', 'hushing', 'huts', 'hymns', 'hypercritical', 'hysteria', 'ich', 'icy', 'idea', 'ideal', 'idealism', 'idealistic', 'idealists', 'ideals', 'ideas', 'identical', 'identified', 'identity', 'ideologies', 'ideology', 'idle', 'idleness', 'if', 'igniting', 'ignorance', 'ignorant', 'ignore', 'ignored', 'ii', 'ill', 'illegal', 'illiteracy', 'illness', 'illnesses', 'ills', 'illuminated', 'illumined', 'illumines', 'illustrated', 'illustrious', 'image', 'imagination', 'imagine', 'imbibed', 'imbittered', 'imitate', 'imitating', 'imitation', 'immeasurable', 'immeasurably', 'immediate', 'immediately', 'immense', 'immensely', 'immigrant', 'immigrants', 'immigration', 'imminent', 'immortal', 'immunities', 'immunity', 'immutable', 'impact', 'impair', 'impaired', 'impairing', 'impairment', 'imparted', 'impartial', 'impartiality', 'impartially', 'impassable', 'impassioned', 'impatience', 'impede', 'impelled', 'impels', 'impending', 'impenetrable', 'imperative', 'imperatively', 'imperfect', 'imperfection', 'imperfectly', 'imperialism', 'imperiled', 'imperious', 'imperishable', 'impertinence', 'implements', 'implicated', 'implication', 'implicit', 'implied', 'implies', 'implore', 'imply', 'imponderable', 'import', 'importance', 'important', 'importantly', 'importation', 'imports', 'importunate', 'importunity', 'impose', 'imposed', 'imposes', 'imposing', 'imposition', 'impossibility', 'impossible', 'impost', 'imposts', 'impotence', 'impotency', 'impotent', 'impoverished', 'impoverishing', 'impoverishment', 'impracticable', 'impregnable', 'impregnably', 'impress', 'impressed', 'impresses', 'impression', 'impressions', 'impressive', 'impressively', 'improper', 'improprieties', 'impropriety', 'improve', 'improved', 'improvement', 'improvements', 'improving', 'improvised', 'impulse', 'impulses', 'impunity', 'in', 'inability', 'inaction', 'inadequacy', 'inadequate', 'inadmissible', 'inalienable', 'inapplicable', 'inasmuch', 'inattention', 'inaugural', 'inaugurate', 'inaugurated', 'inauguration', 'inborn', 'incalculable', 'incapable', 'incapacities', 'incapacity', 'incautiously', 'incentive', 'incentives', 'inches', 'incident', 'incidental', 'incidents', 'inclination', 'inclining', 'include', 'included', 'including', 'income', 'incomes', 'incoming', 'incomparably', 'incompatible', 'incompetence', 'incompetency', 'incompetent', 'inconceivable', 'incongruity', 'inconsiderable', 'inconsiderate', 'inconsiderately', 'inconsistencies', 'inconsistent', 'inconvenient', 'incorporated', 'increase', 'increased', 'increases', 'increasing', 'increasingly', 'incredible', 'incredibly', 'inculcate', 'inculcating', 'incumbency', 'incumbent', 'incumbents', 'incurred', 'incurring', 'indebted', 'indebtedness', 'indecent', 'indeed', 'independence', 'independent', 'independently', 'indian', 'indians', 'indicate', 'indicated', 'indicates', 'indicating', 'indications', 'indicators', 'indicted', 'indies', 'indifference', 'indifferent', 'indigent', 'indignant', 'indignantly', 'indignation', 'indignity', 'indirect', 'indirectly', 'indiscriminate', 'indispensable', 'indispensably', 'indissoluble', 'individual', 'individualists', 'individuality', 'individually', 'individuals', 'indivisible', 'indo', 'induce', 'induced', 'inducement', 'induces', 'inducing', 'induction', 'indulge', 'indulged', 'indulgence', 'indulging', 'industrial', 'industrialism', 'industrialists', 'industrially', 'industries', 'industrious', 'industry', 'inefficiency', 'inefficient', 'inefficiently', 'inequality', 'inescapably', 'inessential', 'inestimable', 'inevitability', 'inevitable', 'inevitably', 'inexcusable', 'inexhaustible', 'inexorable', 'inexpedient', 'inexpressibly', 'inextricably', 'infancy', 'infant', 'infect', 'inference', 'inferior', 'infinite', 'infinitely', 'infirm', 'infirmity', 'inflated', 'inflation', 'inflations', 'inflexible', 'inflict', 'inflicted', 'influence', 'influenced', 'influences', 'influential', 'inform', 'information', 'informed', 'infraction', 'infrastructure', 'infringed', 'infuriated', 'infused', 'infusing', 'ing', 'ingenuity', 'inhabit', 'inhabitant', 'inhabitants', 'inherent', 'inherently', 'inherit', 'inheritance', 'inheritances', 'inherited', 'inheriting', 'inhospitable', 'inimical', 'initiate', 'initiated', 'initiative', 'initiatives', 'injunction', 'injunctions', 'injure', 'injured', 'injuries', 'injuring', 'injurious', 'injuriously', 'injury', 'injustice', 'inland', 'inlets', 'inn', 'innate', 'inner', 'innocence', 'innocents', 'innovation', 'inordinate', 'inquietude', 'inquire', 'inquiry', 'inquisition', 'ins', 'insatiable', 'inscribes', 'insensible', 'inseparable', 'inside', 'insidious', 'insight', 'insignificance', 'insignificant', 'insinuation', 'insist', 'insisted', 'insistence', 'insistent', 'insisting', 'insists', 'insofar', 'insolent', 'inspection', 'inspiration', 'inspirations', 'inspire', 'inspired', 'inspires', 'inspiring', 'installed', 'instance', 'instances', 'instant', 'instantaneously', 'instantly', 'instead', 'instinct', 'instinctively', 'instituted', 'institution', 'institutions', 'instruct', 'instructed', 'instruction', 'instructions', 'instructive', 'instructors', 'instrument', 'instrumental', 'instrumentalities', 'instrumentality', 'instruments', 'insufficient', 'insult', 'insuperable', 'insurance', 'insure', 'insurgent', 'insurgents', 'insuring', 'insurmountable', 'insurrection', 'insurrectional', 'insurrectionary', 'intact', 'integrity', 'intellect', 'intellects', 'intellectual', 'intelligence', 'intelligences', 'intelligent', 'intelligible', 'intend', 'intended', 'intends', 'intense', 'intensely', 'intensity', 'intent', 'intention', 'intentional', 'intentioned', 'intentions', 'intercourse', 'interdependence', 'interdependent', 'interest', 'interested', 'interesting', 'interests', 'interfere', 'interfered', 'interference', 'interfering', 'interior', 'interlocked', 'interlude', 'intermission', 'internal', 'internally', 'international', 'internationality', 'internet', 'interoceanic', 'interpose', 'interposing', 'interpret', 'interpretation', 'interpreted', 'interpreters', 'interruptions', 'intersecting', 'interstate', 'interval', 'intervals', 'intervene', 'intervened', 'intervening', 'intervention', 'intimacy', 'intimate', 'intimately', 'intimidate', 'into', 'intolerable', 'intolerance', 'intolerant', 'intrenched', 'intricacies', 'intricate', 'intrigue', 'intrigues', 'intrinsic', 'intrinsically', 'introduced', 'introduction', 'intrusion', 'intrusions', 'intrust', 'intrusted', 'intuitions', 'intuitive', 'inure', 'inured', 'invade', 'invaded', 'invader', 'invading', 'invaluable', 'invariably', 'invasion', 'invasions', 'invective', 'invent', 'invented', 'invention', 'inventions', 'inventive', 'inventory', 'invest', 'invested', 'investigate', 'investigation', 'investigations', 'investing', 'investment', 'investments', 'investor', 'invidious', 'invigorate', 'invigorated', 'invincible', 'inviolability', 'inviolable', 'inviolate', 'invisible', 'invitation', 'invitations', 'invite', 'invited', 'invites', 'inviting', 'invoke', 'invoked', 'invokes', 'invoking', 'involuntary', 'involve', 'involved', 'involvement', 'involves', 'involving', 'ion', 'ions', 'iowa', 'iraq', 'iron', 'irredeemable', 'irresistible', 'irresistibly', 'irresponsibility', 'irresponsible', 'irrevocable', 'irrevocably', 'irritated', 'irritating', 'is', 'isaiah', 'islamic', 'island', 'islands', 'isle', 'isles', 'ism', 'isolated', 'isolation', 'israel', 'issue', 'issued', 'issues', 'issuing', 'isthmus', 'it', 'italy', 'itemized', 'items', 'its', 'itself', 'iwo', 'jailed', 'janeiro', 'january', 'jarring', 'jars', 'jealous', 'jealousies', 'jealously', 'jealousy', 'jefferson', 'jeopard', 'jeopardized', 'jericho', 'jews', 'jima', 'job', 'jobbers', 'jobs', 'john', 'johnson', 'join', 'joined', 'joint', 'joseph', 'journal', 'journey', 'journeyed', 'joy', 'joyful', 'jubilee', 'judge', 'judged', 'judges', 'judgment', 'judgments', 'judicial', 'judiciary', 'judicious', 'judiciously', 'juggler', 'julia', 'july', 'juncture', 'jungle', 'jungles', 'juries', 'jurisdiction', 'jurisprudence', 'just', 'justice', 'justiciable', 'justifiable', 'justification', 'justified', 'justifies', 'justify', 'justly', 'justness', 'kansas', 'keen', 'keep', 'keepers', 'keeping', 'keeps', 'kept', 'key', 'khe', 'kill', 'killed', 'killing', 'kind', 'kinder', 'kindled', 'kindles', 'kindly', 'kindness', 'kindred', 'kinds', 'king', 'kings', 'kitchen', 'kite', 'knees', 'knew', 'knife', 'knight', 'knit', 'know', 'knowing', 'knowingly', 'knowledge', 'known', 'knows', 'koran', 'korea', 'label', 'labeled', 'labor', 'laborer', 'laborers', 'laboring', 'labors', 'labs', 'lack', 'lacking', 'lady', 'laid', 'laissez', 'lakes', 'lamented', 'land', 'landmarks', 'lands', 'landscape', 'lanes', 'language', 'languished', 'languishes', 'languishing', 'languor', 'lapse', 'larceny', 'large', 'largely', 'larger', 'largest', 'lash', 'last', 'lasting', 'lastly', 'lasts', 'late', 'lately', 'latent', 'later', 'latest', 'lathes', 'latitude', 'latter', 'latterly', 'laugh', 'laughter', 'launched', 'law', 'lawful', 'lawfully', 'lawgiver', 'lawgivers', 'lawless', 'lawlessness', 'laws', 'lawyer', 'lay', 'laying', 'le', 'lead', 'leader', 'leaders', 'leadership', 'leading', 'leads', 'league', 'learn', 'learned', 'learning', 'learns', 'learnt', 'least', 'leave', 'leaves', 'leaving', 'led', 'ledgers', 'left', 'legacies', 'legacy', 'legal', 'legalized', 'legally', 'legend', 'legible', 'legions', 'legislate', 'legislated', 'legislation', 'legislative', 'legislators', 'legislature', 'legislatures', 'legitimate', 'legitimately', 'leisure', 'lend', 'lending', 'length', 'lengthens', 'lenient', 'less', 'lessen', 'lessened', 'lessening', 'lesson', 'lessons', 'lest', 'let', 'letter', 'letters', 'levees', 'level', 'leveled', 'levels', 'levers', 'levied', 'levy', 'levying', 'liabilities', 'liability', 'liable', 'liberal', 'liberality', 'liberally', 'liberate', 'liberated', 'liberating', 'liberation', 'liberator', 'liberties', 'liberty', 'library', 'licentiousness', 'lie', 'lies', 'lieu', 'life', 'lifeblood', 'lifeless', 'lifetime', 'lift', 'lifted', 'lifting', 'light', 'lighted', 'lighten', 'lightened', 'lightening', 'lightly', 'lightness', 'lightning', 'lights', 'like', 'likely', 'likeness', 'likes', 'likewise', 'limb', 'limbs', 'limit', 'limitation', 'limitations', 'limited', 'limiting', 'limitless', 'limits', 'lincoln', 'line', 'lines', 'link', 'linked', 'liquor', 'list', 'listen', 'listening', 'lit', 'literary', 'literature', 'litigation', 'little', 'livable', 'live', 'lived', 'livelihood', 'lives', 'living', 'll', 'loans', 'loath', 'local', 'locality', 'localized', 'locate', 'located', 'lock', 'locked', 'locks', 'locusts', 'lodging', 'loftiest', 'lofty', 'logic', 'logically', 'lone', 'lonely', 'long', 'longed', 'longer', 'longest', 'longing', 'longings', 'look', 'looked', 'looking', 'looks', 'loose', 'lopped', 'lord', 'lose', 'loses', 'losing', 'loss', 'losses', 'lost', 'lot', 'louder', 'loudly', 'louisiana', 'love', 'loved', 'loveliness', 'lover', 'loves', 'loving', 'low', 'lower', 'lowest', 'loyal', 'loyally', 'loyalty', 'lucky', 'lunar', 'lure', 'lures', 'luring', 'lurk', 'lurking', 'lurks', 'luster', 'luther', 'luxuries', 'lying', 'lynchings', 'machine', 'machinery', 'macleish', 'mad', 'made', 'madison', 'madness', 'magic', 'magical', 'magistrate', 'magna', 'magnanimity', 'magnanimous', 'magnificence', 'magnificent', 'magnificently', 'magnify', 'magnifying', 'magnitude', 'mai', 'mail', 'mailing', 'mails', 'maimed', 'main', 'mainland', 'maintain', 'maintained', 'maintaining', 'maintains', 'maintenance', 'majestic', 'majesty', 'major', 'majorities', 'majority', 'make', 'maker', 'makers', 'makes', 'maketh', 'makeup', 'making', 'malaya', 'malice', 'malign', 'mall', 'man', 'manage', 'managed', 'management', 'mandate', 'mandates', 'maneuver', 'manfully', 'manger', 'manhood', 'manifest', 'manifestation', 'manifestations', 'manifested', 'manifesting', 'manifestly', 'manifests', 'manifold', 'mankind', 'manlier', 'manliness', 'manly', 'manner', 'manners', 'manufactured', 'manufacturer', 'manufacturers', 'manufactures', 'manufacturing', 'many', 'maps', 'marble', 'march', 'marched', 'margin', 'marginalized', 'marine', 'mariners', 'maritime', 'mark', 'marked', 'marker', 'markers', 'market', 'markets', 'marks', 'marred', 'mars', 'marshaled', 'marshals', 'martin', 'marts', 'marvelous', 'mass', 'massachusetts', 'massacre', 'massed', 'masses', 'massive', 'master', 'mastered', 'masters', 'mastery', 'match', 'matches', 'matchless', 'material', 'materially', 'materials', 'math', 'mathias', 'matter', 'matters', 'mature', 'matured', 'maturing', 'maturity', 'maxim', 'maxims', 'maximum', 'may', 'mayflower', 'me', 'meager', 'mean', 'meaning', 'meaningful', 'means', 'meant', 'meantime', 'measurable', 'measure', 'measured', 'measureless', 'measures', 'mechanic', 'mechanical', 'mechanism', 'meddle', 'mediation', 'medicaid', 'medicare', 'medicine', 'mediocrity', 'mediterranean', 'medium', 'meet', 'meeting', 'meetings', 'meets', 'melancholy', 'meliorate', 'member', 'members', 'membership', 'memorable', 'memorial', 'memories', 'memory', 'men', 'menace', 'menaced', 'menaces', 'menacing', 'mental', 'mention', 'mentioned', 'mentor', 'mercantile', 'merchandise', 'merchant', 'mercifully', 'mercy', 'mere', 'merely', 'merge', 'merged', 'merit', 'merited', 'meritorious', 'meritoriously', 'merits', 'message', 'messages', 'met', 'metal', 'metallic', 'metals', 'method', 'methods', 'metropolis', 'mexico', 'micah', 'michel', 'michelle', 'microchip', 'middle', 'midst', 'midway', 'might', 'mightiest', 'mighty', 'mild', 'miles', 'milestone', 'militarists', 'militarize', 'military', 'militia', 'militias', 'mill', 'millennium', 'million', 'millions', 'mills', 'mind', 'minded', 'mindedness', 'mindful', 'mindfulness', 'minds', 'mine', 'mineral', 'mines', 'mingled', 'mingling', 'minimize', 'minimum', 'mining', 'minister', 'ministered', 'ministers', 'minor', 'minorities', 'minority', 'minute', 'miracle', 'miracles', 'misappropriation', 'mischief', 'mischiefs', 'mischievous', 'misconceptions', 'misconstruction', 'misconstrue', 'misconstrued', 'misdirect', 'miseries', 'misery', 'misfortune', 'misguided', 'misinterpret', 'misinterpreted', 'misjudged', 'mislead', 'misled', 'misrepresentation', 'miss', 'missiles', 'missing', 'mission', 'missions', 'mississippi', 'missouri', 'mistake', 'mistaken', 'mistakes', 'mistrust', 'mists', 'misunderstand', 'misunderstanding', 'misunderstood', 'mitchell', 'mitigate', 'mixed', 'mmunity', 'mob', 'mobile', 'mobs', 'mockery', 'mode', 'model', 'models', 'moderate', 'moderation', 'modern', 'modes', 'modification', 'modified', 'modify', 'molest', 'moment', 'momentous', 'moments', 'momentum', 'monarchical', 'monarchies', 'monarchy', 'mondale', 'monday', 'monetary', 'money', 'moneys', 'monopolies', 'monopoly', 'monroe', 'montana', 'month', 'monthly', 'months', 'monticello', 'monument', 'monumental', 'monuments', 'moomaw', 'moon', 'moral', 'morality', 'morally', 'morals', 'morbid', 'more', 'moreover', 'mormon', 'mortal', 'mortgaging', 'mortifications', 'moscow', 'mosque', 'most', 'mostly', 'mother', 'mothers', 'motion', 'motivated', 'motive', 'motives', 'motto', 'mount', 'mountain', 'mountaineer', 'mountains', 'mountaintop', 'mouth', 'move', 'moved', 'movement', 'movements', 'moves', 'moving', 'mr', 'mrs', 'much', 'multiplication', 'multiplied', 'multiply', 'multiplying', 'multitude', 'multitudes', 'municipal', 'munitions', 'murder', 'murmur', 'music', 'musket', 'muskets', 'muslim', 'muslims', 'must', 'muster', 'mustered', 'mutation', 'mutual', 'mutuality', 'mutually', 'my', 'myriad', 'myself', 'mysteries', 'mystery', 'mystic', 'mystical', 'nagging', 'naive', 'name', 'named', 'nameless', 'names', 'narrow', 'narrowed', 'narrowest', 'narrowing', 'narrowly', 'nation', 'national', 'nationalistic', 'nationality', 'nationhood', 'nations', 'native', 'natural', 'naturalization', 'naturalized', 'naturalizing', 'naturally', 'nature', 'naught', 'naval', 'navies', 'navigable', 'navigation', 'navy', 'nd', 'near', 'nearest', 'nearing', 'nearly', 'nebraska', 'necessaries', 'necessarily', 'necessary', 'necessities', 'necessity', 'neck', 'need', 'needed', 'needful', 'needing', 'needless', 'needs', 'needy', 'negation', 'negations', 'negative', 'neglect', 'neglected', 'negligence', 'negotiate', 'negotiated', 'negotiation', 'negotiations', 'negro', 'negroes', 'neighbor', 'neighborhood', 'neighborhoods', 'neighboring', 'neighbors', 'neill', 'neither', 'network', 'networks', 'neutr', 'neutral', 'neutrality', 'never', 'new', 'newly', 'news', 'newspaper', 'newtown', 'next', 'nflicts', 'nigh', 'night', 'ninth', 'nixon', 'nment', 'no', 'nobility', 'noble', 'nobleness', 'nobler', 'noblest', 'nominate', 'nominated', 'nomination', 'non', 'none', 'noninterference', 'noninvolvement', 'nonpartisan', 'nor', 'normal', 'normalcy', 'normandy', 'north', 'northern', 'northerners', 'not', 'notably', 'note', 'noted', 'notes', 'noteworthy', 'nothing', 'notice', 'notification', 'noting', 'notwithstanding', 'nourish', 'nourished', 'nourishes', 'november', 'now', 'nowhere', 'ntain', 'nticipate', 'nuclear', 'nucleus', 'nullify', 'number', 'numberless', 'numbers', 'numerous', 'nursery', 'nurture', 'oar', 'oath', 'oaths', 'obama', 'obedience', 'obedient', 'obey', 'obeyed', 'obeying', 'object', 'objection', 'objections', 'objective', 'objectives', 'objects', 'obligation', 'obligations', 'obliged', 'obliges', 'obliging', 'obliteration', 'obnoxious', 'obscure', 'obscured', 'observable', 'observance', 'observation', 'observations', 'observe', 'observed', 'observer', 'observers', 'observing', 'obsessions', 'obsolete', 'obstacle', 'obstacles', 'obstructed', 'obstruction', 'obstructionists', 'obstructions', 'obtain', 'obtained', 'obtaining', 'obtruding', 'obtrusive', 'obvious', 'obviously', 'occasion', 'occasional', 'occasionally', 'occasions', 'occupancy', 'occupants', 'occupation', 'occupations', 'occupied', 'occupy', 'occupying', 'occur', 'occurred', 'occurrence', 'occurrences', 'ocean', 'oceans', 'october', 'odd', 'odds', 'of', 'off', 'offenders', 'offends', 'offense', 'offenses', 'offensive', 'offer', 'offered', 'offering', 'offers', 'office', 'officer', 'officered', 'officers', 'offices', 'official', 'officially', 'officials', 'offspring', 'often', 'oftener', 'ohio', 'old', 'older', 'oldest', 'omaha', 'ome', 'omen', 'omission', 'omit', 'omitting', 'omnipotence', 'on', 'once', 'one', 'onerous', 'ones', 'onl', 'only', 'onto', 'onward', 'open', 'opened', 'opening', 'openly', 'openness', 'opens', 'operate', 'operated', 'operating', 'operation', 'operations', 'operatives', 'opini', 'opinion', 'opinions', 'opponent', 'opponents', 'opportunism', 'opportunities', 'opportunity', 'oppose', 'opposed', 'opposing', 'opposite', 'opposition', 'oppress', 'oppressed', 'oppressing', 'oppression', 'oppressive', 'oppressors', 'opprobrium', 'optimist', 'options', 'or', 'oracle', 'orators', 'orbits', 'ordain', 'ordained', 'ordaining', 'ordeal', 'order', 'ordered', 'orderly', 'orders', 'ordinances', 'ordinary', 'oregon', 'ores', 'organic', 'organization', 'organizations', 'organized', 'organizers', 'orient', 'origin', 'original', 'originate', 'originated', 'originating', 'origination', 'origins', 'orleans', 'ornament', 'orphan', 'orphans', 'ose', 'ostriches', 'other', 'others', 'otherwise', 'ought', 'our', 'ours', 'ourselves', 'out', 'outbursts', 'outcome', 'outgo', 'outgoing', 'outgrow', 'outgrown', 'outgrowth', 'outlast', 'outlaw', 'outlawing', 'outlawry', 'outlaws', 'outlays', 'outlet', 'outline', 'outlines', 'outpaced', 'output', 'outrage', 'outrages', 'outrun', 'outrunning', 'outset', 'outside', 'outstanding', 'outward', 'outweigh', 'outworn', 'over', 'overbalance', 'overbalanced', 'overburdened', 'overcome', 'overestimate', 'overestimated', 'overflowing', 'overleaps', 'overlooked', 'overlooking', 'overlooks', 'overrule', 'overruled', 'overruling', 'overseas', 'overset', 'overshadowed', 'overstep', 'overtake', 'overtaxed', 'overthrow', 'overthrown', 'overturning', 'overwhelm', 'overwhelmed', 'overwhelming', 'overwhelmingly', 'owe', 'owes', 'own', 'owners', 'ownership', 'owning', 'pace', 'paces', 'pacific', 'pacification', 'pacifists', 'pack', 'packed', 'pact', 'paddies', 'page', 'pages', 'paid', 'pain', 'painful', 'paint', 'pall', 'palladium', 'palliated', 'palliation', 'panama', 'panic', 'panoply', 'paper', 'par', 'paradox', 'parallel', 'paralysis', 'paralyzes', 'paramount', 'paraphrase', 'parcel', 'parchment', 'pardoned', 'pardoning', 'parent', 'parental', 'parents', 'paris', 'parity', 'parliament', 'part', 'partake', 'partaking', 'parted', 'partial', 'partialities', 'partiality', 'partially', 'participants', 'participate', 'participating', 'participation', 'particular', 'particularity', 'particularly', 'particulars', 'parties', 'partisan', 'partisans', 'partisanship', 'partition', 'partners', 'parts', 'party', 'pass', 'passage', 'passed', 'passengers', 'passes', 'passing', 'passion', 'passionately', 'passions', 'past', 'pastor', 'pat', 'patchwork', 'patent', 'paternalism', 'path', 'paths', 'pathway', 'patience', 'patient', 'patiently', 'patriot', 'patriotic', 'patriotically', 'patriotis', 'patriotism', 'patriots', 'patrol', 'patron', 'patronage', 'patronize', 'patronized', 'patronizes', 'pattern', 'pause', 'pave', 'paved', 'pay', 'payable', 'paying', 'payment', 'payments', 'pays', 'peabody', 'peace', 'peaceable', 'peaceably', 'peaceful', 'peacefully', 'peacemaker', 'peaks', 'peasantry', 'peculation', 'peculiar', 'peculiarly', 'pecuniary', 'peking', 'penalizes', 'penalties', 'pending', 'penetrating', 'pennsylvania', 'penny', 'pension', 'pensioners', 'penury', 'people', 'peoples', 'perceive', 'perceived', 'perceiving', 'percentage', 'perception', 'perfect', 'perfected', 'perfecting', 'perfection', 'perfectly', 'perform', 'performance', 'performed', 'performing', 'performs', 'perfunctory', 'perhaps', 'peril', 'perilous', 'perils', 'period', 'periodically', 'periods', 'perish', 'perished', 'permanence', 'permanent', 'permanently', 'permeated', 'permit', 'permitted', 'permitting', 'pernicious', 'perpetual', 'perpetuate', 'perpetuating', 'perpetuation', 'perpetuity', 'perplexed', 'perplexities', 'persecute', 'persecutions', 'perseverance', 'persevere', 'persevered', 'persevering', 'persian', 'persisted', 'persistence', 'persistent', 'persistently', 'person', 'personal', 'personally', 'persons', 'perspective', 'persuaded', 'persuading', 'persuasion', 'pertain', 'pervades', 'pervading', 'perversions', 'pervert', 'perverts', 'pestilence', 'petitions', 'petty', 'phase', 'phases', 'philadelphia', 'philanthropist', 'philippine', 'philippines', 'philosophies', 'philosophy', 'phrases', 'physical', 'physically', 'physicists', 'pick', 'picture', 'pictures', 'pieces', 'piercing', 'piety', 'pile', 'piled', 'pilgrimage', 'pillars', 'pioneer', 'pioneers', 'pious', 'piracy', 'piratical', 'pitching', 'pitiable', 'pitiful', 'pitilessly', 'pitted', 'pity', 'placate', 'place', 'placed', 'places', 'placing', 'plague', 'plagues', 'plain', 'plainer', 'plainest', 'plainly', 'plains', 'plan', 'planet', 'planned', 'planning', 'plans', 'plant', 'plantation', 'planted', 'planter', 'planting', 'platform', 'platforms', 'plausibly', 'play', 'plays', 'plead', 'pleading', 'pleasant', 'pleasantness', 'please', 'pleased', 'pleasing', 'pleasure', 'pleasures', 'pledge', 'pledged', 'pledges', 'pledging', 'plentiful', 'plenty', 'pliant', 'plight', 'plighted', 'plowed', 'plunge', 'plural', 'pockets', 'poet', 'poetry', 'point', 'pointed', 'points', 'poised', 'police', 'policies', 'policy', 'polite', 'politic', 'political', 'politically', 'politicians', 'politics', 'polity', 'polls', 'polygamy', 'ponders', 'pool', 'poor', 'pope', 'populace', 'popular', 'populated', 'population', 'populous', 'porch', 'pork', 'portents', 'portion', 'portions', 'porto', 'portray', 'ports', 'position', 'positions', 'positive', 'positively', 'poss', 'possess', 'possessed', 'possesses', 'possessing', 'possession', 'possessions', 'possibilities', 'possibility', 'possible', 'possibly', 'post', 'postal', 'posterity', 'postpone', 'postponed', 'postponement', 'postulations', 'postures', 'postwar', 'potent', 'potentates', 'potential', 'potomac', 'poured', 'poverty', 'power', 'powerful', 'powerless', 'powers', 'pra', 'practicability', 'practicable', 'practical', 'practicality', 'practically', 'practice', 'practiced', 'practices', 'praises', 'pray', 'prayer', 'prayers', 'pre', 'preach', 'preacher', 'precarious', 'precaution', 'precautions', 'preceded', 'precedent', 'preceding', 'precept', 'precepts', 'precious', 'precipitate', 'precise', 'precisely', 'precision', 'preconceived', 'predecessor', 'predecessors', 'predicted', 'prediction', 'predictions', 'predilection', 'predominating', 'preeminence', 'preeminent', 'preeminently', 'prefer', 'preferable', 'preference', 'preferment', 'prefers', 'prejudice', 'prejudices', 'prelude', 'premeditation', 'premium', 'preoccupations', 'preparation', 'preparations', 'preparatory', 'prepare', 'prepared', 'preparing', 'prepossessions', 'preposterous', 'prerequisites', 'prerogative', 'presage', 'presaging', 'prescribe', 'prescribed', 'prescribes', 'prescribing', 'prescription', 'presence', 'present', 'presented', 'presentiments', 'presenting', 'presently', 'presents', 'preservation', 'preserve', 'preserved', 'preserves', 'preserving', 'preside', 'presidency', 'president', 'presidential', 'presidents', 'presides', 'presiding', 'press', 'presses', 'pressing', 'pressure', 'presume', 'presumed', 'presumption', 'presumptuous', 'pretend', 'pretense', 'pretensions', 'pretext', 'prevail', 'prevailed', 'prevailing', 'prevails', 'prevalence', 'prevent', 'prevented', 'preventing', 'prevention', 'prevents', 'previous', 'prey', 'preyed', 'preying', 'price', 'priceless', 'prices', 'pride', 'prideful', 'primarily', 'primary', 'prime', 'primitive', 'prince', 'princes', 'principal', 'principle', 'principles', 'prior', 'priorities', 'prison', 'prisoner', 'prisoners', 'prisons', 'pristine', 'private', 'privilege', 'privileged', 'privileges', 'prize', 'prized', 'probability', 'probable', 'probably', 'probing', 'problem', 'problems', 'procedure', 'proceed', 'proceeded', 'proceeding', 'proceedings', 'proceeds', 'process', 'processes', 'proclaim', 'proclaimed', 'proclaiming', 'proclaims', 'proclamation', 'procured', 'prodigal', 'prodigality', 'produce', 'produced', 'producer', 'producers', 'produces', 'producing', 'product', 'production', 'productions', 'productive', 'productiveness', 'productivity', 'products', 'profaned', 'profess', 'professed', 'professionals', 'professions', 'proficiency', 'profit', 'profitable', 'profitably', 'profits', 'profligacy', 'profound', 'profoundly', 'profuse', 'progeny', 'program', 'programs', 'progress', 'progressed', 'progressing', 'progression', 'progressive', 'prohibit', 'prohibited', 'prohibiting', 'prohibition', 'prohibitions', 'prohibitory', 'project', 'projects', 'proliferation', 'prolific', 'prolonged', 'prominent', 'prominently', 'promise', 'promised', 'promises', 'promising', 'promote', 'promoted', 'promoters', 'promotes', 'promoting', 'promotion', 'promotions', 'prompt', 'prompted', 'promptitude', 'promptly', 'promptness', 'promulgation', 'prone', 'pronounce', 'pronounced', 'proof', 'proofs', 'prop', 'propaganda', 'propagating', 'propagation', 'proper', 'properly', 'property', 'prophecy', 'prophet', 'prophets', 'propitious', 'proportion', 'proportionate', 'proportions', 'proposal', 'proposals', 'propose', 'proposed', 'proposes', 'proposition', 'propositions', 'propriety', 'prosecuted', 'prosecution', 'prospect', 'prospective', 'prosper', 'prospered', 'prosperity', 'prosperous', 'prosperously', 'prospers', 'prostitutes', 'prostrate', 'prostration', 'protect', 'protected', 'protecting', 'protection', 'protective', 'protector', 'protects', 'protest', 'proud', 'proudly', 'prove', 'proved', 'proven', 'proves', 'provide', 'provided', 'providence', 'provident', 'providential', 'provides', 'providing', 'province', 'provincial', 'provincials', 'provision', 'provisions', 'provoking', 'prowess', 'prudence', 'prudent', 'prudential', 'prudently', 'public', 'publications', 'publicly', 'published', 'punish', 'punishment', 'punishments', 'punitive', 'purchase', 'purchased', 'purchasing', 'pure', 'purely', 'purged', 'purification', 'purified', 'purify', 'purity', 'purloining', 'purports', 'purpose', 'purposeful', 'purposes', 'purse', 'pursuance', 'pursue', 'pursued', 'pursuing', 'pursuit', 'pursuits', 'push', 'pushes', 'pushing', 'pusillanimous', 'put', 'puts', 'putting', 'quadrupled', 'qual', 'qualification', 'qualifications', 'qualified', 'qualities', 'quality', 'quarter', 'quarters', 'quayle', 'quest', 'questing', 'question', 'questioned', 'questioning', 'questions', 'quick', 'quicken', 'quickly', 'quiet', 'quieter', 'quietly', 'quite', 'quote', 'race', 'races', 'racial', 'racing', 'racism', 'radiance', 'radiant', 'radical', 'radically', 'rage', 'ragged', 'raging', 'rail', 'railroads', 'rails', 'railway', 'railways', 'rainbow', 'raise', 'raised', 'raising', 'rallied', 'rampart', 'rancor', 'rang', 'range', 'ranges', 'rank', 'ranks', 'rapid', 'rapidity', 'rapidly', 'rare', 'rarely', 'rash', 'rate', 'rates', 'rather', 'ratification', 'ratifications', 'ratified', 'ratify', 'rating', 'rational', 'raucous', 'ravaged', 'ravages', 'raw', 'rays', 're', 'reach', 'reached', 'reaches', 'reaching', 'reaction', 'read', 'readily', 'readiness', 'readjustment', 'readjusts', 'ready', 'reaffirm', 'reaffirming', 'reagan', 'real', 'realistically', 'realities', 'reality', 'realization', 'realize', 'realized', 'realizes', 'realizing', 'really', 'reannexation', 'reap', 'reaped', 'reappear', 'rear', 'reared', 'rearranged', 'reason', 'reasonable', 'reasonably', 'reasoned', 'reasoning', 'reasons', 'reasserted', 'reassurance', 'reassuring', 'reawaken', 'rebellion', 'reborn', 'rebuild', 'rebuilding', 'rebuilds', 'rebuilt', 'recall', 'recanted', 'receding', 'receipts', 'receive', 'received', 'receiving', 'recent', 'recently', 'reciprocal', 'reciprocated', 'reciprocity', 'recital', 'recited', 'reckless', 'reckoning', 'reclaim', 'reclaiming', 'reclamation', 'recognition', 'recognitions', 'recognize', 'recognized', 'recognizes', 'recognizing', 'recoil', 'recoiled', 'recollect', 'recollected', 'recollection', 'recommend', 'recommendation', 'recommendations', 'recommended', 'recommending', 'recommends', 'recompensed', 'reconciled', 'reconciliation', 'reconciling', 'reconnecting', 'reconsecrate', 'reconsider', 'reconsideration', 'reconstruction', 'record', 'recorded', 'records', 'recourse', 'recover', 'recovered', 'recovering', 'recovery', 'recreation', 'recriminations', 'recruiting', 'rectification', 'rectified', 'rectify', 'rectitude', 'recur', 'recurred', 'recurrence', 'recurring', 'red', 'rededicate', 'redeem', 'redemption', 'rediscover', 'rediscovered', 'redistributed', 'redistribution', 'redounds', 'redress', 'reduce', 'reduced', 'reduces', 'reducing', 'reduction', 'reelected', 'reelection', 'reenforced', 'reestablish', 'reestablished', 'reestablishment', 'refer', 'reference', 'referendum', 'referred', 'referring', 'refinements', 'reflect', 'reflected', 'reflecting', 'reflectio', 'reflection', 'reflections', 'reflects', 'reflex', 'reform', 'reformation', 'reformations', 'reformed', 'reformers', 'reforming', 'reforms', 'refrain', 'refresh', 'refreshed', 'refuge', 'refunding', 'refusal', 'refuse', 'refused', 'refuses', 'refusing', 'regain', 'regaining', 'regard', 'regarded', 'regarding', 'regardless', 'regards', 'regime', 'regimes', 'region', 'regional', 'regions', 'registered', 'regret', 'regretted', 'regular', 'regularity', 'regularly', 'regulars', 'regulate', 'regulated', 'regulates', 'regulating', 'regulation', 'regulations', 'rehabilitated', 'rehabilitation', 'reign', 'reinforce', 'reins', 'reinstate', 'reinvent', 'reinvention', 'reiterate', 'reject', 'rejected', 'rejecting', 'rejection', 'rejects', 'rejoice', 'rejoices', 'rejoicing', 'rekindle', 'rekindling', 'rel', 'related', 'relates', 'relation', 'relations', 'relationship', 'relationships', 'relative', 'relaxation', 'relaxed', 'relearned', 'released', 'reliable', 'reliance', 'reliant', 'relied', 'relief', 'relies', 'relieve', 'religion', 'religious', 'religiously', 'relinquished', 'reluctance', 'reluctant', 'reluctantly', 'rely', 'relying', 'remain', 'remainder', 'remained', 'remaining', 'remains', 'remake', 'remaking', 'remark', 'remarkable', 'remarkably', 'remarked', 'remarks', 'remedial', 'remedied', 'remedies', 'remediless', 'remedy', 'remember', 'remembered', 'remembering', 'remembrance', 'remind', 'reminded', 'reminds', 'remnant', 'remote', 'remotely', 'remotest', 'removable', 'removal', 'removals', 'remove', 'removed', 'removing', 'remunerating', 'remuneration', 'rend', 'render', 'rendered', 'rendering', 'renders', 'renew', 'renewal', 'renewed', 'renewing', 'renounce', 'renounced', 'renown', 'renunciation', 'reopen', 'reorganization', 'reorganize', 'repair', 'repaired', 'repairers', 'reparation', 'repartition', 'repay', 'repeal', 'repealed', 'repeat', 'repeated', 'repeatedly', 'repeating', 'repel', 'repelled', 'repelling', 'replace', 'replaced', 'replete', 'reply', 'report', 'reports', 'repose', 'reposed', 'reposes', 'represent', 'representation', 'representations', 'representative', 'representatives', 'represented', 'representing', 'represents', 'repressed', 'repression', 'reproach', 'republic', 'republican', 'republicanism', 'republicans', 'republics', 'repudiation', 'repudiator', 'repugnant', 'reputation', 'request', 'require', 'required', 'requirement', 'requirements', 'requires', 'requisite', 'requisites', 'rescind', 'research', 'researches', 'resentment', 'resentments', 'reservation', 'reservations', 'reserve', 'reserved', 'reservoir', 'resheathed', 'residence', 'resident', 'residents', 'residing', 'residue', 'resigned', 'resilience', 'resist', 'resistance', 'resisted', 'resolutely', 'resolution', 'resolve', 'resolved', 'resolves', 'resort', 'resorted', 'resorting', 'resounding', 'resource', 'resources', 'respect', 'respectable', 'respected', 'respectful', 'respectfully', 'respecting', 'respective', 'respectively', 'respects', 'respite', 'respond', 'responded', 'response', 'responses', 'responsibilities', 'responsibility', 'responsible', 'responsibly', 'rest', 'restated', 'restaurant', 'rested', 'resting', 'restless', 'restlessness', 'restoration', 'restore', 'restored', 'restoring', 'restrain', 'restrained', 'restraining', 'restrains', 'restraint', 'restraints', 'restrict', 'restricted', 'restricting', 'restriction', 'restrictions', 'restrictive', 'restricts', 'rests', 'result', 'resulted', 'resulting', 'results', 'resume', 'resumed', 'resumes', 'resumption', 'resurgent', 'retain', 'retained', 'retaining', 'retains', 'retaliate', 'retaliation', 'retard', 'retarded', 'retards', 'retire', 'retired', 'retirement', 'retrace', 'retreat', 'retrenchment', 'retrospect', 'return', 'returned', 'returning', 'returns', 'reunion', 'reunite', 'reunited', 'revamp', 'reveal', 'revealed', 'revealing', 'revelation', 'revenge', 'revengeful', 'revenue', 'revenues', 'revered', 'reverence', 'reverend', 'reverent', 'reverently', 'reverse', 'reversion', 'review', 'reviewed', 'revise', 'revised', 'revising', 'revision', 'revisions', 'revitalize', 'revival', 'revive', 'revived', 'reviving', 'revocation', 'revolution', 'revolutionary', 'revolutionize', 'reward', 'rewarding', 'rewards', 'rhetoric', 'ribbon', 'rice', 'rich', 'richer', 'riches', 'richest', 'rico', 'rid', 'ridding', 'ride', 'riders', 'rides', 'ridge', 'riding', 'right', 'righteous', 'righteousness', 'rightful', 'rightfully', 'rightly', 'rightness', 'rights', 'rigid', 'rigidly', 'rigor', 'rigorous', 'riminal', 'rings', 'rio', 'riper', 'ripped', 'rise', 'risen', 'rises', 'rising', 'risk', 'risks', 'rivalries', 'rivalry', 'rivals', 'river', 'rivers', 'rivet', 'riveted', 'road', 'roadblocks', 'roads', 'roaming', 'rob', 'robbed', 'robbing', 'robe', 'roberts', 'robes', 'robs', 'robust', 'rock', 'rocked', 'rocket', 'rocky', 'rod', 'rode', 'role', 'roll', 'rolling', 'rolls', 'roman', 'rome', 'room', 'roosevelt', 'root', 'rooted', 'rose', 'rough', 'rounded', 'route', 'routes', 'routinely', 'row', 'rude', 'rudest', 'rugged', 'ruggedness', 'ruin', 'ruinous', 'ruins', 'rule', 'ruler', 'rulers', 'rules', 'run', 'runaway', 'runs', 'rural', 'rush', 'russia', 'rusted', 'ruthless', 'ruthlessly', 'sabbatical', 'sabine', 'sacred', 'sacredly', 'sacredness', 'sacrifice', 'sacrificed', 'sacrifices', 'sacrificing', 'sad', 'safe', 'safeguard', 'safeguarded', 'safeguarding', 'safeguards', 'safely', 'safer', 'safety', 'sagacious', 'sages', 'sahn', 'said', 'sailing', 'sailors', 'saint', 'sake', 'sale', 'salerno', 'sales', 'salutary', 'salute', 'salvation', 'same', 'sanctimonious', 'sanction', 'sanctioned', 'sanctioning', 'sanctions', 'sanctities', 'sanctity', 'sane', 'sanguine', 'sanitary', 'santo', 'sap', 'sapping', 'saps', 'satisfaction', 'satisfactions', 'satisfactorily', 'satisfactory', 'satisfied', 'satisfy', 'satisfying', 'savage', 'savagery', 'savages', 'save', 'saved', 'saving', 'savings', 'savor', 'savory', 'saw', 'say', 'saying', 'says', 'scabbard', 'scale', 'scales', 'scan', 'scapegoats', 'scar', 'scarcely', 'scattered', 'scene', 'scenes', 'schedules', 'scheme', 'schemes', 'scholars', 'school', 'schoolchildren', 'schoolmaster', 'schools', 'science', 'scientific', 'scientists', 'scoffed', 'scope', 'score', 'scorn', 'scorning', 'scourge', 'scripture', 'scruple', 'scruples', 'scrupulous', 'scrupulously', 'scrutinize', 'scrutiny', 'sea', 'seaboard', 'seaboards', 'seacoast', 'seal', 'seamen', 'search', 'searching', 'seared', 'seas', 'season', 'seasonable', 'seasonably', 'seasons', 'seat', 'seats', 'secede', 'secession', 'second', 'secondary', 'secondhand', 'secondly', 'secret', 'secretary', 'secrets', 'sect', 'section', 'sectional', 'sectionalism', 'sections', 'sects', 'secure', 'secured', 'securely', 'secures', 'securing', 'security', 'sedition', 'seduce', 'sedulously', 'see', 'seed', 'seeds', 'seeing', 'seek', 'seekers', 'seeking', 'seeks', 'seem', 'seemed', 'seemingly', 'seemly', 'seems', 'seen', 'sees', 'segregation', 'seize', 'seized', 'seizing', 'seldom', 'select', 'selected', 'selection', 'selections', 'selective', 'self', 'selfish', 'selfishness', 'selflessness', 'sell', 'selma', 'senate', 'senator', 'senators', 'send', 'sending', 'sends', 'seneca', 'sense', 'sensed', 'senses', 'sensibility', 'sensible', 'sensibly', 'sensitive', 'sentence', 'sententious', 'sentiment', 'sentimental', 'sentimentalizing', 'sentiments', 'separate', 'separated', 'separation', 'september', 'serious', 'seriously', 'sermon', 'servant', 'servants', 'serve', 'served', 'serves', 'service', 'services', 'servile', 'serving', 'servitude', 'ses', 'session', 'set', 'sets', 'settle', 'settled', 'settlement', 'settlements', 'settler', 'settlers', 'settling', 'seven', 'seventeen', 'seventy', 'several', 'severe', 'severed', 'severely', 'severest', 'severity', 'shackles', 'shade', 'shades', 'shadow', 'shadows', 'shaken', 'shaking', 'shall', 'shallow', 'shameful', 'shamefully', 'shape', 'shaped', 'shaping', 'share', 'shared', 'shares', 'sharing', 'sharp', 'sharpest', 'shatter', 'shattered', 'she', 'shed', 'sheet', 'shelter', 'shepherd', 'shield', 'shielded', 'shielding', 'shift', 'shifted', 'shine', 'shines', 'shining', 'ship', 'shipmaster', 'ships', 'shipwreck', 'shirk', 'shirking', 'shock', 'shocks', 'shoot', 'shop', 'shopkeepers', 'shops', 'shore', 'shores', 'short', 'shortcuts', 'shorten', 'shortening', 'shorter', 'shortly', 'should', 'shoulder', 'shoulders', 'shouldn', 'shout', 'shouting', 'show', 'showed', 'showering', 'shown', 'shows', 'shrines', 'shrink', 'shrinking', 'shrinks', 'shrunken', 'shudder', 'shunned', 'shut', 'shuttered', 'sick', 'side', 'sides', 'sight', 'sights', 'sign', 'signally', 'signed', 'significant', 'significantly', 'signified', 'signifies', 'signify', 'signifying', 'signs', 'silence', 'silenced', 'silencing', 'silent', 'silk', 'silver', 'similar', 'similarly', 'simmer', 'simple', 'simplicity', 'simplification', 'simplify', 'simply', 'sinai', 'since', 'sincere', 'sincerely', 'sincerest', 'sincerity', 'sing', 'single', 'singled', 'singly', 'sings', 'singular', 'singularly', 'sinister', 'sink', 'sinking', 'sinks', 'sister', 'sisters', 'sit', 'sitting', 'situated', 'situation', 'six', 'sixth', 'sixty', 'size', 'skepticism', 'skies', 'skill', 'skillful', 'skills', 'skin', 'skirt', 'skirts', 'sky', 'slackerism', 'slander', 'slaughter', 'slaughtering', 'slave', 'slaveholding', 'slavery', 'slaves', 'sleep', 'sleeping', 'slightest', 'slightly', 'slipping', 'slogans', 'slope', 'slopes', 'sloping', 'slow', 'slowed', 'slowly', 'slums', 'small', 'smaller', 'smallest', 'smelting', 'smiled', 'smiles', 'smoke', 'smooth', 'smoothly', 'smother', 'smothered', 'smuggled', 'snow', 'snuffed', 'so', 'sober', 'social', 'societies', 'society', 'softened', 'soil', 'sojourn', 'solace', 'soldier', 'soldiers', 'sole', 'solecism', 'solely', 'solemn', 'solemnities', 'solemnity', 'solemnly', 'solicit', 'solicitation', 'solicitous', 'solicitude', 'solid', 'solidarity', 'solidity', 'solitary', 'solitude', 'solution', 'solutions', 'solve', 'solved', 'solving', 'som', 'somalia', 'some', 'someday', 'somehow', 'someone', 'something', 'sometimes', 'somewhat', 'son', 'song', 'sons', 'soon', 'sooner', 'sophistries', 'sophistry', 'sordid', 'sore', 'sorrow', 'sorrowful', 'sort', 'sought', 'soul', 'souls', 'sound', 'sounded', 'soundest', 'soundly', 'sounds', 'source', 'sources', 'south', 'southeastern', 'southern', 'southwestern', 'sovereign', 'sovereigns', 'sovereignties', 'sovereignty', 'soviet', 'soviets', 'sow', 'space', 'spain', 'span', 'spanish', 'spare', 'spared', 'sparing', 'spark', 'sparsely', 'spasmodic', 'spasms', 'speak', 'speaker', 'speaking', 'speaks', 'special', 'specialized', 'specie', 'species', 'specific', 'specifically', 'specified', 'specify', 'specifying', 'spectacle', 'spectators', 'specter', 'speculation', 'speculations', 'speculative', 'speculators', 'speech', 'speeches', 'speed', 'speedily', 'speedy', 'spend', 'spending', 'spent', 'sphere', 'spheres', 'spilled', 'spin', 'spiral', 'spiraling', 'spirit', 'spirits', 'spiritual', 'spirituality', 'spiritually', 'spite', 'splendid', 'splendor', 'split', 'spoil', 'spoils', 'spoke', 'spoken', 'spokesmen', 'spoliation', 'sponsors', 'spot', 'spotless', 'sprang', 'sprawl', 'spread', 'spreading', 'spring', 'springing', 'springs', 'spun', 'squadron', 'squander', 'squandered', 'squandering', 'square', 'squared', 'st', 'stability', 'stable', 'staff', 'stage', 'stages', 'staggering', 'stagnant', 'stagnation', 'stained', 'stairway', 'stake', 'staked', 'stakes', 'stale', 'stamina', 'stamp', 'stamped', 'stamping', 'stanch', 'stand', 'standard', 'standards', 'standing', 'standpoint', 'stands', 'staple', 'star', 'stars', 'start', 'started', 'starting', 'starved', 'state', 'stated', 'stately', 'statement', 'statements', 'states', 'statesman', 'statesmanship', 'statesmen', 'stating', 'station', 'stations', 'statistics', 'stature', 'status', 'statute', 'statutes', 'staunchest', 'stay', 'stayed', 'stays', 'stead', 'steadfast', 'steadfastness', 'steadily', 'steady', 'stealing', 'steam', 'steamers', 'steamship', 'steeled', 'steer', 'stennis', 'step', 'steps', 'sterile', 'stern', 'sternest', 'sternly', 'stewardship', 'stifle', 'stifles', 'still', 'stilling', 'stimulate', 'stimulating', 'stimulation', 'stimulus', 'stipulated', 'stipulations', 'stir', 'stirred', 'stock', 'stolen', 'stone', 'stonewall', 'stood', 'stop', 'stopped', 'stopping', 'stops', 'store', 'storm', 'storms', 'story', 'stout', 'straight', 'strain', 'strained', 'strange', 'stranger', 'strangers', 'strangle', 'strangled', 'stream', 'streams', 'streets', 'strength', 'strengthen', 'strengthened', 'strengthening', 'strengthens', 'strengths', 'strenuous', 'stress', 'stretched', 'stretching', 'stricken', 'strict', 'strictest', 'strictly', 'stride', 'strides', 'strife', 'strike', 'strikes', 'striking', 'stringent', 'strings', 'stripped', 'strive', 'strives', 'striving', 'strong', 'stronger', 'strongest', 'strongly', 'strove', 'struck', 'structure', 'structures', 'struggle', 'struggled', 'struggles', 'struggling', 'stubbornness', 'stuck', 'students', 'studied', 'studies', 'studiously', 'study', 'studying', 'stuff', 'stunning', 'stupefies', 'stupendous', 'stupid', 'sturdiness', 'sturdy', 'style', 'subdivision', 'subje', 'subject', 'subjected', 'subjects', 'sublime', 'submission', 'submit', 'submits', 'submitted', 'submitting', 'subordinate', 'subordination', 'subsequent', 'subserved', 'subserviency', 'subsided', 'subsidiary', 'subsidies', 'subsidized', 'subsistence', 'substance', 'substantial', 'substantially', 'substantive', 'substitute', 'substitutes', 'substituting', 'subterfuge', 'subterfuges', 'subtlety', 'subversion', 'succeed', 'succeeding', 'success', 'successes', 'successful', 'successfully', 'succession', 'successive', 'successively', 'successor', 'successors', 'succumb', 'succumbed', 'such', 'sudden', 'suddenly', 'suffer', 'suffered', 'suffering', 'sufferings', 'suffers', 'suffice', 'sufficiency', 'sufficient', 'sufficiently', 'suffrage', 'suffrages', 'sugar', 'suggest', 'suggested', 'suggesting', 'suggestion', 'suggestions', 'suggestive', 'suggests', 'suicide', 'suit', 'suitable', 'suitably', 'suited', 'sum', 'summary', 'summer', 'summit', 'summon', 'summoned', 'summons', 'sums', 'sumter', 'sun', 'sundered', 'sung', 'sunk', 'sunlight', 'suns', 'sunset', 'sunshine', 'superbly', 'superficial', 'superfluous', 'supergovernment', 'superintend', 'superior', 'superiority', 'superiors', 'supersede', 'superseded', 'superstructure', 'supervising', 'supervision', 'supplanted', 'supplement', 'supplemented', 'supplicating', 'supplication', 'supplications', 'supplies', 'supply', 'supplying', 'support', 'supported', 'supporters', 'supporting', 'supports', 'suppose', 'supposed', 'suppress', 'suppressed', 'suppressing', 'suppression', 'supremacy', 'supreme', 'sure', 'surely', 'surer', 'surest', 'surface', 'surge', 'surging', 'surmount', 'surmounting', 'surpass', 'surpassed', 'surpasses', 'surpassing', 'surplus', 'surpluses', 'surprised', 'surrender', 'surrendered', 'surround', 'surrounded', 'surroundings', 'survey', 'surveying', 'surveys', 'survival', 'survive', 'survived', 'surviving', 'susceptible', 'suspected', 'suspended', 'suspension', 'suspicion', 'sustain', 'sustainable', 'sustained', 'sustaining', 'sustenance', 'swallowed', 'swarming', 'sway', 'swayed', 'swear', 'swearing', 'sweat', 'sweats', 'sweatshops', 'sweep', 'sweeping', 'sweet', 'swell', 'swept', 'swerved', 'swift', 'swiftest', 'swill', 'swollen', 'sword', 'sworn', 'symbol', 'symbolizing', 'sympathetic', 'sympathies', 'sympathize', 'sympathized', 'sympathy', 'symptom', 'symptoms', 'synagogue', 'system', 'systematic', 'systems', 'table', 'tactic', 'tain', 'taint', 'take', 'taken', 'takers', 'takes', 'taking', 'talent', 'talents', 'talk', 'talking', 'tangible', 'tanks', 'tap', 'tapping', 'tarawa', 'tardy', 'target', 'targets', 'tariff', 'tariffs', 'tarry', 'task', 'tasked', 'tasks', 'tasted', 'taught', 'tax', 'taxation', 'taxes', 'taxgatherer', 'taxing', 'teach', 'teacher', 'teachers', 'teaches', 'teaching', 'teachings', 'tear', 'tearfully', 'tears', 'technical', 'technicalities', 'techniques', 'technological', 'technologies', 'technology', 'teem', 'teeming', 'telegraph', 'tell', 'telling', 'tells', 'temper', 'temperance', 'temperate', 'tempered', 'tempering', 'tempest', 'temple', 'temporarily', 'temporary', 'tempt', 'temptation', 'temptations', 'tempted', 'tempts', 'ten', 'tend', 'tended', 'tendencies', 'tendency', 'tender', 'tendered', 'tendering', 'tending', 'tends', 'tenets', 'tens', 'tense', 'tentative', 'tenure', 'term', 'termed', 'terminate', 'terminated', 'termination', 'terms', 'terrible', 'terrific', 'terrifying', 'territorial', 'territories', 'territory', 'terror', 'terrorism', 'terrors', 'test', 'testament', 'tested', 'testifying', 'testimony', 'tests', 'texas', 'text', 'texture', 'th', 'than', 'thank', 'thankful', 'thanks', 'that', 'the', 'thee', 'their', 'theirs', 'them', 'theme', 'themes', 'themselves', 'then', 'thence', 'theoretic', 'theorists', 'theory', 'there', 'thereby', 'therefor', 'therefore', 'therefrom', 'therein', 'thereof', 'thereon', 'thereto', 'therewith', 'these', 'they', 'thick', 'thing', 'things', 'think', 'thinking', 'third', 'thirdly', 'thirds', 'thirst', 'thirsting', 'thirteen', 'thirteenth', 'thirty', 'this', 'thomas', 'thorough', 'thoroughly', 'those', 'thou', 'though', 'thought', 'thoughtful', 'thoughtfully', 'thoughts', 'thousand', 'thousands', 'thousandth', 'thrashed', 'threat', 'threaten', 'threatened', 'threatening', 'threatens', 'threats', 'three', 'threefold', 'threshold', 'thrift', 'thrill', 'thrilling', 'thrive', 'thrives', 'thriving', 'throes', 'thrones', 'throng', 'through', 'throughout', 'throw', 'throwing', 'thrown', 'thrust', 'thus', 'thwarted', 'thy', 'tide', 'tides', 'tie', 'ties', 'tiger', 'tightly', 'till', 'tillage', 'tillers', 'time', 'timeless', 'times', 'timi', 'timid', 'timidity', 'tiny', 'tire', 'tireless', 'tirelessly', 'tiring', 'title', 'titles', 'titutions', 'tizens', 'to', 'tobacco', 'today', 'together', 'toil', 'toiled', 'toilers', 'toiling', 'token', 'told', 'tolerance', 'tolerant', 'tolerate', 'tolerated', 'toleration', 'tomb', 'tombstones', 'tomorrow', 'tomorrows', 'tone', 'tones', 'tongues', 'tonnage', 'too', 'took', 'tool', 'tools', 'topic', 'topics', 'toppled', 'torch', 'torment', 'tormented', 'torn', 'torture', 'total', 'totalitarian', 'totally', 'touch', 'touched', 'touching', 'touchstone', 'touchstones', 'toward', 'towards', 'tower', 'town', 'towns', 'traced', 'traces', 'tracing', 'tracts', 'trade', 'traded', 'trading', 'tradition', 'traditional', 'traditions', 'traffic', 'tragedy', 'tragic', 'tragically', 'train', 'trained', 'training', 'trait', 'traitors', 'traits', 'tranquil', 'tranquillity', 'transaction', 'transactions', 'transcend', 'transcended', 'transcendent', 'transcendently', 'transcending', 'transcends', 'transcontinental', 'transfer', 'transferred', 'transferring', 'transfers', 'transform', 'transit', 'transition', 'transitory', 'translated', 'translating', 'transmit', 'transmitted', 'transpire', 'transportation', 'transported', 'trapped', 'trappings', 'travail', 'travel', 'traveled', 'traveler', 'travels', 'traversed', 'traversing', 'tread', 'treading', 'treason', 'treasure', 'treasured', 'treasures', 'treasury', 'treat', 'treated', 'treaties', 'treating', 'treatment', 'treats', 'treaty', 'tree', 'tremble', 'trembling', 'tremendous', 'trend', 'treptow', 'trespass', 'trial', 'trials', 'tribe', 'tribes', 'tribulation', 'tribunal', 'tribunals', 'tributary', 'tribute', 'tried', 'trifling', 'trillions', 'trim', 'triple', 'triumph', 'triumphant', 'triumphantly', 'triumphed', 'triumphs', 'troops', 'tropic', 'troubled', 'troubles', 'troublesome', 'truce', 'truckdrivers', 'truculence', 'true', 'truest', 'truly', 'truman', 'trumpet', 'trumpets', 'trust', 'trusted', 'trustees', 'trustful', 'trusting', 'trusts', 'truth', 'truths', 'try', 'trying', 'tumults', 'tumultuous', 'tunnels', 'turbulence', 'turmoil', 'turn', 'turned', 'turning', 'turns', 'tutor', 'twelve', 'twentieth', 'twenty', 'twice', 'twilight', 'two', 'type', 'tyrannical', 'tyranny', 'tyrant', 'tyrants', 'ultimate', 'ultimately', 'umerable', 'umpire', 'unabashed', 'unabated', 'unable', 'unaccounted', 'unadjusted', 'unafraid', 'unaided', 'unalienable', 'unalloyed', 'unanimity', 'unanimous', 'unanswerably', 'unassailed', 'unattended', 'unauthorized', 'unavoidable', 'unavoidably', 'unbalanced', 'unbending', 'unbiased', 'unborn', 'unbounded', 'unbroken', 'uncanny', 'unceasing', 'unceasingly', 'uncertain', 'uncertainty', 'unchanged', 'unchanging', 'uncharitableness', 'unclench', 'unclimbed', 'uncomplaining', 'uncompromising', 'unconnected', 'unconquerable', 'unconstitutional', 'uncontrollable', 'uncontrolled', 'uncorrupted', 'uncounted', 'uncovered', 'uncrossed', 'unctions', 'undauntedly', 'undelayed', 'under', 'undercurrent', 'underdeveloped', 'undergoing', 'underlies', 'undermine', 'undermines', 'underneath', 'understand', 'understandable', 'understanding', 'understandings', 'understands', 'understood', 'undertake', 'undertaken', 'undertaking', 'undertakings', 'undertone', 'undeserved', 'undeveloped', 'undeviating', 'undiminished', 'undisturbed', 'undo', 'undoing', 'undone', 'undoubted', 'undoubtedly', 'undue', 'unduly', 'uneconomical', 'uneducated', 'unemployed', 'unemployment', 'unequal', 'unequaled', 'unequivocal', 'unerring', 'unessential', 'unexaggerated', 'unexampled', 'unexceptionable', 'unexpected', 'unexplained', 'unexplored', 'unfailing', 'unfair', 'unfairly', 'unfaithful', 'unfaltering', 'unfavorable', 'unfeeling', 'unfinished', 'unfitness', 'unflinching', 'unfocused', 'unfolded', 'unfolding', 'unfolds', 'unforeseen', 'unfortunate', 'unfortunately', 'unfounded', 'unfriendly', 'unfulfilled', 'unfurl', 'unfurling', 'ungrateful', 'ungrudging', 'unhallowed', 'unhampered', 'unhappily', 'unhappy', 'unheeded', 'unhesitatingly', 'unhonored', 'unification', 'uniform', 'uniformly', 'unify', 'unifying', 'unimagined', 'unimpaired', 'unimpressive', 'uninjured', 'uninspiring', 'unintelligible', 'uninteresting', 'uninterrupted', 'union', 'unique', 'unite', 'united', 'unitedly', 'unites', 'unity', 'universal', 'universality', 'universally', 'universe', 'universities', 'unjust', 'unjustified', 'unkept', 'unknowing', 'unknown', 'unlawful', 'unlawfulness', 'unlearned', 'unleash', 'unleashed', 'unless', 'unlike', 'unlikely', 'unlimited', 'unlock', 'unmade', 'unmake', 'unmatched', 'unmindful', 'unmistakable', 'unmolested', 'unmoved', 'unnatural', 'unnecessary', 'unnoticed', 'unobtrusive', 'unparalleled', 'unpatriotic', 'unpleasant', 'unplowed', 'unpracticed', 'unprecedented', 'unprepared', 'unpreparedness', 'unprofitable', 'unprovided', 'unquestionable', 'unquestionably', 'unquestioned', 'unquestioning', 'unrealized', 'unreasonable', 'unreasonably', 'unreasoning', 'unreclaimed', 'unrecompensed', 'unregarded', 'unremittingly', 'unrepealed', 'unrequited', 'unreserved', 'unrestrained', 'unrestricted', 'unrivaled', 'unscrupulous', 'unselfish', 'unselfishness', 'unsettled', 'unshaken', 'unsolicited', 'unsolvable', 'unsought', 'unspeakable', 'unspoken', 'unstable', 'unstoppable', 'unstrained', 'unsubstantial', 'unsuccessful', 'unsung', 'unsurpassed', 'untamed', 'untarnished', 'untended', 'until', 'unto', 'untouched', 'untrammeled', 'untried', 'untroubled', 'untrue', 'untrusting', 'untruths', 'unused', 'unusual', 'unvexed', 'unwanted', 'unwarrantable', 'unwasted', 'unwavering', 'unwholesome', 'unwilling', 'unwise', 'unwisely', 'unworthiness', 'unworthy', 'up', 'upbraidings', 'upbuilding', 'upgrade', 'upheaval', 'upheavals', 'upheld', 'uphold', 'upholding', 'upon', 'upper', 'uppermost', 'upright', 'uprooted', 'uprooting', 'upward', 'urban', 'urge', 'urged', 'urgent', 'urgently', 'urging', 'us', 'usage', 'usages', 'use', 'used', 'useful', 'usefulness', 'useless', 'uselessly', 'uses', 'ushered', 'ushering', 'using', 'usual', 'usually', 'usurp', 'usurpation', 'usurpations', 'usurped', 'usurper', 'usury', 'utilities', 'utmost', 'utter', 'utterance', 'uttered', 'uttering', 'utterly', 'uttermost', 'vacant', 'vain', 'vainglory', 'valiantly', 'valid', 'valley', 'valleys', 'valor', 'valuable', 'value', 'valued', 'values', 'vanish', 'vanquished', 'variance', 'variations', 'varied', 'varieties', 'variety', 'various', 'varnish', 'vary', 'varying', 'vast', 'vastly', 'vaults', 've', 'veil', 'venality', 'venerated', 'veneration', 'venture', 'ventured', 'ventures', 'verbal', 'verdict', 'verified', 'very', 'vessel', 'vessels', 'vested', 'veto', 'vexation', 'vibrant', 'vibrations', 'vice', 'vicious', 'vicissitude', 'vicissitudes', 'victim', 'victims', 'victories', 'victorious', 'victory', 'vietnam', 'view', 'viewed', 'viewing', 'viewpoint', 'views', 'vigilance', 'vigilant', 'vigilantly', 'vigor', 'vigorous', 'vigorously', 'village', 'villages', 'vindicate', 'vindicated', 'vindication', 'vindictiveness', 'violate', 'violated', 'violates', 'violation', 'violative', 'violence', 'violent', 'virginia', 'virility', 'virtual', 'virtually', 'virtue', 'virtues', 'virtuous', 'visible', 'vision', 'visionary', 'visit', 'visitation', 'visited', 'vista', 'vital', 'vitality', 'vitalizing', 'vitally', 'vitals', 'voice', 'voices', 'void', 'volume', 'voluntarily', 'voluntary', 'volunteer', 'volution', 'vote', 'voted', 'voter', 'voters', 'votes', 'voting', 'vouchsafed', 'vow', 'vowed', 'vows', 'voyage', 'vulnerability', 'vulnerable', 'wage', 'waged', 'wages', 'waging', 'wait', 'waited', 'waiting', 'waketh', 'walk', 'walked', 'wall', 'wallet', 'walls', 'wander', 'wane', 'want', 'wanted', 'wanting', 'wants', 'war', 'wards', 'warfare', 'warm', 'warmed', 'warming', 'warmly', 'warms', 'warmth', 'warned', 'warns', 'warrant', 'warren', 'warriors', 'wars', 'wartime', 'was', 'washington', 'wastage', 'waste', 'wasted', 'wasteful', 'wastefulness', 'watch', 'watched', 'watchful', 'watchfulness', 'watching', 'watchman', 'water', 'watercourses', 'waters', 'waterway', 'waterways', 'wave', 'waved', 'waver', 'wavering', 'waves', 'way', 'ways', 'we', 'weak', 'weaken', 'weakened', 'weakening', 'weaker', 'weakest', 'weakness', 'weaknesses', 'weal', 'wealth', 'wealthy', 'weapon', 'weapons', 'weary', 'weaving', 'webster', 'weed', 'week', 'weeks', 'weigh', 'weighed', 'weight', 'weightiest', 'weighty', 'welcome', 'welcomed', 'weld', 'welfare', 'well', 'wellspring', 'went', 'were', 'west', 'western', 'westward', 'wh', 'what', 'whatever', 'whatsoever', 'wheat', 'wheels', 'when', 'whenever', 'where', 'whereas', 'wherein', 'whereof', 'wherever', 'whether', 'which', 'while', 'whilst', 'whip', 'whirlwind', 'whisper', 'white', 'whitened', 'whites', 'whither', 'who', 'whoever', 'whole', 'wholesome', 'wholly', 'whom', 'whomsoever', 'whose', 'why', 'wi', 'wicked', 'wickedness', 'wide', 'widely', 'widen', 'widened', 'widening', 'wider', 'widespread', 'widow', 'widows', 'wield', 'wields', 'wife', 'wild', 'wilderness', 'will', 'willing', 'willingly', 'willingness', 'wills', 'wily', 'win', 'wind', 'winding', 'window', 'windows', 'winds', 'wings', 'winning', 'winston', 'winter', 'wipe', 'wisdom', 'wise', 'wisely', 'wiser', 'wisest', 'wish', 'wished', 'wishes', 'wishing', 'wit', 'with', 'withal', 'withdraw', 'withdrawal', 'withdrew', 'wither', 'withered', 'withheld', 'withhold', 'within', 'without', 'withstood', 'witness', 'witnessed', 'witnesses', 'wives', 'woe', 'woman', 'womanhood', 'women', 'won', 'wonder', 'wonderful', 'wonders', 'wonted', 'wood', 'woodsmen', 'word', 'words', 'work', 'worked', 'worker', 'workers', 'workforce', 'working', 'workingman', 'workingmen', 'workmanship', 'works', 'workshop', 'world', 'worldly', 'worlds', 'worldwide', 'worm', 'worn', 'worry', 'worse', 'worship', 'worst', 'worth', 'worthily', 'worthless', 'worthy', 'would', 'wouldn', 'wounded', 'wounds', 'wreckage', 'wrecked', 'wrest', 'wretchedness', 'wright', 'wringing', 'writ', 'write', 'writers', 'writing', 'written', 'wrong', 'wrongdoing', 'wronged', 'wrongfully', 'wrongs', 'wrote', 'wrought', 'year', 'yearn', 'yearning', 'years', 'yes', 'yesterday', 'yesterdays', 'yet', 'yield', 'yielded', 'yielding', 'yields', 'york', 'yorktown', 'you', 'young', 'younger', 'youngest', 'your', 'yours', 'yourself', 'yourselves', 'youth', 'youthful', 'zeal', 'zealous', 'zealously', 'zone']\n"
     ]
    }
   ],
   "source": [
    "## Counting words (I)\n",
    "\n",
    "# Import CountVectorizer\n",
    "from sklearn.feature_extraction.text import CountVectorizer\n",
    "\n",
    "# Instantiate CountVectorizer\n",
    "cv = CountVectorizer()\n",
    "\n",
    "# Fit the vectorizer\n",
    "cv.fit(speech_df['text_clean'])\n",
    "\n",
    "# Print feature names\n",
    "print(cv.get_feature_names())"
   ]
  },
  {
   "cell_type": "code",
   "execution_count": null,
   "metadata": {},
   "outputs": [],
   "source": []
  },
  {
   "cell_type": "code",
   "execution_count": 107,
   "metadata": {},
   "outputs": [
    {
     "name": "stdout",
     "output_type": "stream",
     "text": [
      "(58, 9043)\n"
     ]
    }
   ],
   "source": [
    "## Counting words (II)\n",
    "\n",
    "# Apply the vectorizer\n",
    "cv_transformed = cv.transform(speech_df['text_clean'])\n",
    "\n",
    "# Print the full array\n",
    "cv_array = cv_transformed.toarray()\n",
    "\n",
    "# Print the shape of cv_array\n",
    "print(cv_array.shape)"
   ]
  },
  {
   "cell_type": "code",
   "execution_count": null,
   "metadata": {},
   "outputs": [],
   "source": []
  },
  {
   "cell_type": "code",
   "execution_count": 108,
   "metadata": {},
   "outputs": [
    {
     "name": "stdout",
     "output_type": "stream",
     "text": [
      "(58, 818)\n"
     ]
    }
   ],
   "source": [
    "## Limiting your features\n",
    "\n",
    "# Import CountVectorizer\n",
    "from sklearn.feature_extraction.text import CountVectorizer\n",
    "\n",
    "# Specify arguements to limit the number of features generated\n",
    "cv = CountVectorizer(min_df=.2, max_df=.8)\n",
    "\n",
    "# Fit, transform, and convert into array\n",
    "cv_transformed = cv.fit_transform(speech_df['text_clean'])\n",
    "cv_array = cv_transformed.toarray()\n",
    "\n",
    "# Print the array shape\n",
    "print(cv_array.shape)"
   ]
  },
  {
   "cell_type": "code",
   "execution_count": null,
   "metadata": {},
   "outputs": [],
   "source": []
  },
  {
   "cell_type": "code",
   "execution_count": 109,
   "metadata": {},
   "outputs": [
    {
     "name": "stdout",
     "output_type": "stream",
     "text": [
      "                Name         Inaugural Address                      Date  \\\n",
      "0  George Washington   First Inaugural Address  Thursday, April 30, 1789   \n",
      "1  George Washington  Second Inaugural Address     Monday, March 4, 1793   \n",
      "2         John Adams         Inaugural Address   Saturday, March 4, 1797   \n",
      "3   Thomas Jefferson   First Inaugural Address  Wednesday, March 4, 1801   \n",
      "4   Thomas Jefferson  Second Inaugural Address     Monday, March 4, 1805   \n",
      "\n",
      "                                                text  \\\n",
      "0  Fellow-Citizens of the Senate and of the House...   \n",
      "1  Fellow Citizens:  I AM again called upon by th...   \n",
      "2  WHEN it was first perceived, in early times, t...   \n",
      "3  Friends and Fellow-Citizens:  CALLED upon to u...   \n",
      "4  PROCEEDING, fellow-citizens, to that qualifica...   \n",
      "\n",
      "                                          text_clean  char_cnt  word_cnt  \\\n",
      "0  fellow citizens of the senate and of the house...      8616      1432   \n",
      "1  fellow citizens   i am again called upon by th...       787       135   \n",
      "2  when it was first perceived  in early times  t...     13871      2323   \n",
      "3  friends and fellow citizens   called upon to u...     10144      1736   \n",
      "4  proceeding  fellow citizens  to that qualifica...     12902      2169   \n",
      "\n",
      "   avg_word_length  Counts_abiding  Counts_ability  ...  Counts_women  \\\n",
      "0         6.016760               0               0  ...             0   \n",
      "1         5.829630               0               0  ...             0   \n",
      "2         5.971158               0               0  ...             0   \n",
      "3         5.843318               0               0  ...             0   \n",
      "4         5.948363               0               0  ...             0   \n",
      "\n",
      "   Counts_words  Counts_work  Counts_wrong  Counts_year  Counts_years  \\\n",
      "0             0            0             0            0             1   \n",
      "1             0            0             0            0             0   \n",
      "2             0            0             0            2             3   \n",
      "3             0            1             2            0             0   \n",
      "4             0            0             0            2             2   \n",
      "\n",
      "   Counts_yet  Counts_you  Counts_young  Counts_your  \n",
      "0           0           5             0            9  \n",
      "1           0           0             0            1  \n",
      "2           0           0             0            1  \n",
      "3           2           7             0            7  \n",
      "4           2           4             0            4  \n",
      "\n",
      "[5 rows x 826 columns]\n"
     ]
    }
   ],
   "source": [
    "## Text to DataFrame\n",
    "\n",
    "# Create a DataFrame with these features\n",
    "cv_df = pd.DataFrame(data=cv_array, \n",
    "                     columns=cv.get_feature_names()).add_prefix('Counts_')\n",
    "\n",
    "# Add the new columns to the original DataFrame\n",
    "speech_df_new = pd.concat([speech_df, cv_df], axis=1, sort=False)\n",
    "print(speech_df_new.head())\n"
   ]
  },
  {
   "cell_type": "code",
   "execution_count": null,
   "metadata": {},
   "outputs": [],
   "source": []
  },
  {
   "cell_type": "code",
   "execution_count": 110,
   "metadata": {},
   "outputs": [
    {
     "name": "stdout",
     "output_type": "stream",
     "text": [
      "   TFIDF_action  TFIDF_administration  TFIDF_america  TFIDF_american  \\\n",
      "0      0.000000              0.133415       0.000000        0.105388   \n",
      "1      0.000000              0.261016       0.266097        0.000000   \n",
      "2      0.000000              0.092436       0.157058        0.073018   \n",
      "3      0.000000              0.092693       0.000000        0.000000   \n",
      "4      0.041334              0.039761       0.000000        0.031408   \n",
      "\n",
      "   TFIDF_americans  TFIDF_believe  TFIDF_best  TFIDF_better  TFIDF_change  \\\n",
      "0              0.0       0.000000    0.000000      0.000000      0.000000   \n",
      "1              0.0       0.000000    0.000000      0.000000      0.000000   \n",
      "2              0.0       0.000000    0.026112      0.060460      0.000000   \n",
      "3              0.0       0.090942    0.117831      0.045471      0.053335   \n",
      "4              0.0       0.000000    0.067393      0.039011      0.091514   \n",
      "\n",
      "   TFIDF_citizens  ...  TFIDF_things  TFIDF_time  TFIDF_today  TFIDF_union  \\\n",
      "0        0.229644  ...      0.000000    0.045929          0.0     0.136012   \n",
      "1        0.179712  ...      0.000000    0.000000          0.0     0.000000   \n",
      "2        0.106072  ...      0.032030    0.021214          0.0     0.062823   \n",
      "3        0.223369  ...      0.048179    0.000000          0.0     0.094497   \n",
      "4        0.273760  ...      0.082667    0.164256          0.0     0.121605   \n",
      "\n",
      "   TFIDF_united  TFIDF_war  TFIDF_way  TFIDF_work  TFIDF_world  TFIDF_years  \n",
      "0      0.203593   0.000000   0.060755    0.000000     0.045929     0.052694  \n",
      "1      0.199157   0.000000   0.000000    0.000000     0.000000     0.000000  \n",
      "2      0.070529   0.024339   0.000000    0.000000     0.063643     0.073018  \n",
      "3      0.000000   0.036610   0.000000    0.039277     0.095729     0.000000  \n",
      "4      0.030338   0.094225   0.000000    0.000000     0.054752     0.062817  \n",
      "\n",
      "[5 rows x 100 columns]\n"
     ]
    }
   ],
   "source": [
    "## Tf-idf\n",
    "\n",
    "# Import TfidfVectorizer\n",
    "from sklearn.feature_extraction.text import TfidfVectorizer\n",
    "\n",
    "# Instantiate TfidfVectorizer\n",
    "tv = TfidfVectorizer(max_features=100, stop_words='english')\n",
    "\n",
    "# Fit the vectroizer and transform the data\n",
    "tv_transformed = tv.fit_transform(speech_df['text_clean'])\n",
    "\n",
    "# Create a DataFrame with these features\n",
    "tv_df = pd.DataFrame(tv_transformed.toarray(), \n",
    "                     columns=tv.get_feature_names()).add_prefix('TFIDF_')\n",
    "print(tv_df.head())"
   ]
  },
  {
   "cell_type": "code",
   "execution_count": null,
   "metadata": {},
   "outputs": [],
   "source": []
  },
  {
   "cell_type": "code",
   "execution_count": 111,
   "metadata": {},
   "outputs": [
    {
     "name": "stdout",
     "output_type": "stream",
     "text": [
      "TFIDF_government    0.367430\n",
      "TFIDF_public        0.333237\n",
      "TFIDF_present       0.315182\n",
      "TFIDF_duty          0.238637\n",
      "TFIDF_citizens      0.229644\n",
      "Name: 0, dtype: float64\n"
     ]
    }
   ],
   "source": [
    "## Inspecting Tf-idf values\n",
    "\n",
    "# Isolate the row to be examined\n",
    "sample_row = tv_df.iloc[0]\n",
    "\n",
    "# Print the top 5 words of the sorted output\n",
    "print(sample_row.sort_values(ascending=False).head())"
   ]
  },
  {
   "cell_type": "code",
   "execution_count": 123,
   "metadata": {},
   "outputs": [],
   "source": [
    "train_speech_df = speech_df[:50]\n",
    "test_speech_df = speech_df[50:]"
   ]
  },
  {
   "cell_type": "code",
   "execution_count": 124,
   "metadata": {},
   "outputs": [
    {
     "name": "stdout",
     "output_type": "stream",
     "text": [
      "   TFIDF_action  TFIDF_administration  TFIDF_america  TFIDF_american  \\\n",
      "0      0.069078                   0.0       0.259178        0.054648   \n",
      "1      0.000000                   0.0       0.637038        0.104471   \n",
      "2      0.000000                   0.0       0.417105        0.184688   \n",
      "3      0.000000                   0.0       0.499911        0.134153   \n",
      "4      0.000000                   0.0       0.499404        0.036855   \n",
      "\n",
      "   TFIDF_believe  TFIDF_best  TFIDF_better  TFIDF_business  TFIDF_citizens  \\\n",
      "0       0.000000    0.027324      0.165151        0.000000        0.046581   \n",
      "1       0.000000    0.026118      0.094716        0.043573        0.066787   \n",
      "2       0.000000    0.000000      0.099226        0.000000        0.122441   \n",
      "3       0.079328    0.134153      0.000000        0.000000        0.257287   \n",
      "4       0.043586    0.036855      0.000000        0.000000        0.094243   \n",
      "\n",
      "   TFIDF_come  ...  TFIDF_strength  TFIDF_support  TFIDF_time  TFIDF_union  \\\n",
      "0    0.064629  ...        0.106007       0.000000    0.163032     0.034539   \n",
      "1    0.030888  ...        0.033776       0.000000    0.155835     0.000000   \n",
      "2    0.121345  ...        0.053076       0.000000    0.209899     0.103758   \n",
      "3    0.039664  ...        0.043372       0.000000    0.114350     0.042394   \n",
      "4    0.043586  ...        0.023831       0.020011    0.109950     0.023293   \n",
      "\n",
      "   TFIDF_united  TFIDF_war  TFIDF_way  TFIDF_work  TFIDF_world  TFIDF_years  \n",
      "0      0.075633   0.078723   0.096943    0.207704     0.232903     0.053551  \n",
      "1      0.000000   0.050165   0.092664    0.170173     0.445244     0.000000  \n",
      "2      0.000000   0.019708   0.048538    0.178275     0.262373     0.060327  \n",
      "3      0.061890   0.032209   0.079328    0.145682     0.085762     0.065730  \n",
      "4      0.085012   0.000000   0.021793    0.120066     0.125657     0.054173  \n",
      "\n",
      "[5 rows x 100 columns]\n"
     ]
    }
   ],
   "source": [
    "## Transforming unseen data\n",
    "\n",
    "# Instantiate TfidfVectorizer\n",
    "tv = TfidfVectorizer(max_features=100, stop_words='english')\n",
    "\n",
    "# Fit the vectroizer and transform the data\n",
    "tv_transformed = tv.fit_transform(train_speech_df['text_clean'])\n",
    "\n",
    "# Transform test data\n",
    "test_tv_transformed = tv.transform(test_speech_df['text_clean'])\n",
    "\n",
    "# Create new features for the test set\n",
    "test_tv_df = pd.DataFrame(test_tv_transformed.toarray(), \n",
    "                          columns=tv.get_feature_names()).add_prefix('TFIDF_')\n",
    "\n",
    "print(test_tv_df.head())"
   ]
  },
  {
   "cell_type": "code",
   "execution_count": null,
   "metadata": {},
   "outputs": [],
   "source": []
  },
  {
   "cell_type": "code",
   "execution_count": 125,
   "metadata": {},
   "outputs": [
    {
     "name": "stdout",
     "output_type": "stream",
     "text": [
      "['0092 ideal freedom', 'ability preserve protect', 'agriculture commerce manufactures', 'america 0092 ideal', 'best ability preserve', 'best interests country', 'bless god bless', 'bless united states', 'chief justice mr', 'children children children', 'citizens united states', 'civil religious liberty', 'commerce united states', 'concern thank god', 'confidence fellow citizens', 'congress extraordinary session', 'constitution does expressly', 'constitution united states', 'coordinate branches government', 'day task people', 'defend constitution united', 'desire determined work', 'distinguished guests fellow', 'does expressly say', 'equal exact justice', 'era good feeling', 'executive branch government', 'faithfully execute office', 'fellow citizens assembled', 'fellow citizens called', 'fellow citizens large', 'fellow citizens world', 'form perfect union', 'general welfare secure', 'god bless america', 'god bless god', 'good greatest number', 'government united states', 'granted federal government', 'great body people', 'great mass people', 'great political parties', 'greatest good greatest', 'guests fellow citizens', 'interests united states', 'land new promise', 'laws faithfully executed', 'letter spirit constitution', 'liberty pursuit happiness', 'life liberty pursuit', 'local self government', 'make hard choices', 'men women children', 'mr chief justice', 'mr vice president', 'nation like person', 'new breeze blowing', 'new jobs new', 'new level respect', 'new order things', 'new retreat responsibilities', 'new states admitted', 'north south east', 'oath prescribed constitution', 'office president united', 'peace shall strive', 'peace unless america', 'peace world peace', 'peaceful settlement disputes', 'people united states', 'policy united states', 'power general government', 'preserve protect defend', 'president united states', 'president vice president', 'promote general welfare', 'proof confidence fellow', 'protect defend constitution', 'protection great interests', 'reform civil service', 'republican model government', 'require thee justly', 'reserved states people', 'secure blessings liberty', 'soldiers sailors widows', 'south east west', 'sovereignty general government', 'states admitted union', 'taken oath office', 'territories united states', 'thank god bless', 'turning away old', 'united states 0097', 'united states america', 'united states best', 'united states government', 'united states great', 'united states maintain', 'vice president mr', 'welfare secure blessings']\n"
     ]
    }
   ],
   "source": [
    "## Using longer n-grams\n",
    "\n",
    "# Import CountVectorizer\n",
    "from sklearn.feature_extraction.text import CountVectorizer\n",
    "\n",
    "# Instantiate a trigram vectorizer\n",
    "cv_trigram_vec = CountVectorizer(max_features=100, \n",
    "                                 stop_words='english', \n",
    "                                 ngram_range=(3,3))\n",
    "\n",
    "# Fit and apply trigram vectorizer\n",
    "cv_trigram = cv_trigram_vec.fit_transform(speech_df['text'])\n",
    "\n",
    "# Print the trigram features\n",
    "print(cv_trigram_vec.get_feature_names())"
   ]
  },
  {
   "cell_type": "code",
   "execution_count": null,
   "metadata": {},
   "outputs": [],
   "source": []
  },
  {
   "cell_type": "code",
   "execution_count": 126,
   "metadata": {},
   "outputs": [
    {
     "name": "stdout",
     "output_type": "stream",
     "text": [
      "Counts_constitution united states    20\n",
      "Counts_people united states          13\n",
      "Counts_preserve protect defend       10\n",
      "Counts_mr chief justice              10\n",
      "Counts_president united states        8\n",
      "dtype: int64\n"
     ]
    }
   ],
   "source": [
    "## Finding the most common words\n",
    "\n",
    "# Create a DataFrame of the features\n",
    "cv_tri_df = pd.DataFrame(cv_trigram.toarray(), \n",
    "                 columns=cv_trigram_vec.get_feature_names()).add_prefix('Counts_')\n",
    "\n",
    "# Print the top 5 words in the sorted output\n",
    "print(cv_tri_df.sum().sort_values(ascending=False).head())"
   ]
  },
  {
   "cell_type": "code",
   "execution_count": null,
   "metadata": {},
   "outputs": [],
   "source": []
  },
  {
   "cell_type": "code",
   "execution_count": null,
   "metadata": {},
   "outputs": [],
   "source": []
  }
 ],
 "metadata": {
  "kernelspec": {
   "display_name": "Python 3",
   "language": "python",
   "name": "python3"
  },
  "language_info": {
   "codemirror_mode": {
    "name": "ipython",
    "version": 3
   },
   "file_extension": ".py",
   "mimetype": "text/x-python",
   "name": "python",
   "nbconvert_exporter": "python",
   "pygments_lexer": "ipython3",
   "version": "3.7.3"
  }
 },
 "nbformat": 4,
 "nbformat_minor": 2
}
